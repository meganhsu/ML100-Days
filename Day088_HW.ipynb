{
  "nbformat": 4,
  "nbformat_minor": 0,
  "metadata": {
    "colab": {
      "name": "Day088_HW.ipynb",
      "version": "0.3.2",
      "provenance": [],
      "include_colab_link": true
    },
    "language_info": {
      "codemirror_mode": {
        "name": "ipython",
        "version": 3
      },
      "file_extension": ".py",
      "mimetype": "text/x-python",
      "name": "python",
      "nbconvert_exporter": "python",
      "pygments_lexer": "ipython3",
      "version": "3.6.5"
    },
    "kernelspec": {
      "name": "python3",
      "display_name": "Python 3"
    },
    "accelerator": "TPU"
  },
  "cells": [
    {
      "cell_type": "markdown",
      "metadata": {
        "id": "view-in-github",
        "colab_type": "text"
      },
      "source": [
        "<a href=\"https://colab.research.google.com/github/meganhsu/ML100-Days/blob/master/Day088_HW.ipynb\" target=\"_parent\"><img src=\"https://colab.research.google.com/assets/colab-badge.svg\" alt=\"Open In Colab\"/></a>"
      ]
    },
    {
      "metadata": {
        "id": "ir8mOA1MZOZl",
        "colab_type": "text"
      },
      "cell_type": "markdown",
      "source": [
        "## Work\n",
        "1. 請嘗試寫一個 callback 用來記錄各類別在訓練過程中，對驗證集的 True Positive 與 True Negative"
      ]
    },
    {
      "metadata": {
        "id": "OEcFOj7kZOZn",
        "colab_type": "code",
        "colab": {
          "base_uri": "https://localhost:8080/",
          "height": 34
        },
        "outputId": "97d4bd11-6017-48e8-bb9e-d7d3d9f15bdd"
      },
      "cell_type": "code",
      "source": [
        "import os\n",
        "import keras\n",
        "\n",
        "# Disable GPU\n",
        "os.environ[\"CUDA_VISIBLE_DEVICES\"] = \"\""
      ],
      "execution_count": 1,
      "outputs": [
        {
          "output_type": "stream",
          "text": [
            "Using TensorFlow backend.\n"
          ],
          "name": "stderr"
        }
      ]
    },
    {
      "metadata": {
        "id": "Fq2JSIPSZOZr",
        "colab_type": "code",
        "colab": {}
      },
      "cell_type": "code",
      "source": [
        "train, test = keras.datasets.cifar10.load_data()"
      ],
      "execution_count": 0,
      "outputs": []
    },
    {
      "metadata": {
        "id": "baJHYiH9ZOZu",
        "colab_type": "code",
        "colab": {}
      },
      "cell_type": "code",
      "source": [
        "## 資料前處理\n",
        "def preproc_x(x, flatten=True):\n",
        "    x = x / 255.\n",
        "    if flatten:\n",
        "        x = x.reshape((len(x), -1))\n",
        "    return x\n",
        "\n",
        "def preproc_y(y, num_classes=10):\n",
        "    if y.shape[-1] == 1:\n",
        "        y = keras.utils.to_categorical(y, num_classes)\n",
        "    return y    "
      ],
      "execution_count": 0,
      "outputs": []
    },
    {
      "metadata": {
        "id": "TIV6bBY8ZOZy",
        "colab_type": "code",
        "colab": {}
      },
      "cell_type": "code",
      "source": [
        "x_train, y_train = train\n",
        "x_test, y_test = test\n",
        "\n",
        "# Preproc the inputs\n",
        "x_train = preproc_x(x_train)\n",
        "x_test = preproc_x(x_test)\n",
        "\n",
        "# Preprc the outputs\n",
        "y_train = preproc_y(y_train)\n",
        "y_test = preproc_y(y_test)"
      ],
      "execution_count": 0,
      "outputs": []
    },
    {
      "metadata": {
        "id": "y8vk4AvqZOZ1",
        "colab_type": "code",
        "colab": {}
      },
      "cell_type": "code",
      "source": [
        "from keras.layers import BatchNormalization\n",
        "def build_mlp(input_shape, output_units=10, num_neurons=[256, 256, 256]):\n",
        "    \"\"\"\n",
        "    TO DO:\n",
        "    Build your own model\n",
        "    \"\"\"\n",
        "    input_layer = keras.layers.Input(input_shape)\n",
        "    \n",
        "    for i, n_units in enumerate(num_neurons):\n",
        "        if i == 0:\n",
        "            x = keras.layers.Dense(units=n_units, \n",
        "                                   activation=\"relu\", \n",
        "                                   name=\"hidden_layer\"+str(i+1))(input_layer)\n",
        "            x = BatchNormalization()(x)\n",
        "        else:\n",
        "            x = keras.layers.Dense(units=n_units, \n",
        "                                   activation=\"relu\", \n",
        "                                   name=\"hidden_layer\"+str(i+1))(x)\n",
        "            x = BatchNormalization()(x)\n",
        "    \n",
        "    out = keras.layers.Dense(units=output_units, activation=\"softmax\", name=\"output\")(x)\n",
        "    \n",
        "    model = keras.models.Model(inputs=[input_layer], outputs=[out])\n",
        "    return model"
      ],
      "execution_count": 0,
      "outputs": []
    },
    {
      "metadata": {
        "id": "Y5l7yLRhZOZ4",
        "colab_type": "code",
        "colab": {}
      },
      "cell_type": "code",
      "source": [
        "## 超參數設定\n",
        "LEARNING_RATE = 1e-3\n",
        "EPOCHS = 25\n",
        "BATCH_SIZE = 2048\n",
        "MOMENTUM = 0.95"
      ],
      "execution_count": 0,
      "outputs": []
    },
    {
      "metadata": {
        "id": "m_jbmRMhZOZ7",
        "colab_type": "code",
        "colab": {}
      },
      "cell_type": "code",
      "source": [
        "# 載入 Callbacks\n",
        "from keras.callbacks import Callback\n",
        "from sklearn.metrics import recall_score\n",
        "\n",
        "# Record_fp_tp\n",
        "class Record_tp_tn(Callback):\n",
        "    \"\"\"Define a callback function to collect tp/tn, named Record_fp_tp.\n",
        "    \"\"\"\n",
        "    def on_train_begin(self, epoch, logs = {}):\n",
        "        logs = logs or {}\n",
        "        record_items = [\"val_auc\", \"val_f1sc\", \"val_fp\", \"val_fn\", \"val_tp\", \"val_tn\"]\n",
        "        for i in record_items:\n",
        "            if i not in self.params['metrics']:\n",
        "                self.params['metrics'].append(i)\n",
        "    \n",
        "    def on_epoch_end(self, epoch, logs = {}, thres=0.5):\n",
        "        logs = logs or {}\n",
        "        y_true = self.validation_data[1].argmax(axis = 1)\n",
        "        y_pred = self.model.predict(self.validation_data[0])\n",
        "        y_pred_p = (y_pred[:, 1] >= thres) * 1\n",
        "        y_pred_n = (y_pred[:, 1] < thres) * 1\n",
        "        # True positive rate, Recall, Sensitivity \n",
        "        logs['val_tp'] = recall_score(y_true, y_pred_p, average='weighted')\n",
        "        logs['val_tn'] = recall_score(y_true, y_pred_n, average='weighted')\n",
        "                \n",
        "rec_tptn = Record_tp_tn()"
      ],
      "execution_count": 0,
      "outputs": []
    },
    {
      "metadata": {
        "scrolled": true,
        "id": "VZYQXOZIZOZ-",
        "colab_type": "code",
        "colab": {
          "base_uri": "https://localhost:8080/",
          "height": 1413
        },
        "outputId": "75feecf5-c5a2-452e-c65a-eb718409b13b"
      },
      "cell_type": "code",
      "source": [
        "model = build_mlp(input_shape=x_train.shape[1:])\n",
        "model.summary()\n",
        "optimizer = keras.optimizers.SGD(lr=LEARNING_RATE, nesterov=True, momentum=MOMENTUM)\n",
        "model.compile(loss=\"categorical_crossentropy\", metrics=[\"accuracy\"], optimizer=optimizer)\n",
        "\n",
        "\"\"\"\n",
        "To do:\n",
        "Fit the model with rec_tptn callback_fn\n",
        "\"\"\"\n",
        "model.fit(x_train, y_train, \n",
        "          epochs=EPOCHS, \n",
        "          batch_size=BATCH_SIZE, \n",
        "          validation_data=(x_test, y_test), \n",
        "          shuffle=True,\n",
        "          callbacks=[rec_tptn]\n",
        "         )\n",
        "\n",
        "# Collect results\n",
        "train_loss = model.history.history[\"loss\"]\n",
        "valid_loss = model.history.history[\"val_loss\"]\n",
        "train_acc = model.history.history[\"acc\"]\n",
        "valid_acc = model.history.history[\"val_acc\"]\n",
        "\n",
        "\"\"\"\n",
        "To do:\n",
        "Collect tp/tn from model history\n",
        "\"\"\"\n",
        "valid_tp = model.history.history['val_tp']\n",
        "valid_tn = model.history.history['val_tn']"
      ],
      "execution_count": 8,
      "outputs": [
        {
          "output_type": "stream",
          "text": [
            "WARNING:tensorflow:From /usr/local/lib/python3.6/dist-packages/tensorflow/python/framework/op_def_library.py:263: colocate_with (from tensorflow.python.framework.ops) is deprecated and will be removed in a future version.\n",
            "Instructions for updating:\n",
            "Colocations handled automatically by placer.\n",
            "_________________________________________________________________\n",
            "Layer (type)                 Output Shape              Param #   \n",
            "=================================================================\n",
            "input_1 (InputLayer)         (None, 3072)              0         \n",
            "_________________________________________________________________\n",
            "hidden_layer1 (Dense)        (None, 256)               786688    \n",
            "_________________________________________________________________\n",
            "batch_normalization_1 (Batch (None, 256)               1024      \n",
            "_________________________________________________________________\n",
            "hidden_layer2 (Dense)        (None, 256)               65792     \n",
            "_________________________________________________________________\n",
            "batch_normalization_2 (Batch (None, 256)               1024      \n",
            "_________________________________________________________________\n",
            "hidden_layer3 (Dense)        (None, 256)               65792     \n",
            "_________________________________________________________________\n",
            "batch_normalization_3 (Batch (None, 256)               1024      \n",
            "_________________________________________________________________\n",
            "output (Dense)               (None, 10)                2570      \n",
            "=================================================================\n",
            "Total params: 923,914\n",
            "Trainable params: 922,378\n",
            "Non-trainable params: 1,536\n",
            "_________________________________________________________________\n",
            "WARNING:tensorflow:From /usr/local/lib/python3.6/dist-packages/tensorflow/python/ops/math_ops.py:3066: to_int32 (from tensorflow.python.ops.math_ops) is deprecated and will be removed in a future version.\n",
            "Instructions for updating:\n",
            "Use tf.cast instead.\n",
            "Train on 50000 samples, validate on 10000 samples\n",
            "Epoch 1/25\n",
            "50000/50000 [==============================] - 13s 266us/step - loss: 2.5051 - acc: 0.2010 - val_loss: 2.4515 - val_acc: 0.2446\n",
            "Epoch 2/25\n",
            "50000/50000 [==============================] - 11s 227us/step - loss: 1.9737 - acc: 0.3263 - val_loss: 2.1715 - val_acc: 0.3022\n",
            "Epoch 3/25\n",
            "50000/50000 [==============================] - 11s 227us/step - loss: 1.7952 - acc: 0.3746 - val_loss: 1.9466 - val_acc: 0.3434\n",
            "Epoch 4/25\n",
            "50000/50000 [==============================] - 11s 225us/step - loss: 1.6982 - acc: 0.4052 - val_loss: 1.8344 - val_acc: 0.3679\n",
            "Epoch 5/25\n",
            "50000/50000 [==============================] - 11s 230us/step - loss: 1.6371 - acc: 0.4266 - val_loss: 1.7504 - val_acc: 0.3923\n",
            "Epoch 6/25\n",
            "50000/50000 [==============================] - 11s 225us/step - loss: 1.5898 - acc: 0.4420 - val_loss: 1.6936 - val_acc: 0.4112\n",
            "Epoch 7/25\n",
            "50000/50000 [==============================] - 10s 206us/step - loss: 1.5528 - acc: 0.4548 - val_loss: 1.6546 - val_acc: 0.4260\n",
            "Epoch 8/25\n",
            "50000/50000 [==============================] - 10s 207us/step - loss: 1.5215 - acc: 0.4678 - val_loss: 1.6272 - val_acc: 0.4339\n",
            "Epoch 9/25\n",
            "50000/50000 [==============================] - 11s 224us/step - loss: 1.4921 - acc: 0.4787 - val_loss: 1.6185 - val_acc: 0.4335\n",
            "Epoch 10/25\n",
            "50000/50000 [==============================] - 11s 221us/step - loss: 1.4682 - acc: 0.4858 - val_loss: 1.5895 - val_acc: 0.4449\n",
            "Epoch 11/25\n",
            "50000/50000 [==============================] - 12s 231us/step - loss: 1.4462 - acc: 0.4948 - val_loss: 1.5751 - val_acc: 0.4472\n",
            "Epoch 12/25\n",
            "50000/50000 [==============================] - 11s 229us/step - loss: 1.4235 - acc: 0.5035 - val_loss: 1.5603 - val_acc: 0.4538\n",
            "Epoch 13/25\n",
            "50000/50000 [==============================] - 12s 230us/step - loss: 1.4036 - acc: 0.5124 - val_loss: 1.5560 - val_acc: 0.4542\n",
            "Epoch 14/25\n",
            "50000/50000 [==============================] - 11s 225us/step - loss: 1.3859 - acc: 0.5176 - val_loss: 1.5425 - val_acc: 0.4609\n",
            "Epoch 15/25\n",
            "50000/50000 [==============================] - 12s 233us/step - loss: 1.3675 - acc: 0.5247 - val_loss: 1.5336 - val_acc: 0.4612\n",
            "Epoch 16/25\n",
            "50000/50000 [==============================] - 12s 237us/step - loss: 1.3507 - acc: 0.5308 - val_loss: 1.5279 - val_acc: 0.4603\n",
            "Epoch 17/25\n",
            "50000/50000 [==============================] - 11s 225us/step - loss: 1.3360 - acc: 0.5370 - val_loss: 1.5203 - val_acc: 0.4686\n",
            "Epoch 18/25\n",
            "50000/50000 [==============================] - 12s 230us/step - loss: 1.3198 - acc: 0.5426 - val_loss: 1.5124 - val_acc: 0.4689\n",
            "Epoch 19/25\n",
            "50000/50000 [==============================] - 11s 226us/step - loss: 1.3053 - acc: 0.5474 - val_loss: 1.5070 - val_acc: 0.4708\n",
            "Epoch 20/25\n",
            "50000/50000 [==============================] - 11s 226us/step - loss: 1.2921 - acc: 0.5525 - val_loss: 1.5024 - val_acc: 0.4719\n",
            "Epoch 21/25\n",
            "50000/50000 [==============================] - 12s 231us/step - loss: 1.2780 - acc: 0.5580 - val_loss: 1.4930 - val_acc: 0.4768\n",
            "Epoch 22/25\n",
            "50000/50000 [==============================] - 11s 224us/step - loss: 1.2649 - acc: 0.5612 - val_loss: 1.4946 - val_acc: 0.4726\n",
            "Epoch 23/25\n",
            "50000/50000 [==============================] - 11s 229us/step - loss: 1.2523 - acc: 0.5667 - val_loss: 1.4878 - val_acc: 0.4742\n",
            "Epoch 24/25\n",
            "50000/50000 [==============================] - 11s 227us/step - loss: 1.2403 - acc: 0.5702 - val_loss: 1.4814 - val_acc: 0.4751\n",
            "Epoch 25/25\n",
            "50000/50000 [==============================] - 12s 232us/step - loss: 1.2273 - acc: 0.5749 - val_loss: 1.4769 - val_acc: 0.4780\n"
          ],
          "name": "stdout"
        }
      ]
    },
    {
      "metadata": {
        "id": "fVdc4HdxZOaA",
        "colab_type": "code",
        "colab": {
          "base_uri": "https://localhost:8080/",
          "height": 809
        },
        "outputId": "d1aaa97e-dbe2-44b3-fc43-f1132e224da4"
      },
      "cell_type": "code",
      "source": [
        "import matplotlib.pyplot as plt\n",
        "%matplotlib inline\n",
        "\n",
        "plt.plot(range(len(train_loss)), train_loss, label=\"train loss\")\n",
        "plt.plot(range(len(valid_loss)), valid_loss, label=\"valid loss\")\n",
        "plt.legend()\n",
        "plt.title(\"Loss\")\n",
        "plt.show()\n",
        "\n",
        "plt.plot(range(len(train_acc)), train_acc, label=\"train accuracy\")\n",
        "plt.plot(range(len(valid_acc)), valid_acc, label=\"valid accuracy\")\n",
        "plt.legend()\n",
        "plt.title(\"Accuracy\")\n",
        "plt.show()\n",
        "\n",
        "plt.plot(range(len(valid_tp)), valid_tp, label=\"valid tp\", color=\"navy\")\n",
        "plt.plot(range(len(valid_tn)), valid_tn, label=\"valid tn\", color=\"red\")\n",
        "plt.legend()\n",
        "plt.title(\"True positives and True Negatives\")\n",
        "plt.show()"
      ],
      "execution_count": 9,
      "outputs": [
        {
          "output_type": "display_data",
          "data": {
            "image/png": "[encoded data removed]",
            "text/plain": [
              "<Figure size 432x288 with 1 Axes>"
            ]
          },
          "metadata": {
            "tags": []
          }
        },
        {
          "output_type": "display_data",
          "data": {
            "image/png": "[encoded data removed]",
            "text/plain": [
              "<Figure size 432x288 with 1 Axes>"
            ]
          },
          "metadata": {
            "tags": []
          }
        },
        {
          "output_type": "display_data",
          "data": {
            "image/png": "[encoded data removed]",
            "text/plain": [
              "<Figure size 432x288 with 1 Axes>"
            ]
          },
          "metadata": {
            "tags": []
          }
        }
      ]
    },
    {
      "metadata": {
        "id": "PCdD0PLGZdeF",
        "colab_type": "code",
        "colab": {}
      },
      "cell_type": "code",
      "source": [
        ""
      ],
      "execution_count": 0,
      "outputs": []
    }
  ]
}