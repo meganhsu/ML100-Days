{
  "nbformat": 4,
  "nbformat_minor": 0,
  "metadata": {
    "colab": {
      "name": "Day76-Optimizer_HW.ipynb",
      "version": "0.3.2",
      "provenance": [],
      "include_colab_link": true
    },
    "language_info": {
      "codemirror_mode": {
        "name": "ipython",
        "version": 3
      },
      "file_extension": ".py",
      "mimetype": "text/x-python",
      "name": "python",
      "nbconvert_exporter": "python",
      "pygments_lexer": "ipython3",
      "version": "3.6.8"
    },
    "kernelspec": {
      "name": "python3",
      "display_name": "Python 3"
    },
    "accelerator": "TPU"
  },
  "cells": [
    {
      "cell_type": "markdown",
      "metadata": {
        "id": "view-in-github",
        "colab_type": "text"
      },
      "source": [
        "<a href=\"https://colab.research.google.com/github/meganhsu/ML100-Days/blob/master/Day76_Optimizer_HW.ipynb\" target=\"_parent\"><img src=\"https://colab.research.google.com/assets/colab-badge.svg\" alt=\"Open In Colab\"/></a>"
      ]
    },
    {
      "metadata": {
        "id": "oqyWnWVlMrbI",
        "colab_type": "text"
      },
      "cell_type": "markdown",
      "source": [
        "\n",
        "# 作業: \n",
        "    \n",
        "    (1)以, Adam, 為例, 調整 batch_size, epoch , 觀察accurancy, loss 的變化\n",
        "    \n",
        "    (2)以同一模型, 分別驗證 SGD, Adam, Rmsprop 的 accurancy"
      ]
    },
    {
      "metadata": {
        "id": "9Ez3X0lOMrbK",
        "colab_type": "code",
        "colab": {}
      },
      "cell_type": "code",
      "source": [
        "import keras\n",
        "#from keras.datasets import cifar10\n",
        "from keras.datasets import mnist \n",
        "from keras.preprocessing.image import ImageDataGenerator\n",
        "from keras.models import Sequential, load_model\n",
        "from keras.layers import Dense, Dropout, Activation, Flatten\n",
        "from keras.layers import Conv2D, MaxPooling2D\n",
        "from keras import optimizers\n",
        "from keras.callbacks import EarlyStopping, ModelCheckpoint\n",
        "import numpy"
      ],
      "execution_count": 0,
      "outputs": []
    },
    {
      "metadata": {
        "id": "wz3NIafvMrbS",
        "colab_type": "code",
        "colab": {
          "base_uri": "https://localhost:8080/",
          "height": 89
        },
        "outputId": "e299fab2-7a51-40da-d139-9db222e91e38"
      },
      "cell_type": "code",
      "source": [
        "#    第一步：選擇模型, 順序模型是多個網絡層的線性堆疊\n",
        " \n",
        "model = Sequential()\n",
        "\n",
        "#   第二步：構建網絡層\n",
        " \n",
        "model.add(Dense( 500,input_shape=(784,))) # 輸入層，28*28=784   \n",
        "model.add(Activation('relu')) # 激活函數是relu   \n",
        "\n",
        "model.add(Dense( 500)) # 隱藏層節點500個   \n",
        "model.add(Activation('relu'))  \n",
        "\n",
        "model.add(Dense( 500)) # 隱藏層節點500個   \n",
        "model.add(Activation('relu'))  \n",
        "\n",
        "model.add(Dense( 500)) # 隱藏層節點500個   \n",
        "model.add(Activation('relu'))  \n",
        "\n",
        "model.add(Dense( 10)) # 輸出結果是10個類別，所以維度是10   \n",
        "model.add(Activation('softmax')) # 最後一層用softmax作為激活函數"
      ],
      "execution_count": 5,
      "outputs": [
        {
          "output_type": "stream",
          "text": [
            "WARNING:tensorflow:From /usr/local/lib/python3.6/dist-packages/tensorflow/python/framework/op_def_library.py:263: colocate_with (from tensorflow.python.framework.ops) is deprecated and will be removed in a future version.\n",
            "Instructions for updating:\n",
            "Colocations handled automatically by placer.\n"
          ],
          "name": "stdout"
        }
      ]
    },
    {
      "metadata": {
        "id": "GnY-hNmqMrbX",
        "colab_type": "code",
        "outputId": "aaf631d6-d4b3-4daf-cc24-52838fc1f7f6",
        "colab": {
          "base_uri": "https://localhost:8080/",
          "height": 34
        }
      },
      "cell_type": "code",
      "source": [
        "# 模型建立完成後，統計參數總量\n",
        "print(\"Total Parameters：%d\" % model.count_params())"
      ],
      "execution_count": 6,
      "outputs": [
        {
          "output_type": "stream",
          "text": [
            "Total Parameters：1149010\n"
          ],
          "name": "stdout"
        }
      ]
    },
    {
      "metadata": {
        "id": "G_3rrquTMrbb",
        "colab_type": "code",
        "outputId": "9528e573-b4d8-42e5-f874-589c2745741b",
        "colab": {
          "base_uri": "https://localhost:8080/",
          "height": 481
        }
      },
      "cell_type": "code",
      "source": [
        "# 輸出模型摘要資訊\n",
        "model.summary()"
      ],
      "execution_count": 7,
      "outputs": [
        {
          "output_type": "stream",
          "text": [
            "_________________________________________________________________\n",
            "Layer (type)                 Output Shape              Param #   \n",
            "=================================================================\n",
            "dense_1 (Dense)              (None, 500)               392500    \n",
            "_________________________________________________________________\n",
            "activation_1 (Activation)    (None, 500)               0         \n",
            "_________________________________________________________________\n",
            "dense_2 (Dense)              (None, 500)               250500    \n",
            "_________________________________________________________________\n",
            "activation_2 (Activation)    (None, 500)               0         \n",
            "_________________________________________________________________\n",
            "dense_3 (Dense)              (None, 500)               250500    \n",
            "_________________________________________________________________\n",
            "activation_3 (Activation)    (None, 500)               0         \n",
            "_________________________________________________________________\n",
            "dense_4 (Dense)              (None, 500)               250500    \n",
            "_________________________________________________________________\n",
            "activation_4 (Activation)    (None, 500)               0         \n",
            "_________________________________________________________________\n",
            "dense_5 (Dense)              (None, 10)                5010      \n",
            "_________________________________________________________________\n",
            "activation_5 (Activation)    (None, 10)                0         \n",
            "=================================================================\n",
            "Total params: 1,149,010\n",
            "Trainable params: 1,149,010\n",
            "Non-trainable params: 0\n",
            "_________________________________________________________________\n"
          ],
          "name": "stdout"
        }
      ]
    },
    {
      "metadata": {
        "id": "rict6HViMrbg",
        "colab_type": "code",
        "colab": {}
      },
      "cell_type": "code",
      "source": [
        "'''\n",
        " SGD(隨機梯度下降) - Arguments\n",
        "lr: float >= 0. Learning rate.\n",
        "momentum: float >= 0. Parameter that accelerates SGD in the relevant direction and dampens oscillations.\n",
        "decay: float >= 0. Learning rate decay over each update.\n",
        "nesterov: boolean. Whether to apply Nesterov momentum.\n",
        "'''\n",
        "#opt = optimizers. Adam(lr=0.001, epsilon=None, decay=0.0) \n",
        "sgd= optimizers.SGD(lr=0.01,momentum=0.3,decay=0)\n",
        "'''\n",
        "RMSprop- Arguments\n",
        "lr: float >= 0. Learning rate.\n",
        "rho: float >= 0.\n",
        "epsilon: float >= 0. Fuzz factor. If None, defaults to K.epsilon().\n",
        "decay: float >= 0. Learning rate decay over each update.\n",
        "'''\n",
        "RMSprop=optimizers.RMSprop(lr=0.1,rho=0.3,decay=0)\n",
        "opt=sgd"
      ],
      "execution_count": 0,
      "outputs": []
    },
    {
      "metadata": {
        "id": "nlSanKGoMrbj",
        "colab_type": "code",
        "colab": {}
      },
      "cell_type": "code",
      "source": [
        "# 第三步：編譯, \n",
        "model.compile(optimizer = opt, loss = 'categorical_crossentropy', metrics = ['accuracy'])"
      ],
      "execution_count": 0,
      "outputs": []
    },
    {
      "metadata": {
        "id": "n7BM-MfHMrbp",
        "colab_type": "code",
        "colab": {}
      },
      "cell_type": "code",
      "source": [
        "#  第四步：資料分割\n",
        "# 使用Keras自帶的mnist工具讀取數據（第一次需要聯網）\n",
        "(X_train, y_train), (X_test, y_test) = mnist.load_data() \n",
        "\n",
        "# 由於mist的輸入數據維度是(num, 28 , 28)，這裡需要把後面的維度直接拼起來變成784維   \n",
        "X_train = X_train.reshape(X_train.shape[0], X_train.shape[1] * X_train.shape[2 ])\n",
        "X_test = X_test.reshape(X_test.shape[0], X_test.shape[1] * X_test.shape[2 ])  \n",
        "Y_train = (numpy.arange(10) == y_train[:, None]).astype(int)\n",
        "Y_test = (numpy.arange(10) == y_test[:, None]).astype(int)"
      ],
      "execution_count": 0,
      "outputs": []
    },
    {
      "metadata": {
        "id": "LaMkrVq9Mrbv",
        "colab_type": "code",
        "colab": {}
      },
      "cell_type": "code",
      "source": [
        "'''\n",
        "   宣告並設定\n",
        "   batch_size：對總的樣本數進行分組，每組包含的樣本數量\n",
        "   epochs ：訓練次數\n",
        "   \n",
        "''' \n",
        "batch_size=500\n",
        "epochs=20"
      ],
      "execution_count": 0,
      "outputs": []
    },
    {
      "metadata": {
        "id": "6qdobLOHMrb1",
        "colab_type": "code",
        "colab": {
          "base_uri": "https://localhost:8080/",
          "height": 794
        },
        "outputId": "a1673584-3867-4cc8-b148-13584e9c7c3e"
      },
      "cell_type": "code",
      "source": [
        "# 第五步：訓練, 修正 model 參數\n",
        "#Blas GEMM launch failed , 避免動態分配GPU / CPU, 出現問題\n",
        "import tensorflow as tf\n",
        "gpu_options = tf.GPUOptions(per_process_gpu_memory_fraction=0.333)\n",
        "sess = tf.Session(config=tf.ConfigProto(gpu_options=gpu_options))\n",
        "\n",
        "\n",
        "history = model.fit(X_train,Y_train,batch_size = batch_size, epochs=epochs, shuffle=True,verbose=2,validation_split=0.3 )"
      ],
      "execution_count": 18,
      "outputs": [
        {
          "output_type": "stream",
          "text": [
            "WARNING:tensorflow:From /usr/local/lib/python3.6/dist-packages/tensorflow/python/ops/math_ops.py:3066: to_int32 (from tensorflow.python.ops.math_ops) is deprecated and will be removed in a future version.\n",
            "Instructions for updating:\n",
            "Use tf.cast instead.\n",
            "Train on 42000 samples, validate on 18000 samples\n",
            "Epoch 1/20\n",
            " - 8s - loss: 10.9153 - acc: 0.3188 - val_loss: 10.3018 - val_acc: 0.3550\n",
            "Epoch 2/20\n",
            " - 7s - loss: 9.4944 - acc: 0.4087 - val_loss: 8.8214 - val_acc: 0.4477\n",
            "Epoch 3/20\n",
            " - 7s - loss: 8.3587 - acc: 0.4762 - val_loss: 7.7245 - val_acc: 0.5109\n",
            "Epoch 4/20\n",
            " - 7s - loss: 6.6533 - acc: 0.5806 - val_loss: 6.5784 - val_acc: 0.5868\n",
            "Epoch 5/20\n",
            " - 7s - loss: 5.3984 - acc: 0.6544 - val_loss: 3.5417 - val_acc: 0.7689\n",
            "Epoch 6/20\n",
            " - 7s - loss: 2.5558 - acc: 0.8178 - val_loss: 0.7970 - val_acc: 0.9025\n",
            "Epoch 7/20\n",
            " - 7s - loss: 0.3022 - acc: 0.9448 - val_loss: 0.2982 - val_acc: 0.9433\n",
            "Epoch 8/20\n",
            " - 7s - loss: 0.1196 - acc: 0.9727 - val_loss: 0.2634 - val_acc: 0.9481\n",
            "Epoch 9/20\n",
            " - 7s - loss: 0.0582 - acc: 0.9872 - val_loss: 0.2527 - val_acc: 0.9520\n",
            "Epoch 10/20\n",
            " - 7s - loss: 0.0316 - acc: 0.9956 - val_loss: 0.2410 - val_acc: 0.9531\n",
            "Epoch 11/20\n",
            " - 7s - loss: 0.0216 - acc: 0.9983 - val_loss: 0.2386 - val_acc: 0.9552\n",
            "Epoch 12/20\n",
            " - 7s - loss: 0.0179 - acc: 0.9989 - val_loss: 0.2399 - val_acc: 0.9550\n",
            "Epoch 13/20\n",
            " - 7s - loss: 0.0165 - acc: 0.9991 - val_loss: 0.2407 - val_acc: 0.9558\n",
            "Epoch 14/20\n",
            " - 7s - loss: 0.0161 - acc: 0.9991 - val_loss: 0.2411 - val_acc: 0.9562\n",
            "Epoch 15/20\n",
            " - 7s - loss: 0.0159 - acc: 0.9991 - val_loss: 0.2418 - val_acc: 0.9562\n",
            "Epoch 16/20\n",
            " - 7s - loss: 0.0157 - acc: 0.9991 - val_loss: 0.2427 - val_acc: 0.9567\n",
            "Epoch 17/20\n",
            " - 7s - loss: 0.0156 - acc: 0.9991 - val_loss: 0.2428 - val_acc: 0.9568\n",
            "Epoch 18/20\n",
            " - 7s - loss: 0.0155 - acc: 0.9991 - val_loss: 0.2438 - val_acc: 0.9569\n",
            "Epoch 19/20\n",
            " - 7s - loss: 0.0154 - acc: 0.9991 - val_loss: 0.2440 - val_acc: 0.9571\n",
            "Epoch 20/20\n",
            " - 7s - loss: 0.0153 - acc: 0.9991 - val_loss: 0.2447 - val_acc: 0.9572\n"
          ],
          "name": "stdout"
        }
      ]
    },
    {
      "metadata": {
        "id": "BEtGaVkvMrb7",
        "colab_type": "code",
        "colab": {
          "base_uri": "https://localhost:8080/",
          "height": 103
        },
        "outputId": "672179c3-c422-45e6-e5bf-be9bfd878c44"
      },
      "cell_type": "code",
      "source": [
        "#    第六步：輸出\n",
        " \n",
        "print ( \" test set \" )\n",
        "scores = model.evaluate(X_test,Y_test,batch_size=200,verbose= 0)\n",
        "print ( \"\" )\n",
        "#print ( \" The test loss is %f \" % scores)\n",
        "print ( \" The test loss is %f \", scores)\n",
        "result = model.predict(X_test,batch_size=200,verbose= 0)\n",
        "\n",
        "result_max = numpy.argmax(result, axis = 1 )\n",
        "test_max = numpy.argmax(Y_test, axis = 1 )\n",
        "\n",
        "result_bool = numpy.equal(result_max, test_max)\n",
        "true_num = numpy.sum(result_bool)\n",
        "print ( \"\" )\n",
        "print ( \" The accuracy of the model is %f \" % (true_num/len(result_bool)))"
      ],
      "execution_count": 19,
      "outputs": [
        {
          "output_type": "stream",
          "text": [
            " test set \n",
            "\n",
            " The test loss is %f  [0.22289740924607032, 0.957900003194809]\n",
            "\n",
            " The accuracy of the model is 0.957900 \n"
          ],
          "name": "stdout"
        }
      ]
    },
    {
      "metadata": {
        "id": "wgg8N_97MrcD",
        "colab_type": "code",
        "colab": {
          "base_uri": "https://localhost:8080/",
          "height": 573
        },
        "outputId": "af71594b-6a7a-4ad2-e446-1c6fe0a30b67"
      },
      "cell_type": "code",
      "source": [
        "import matplotlib.pyplot as plt\n",
        "\n",
        "%matplotlib inline\n",
        "\n",
        "# history = model.fit(x, y, validation_split=0.25, epochs=50, batch_size=16, verbose=1)\n",
        "\n",
        "# Plot training & validation accuracy values\n",
        "plt.plot(history.history['acc'])\n",
        "plt.plot(history.history['val_acc'])\n",
        "plt.title('Model accuracy')\n",
        "plt.ylabel('Accuracy')\n",
        "plt.xlabel('Epoch')\n",
        "plt.legend(['Train', 'Test'], loc='upper left')\n",
        "plt.show()\n",
        "\n",
        "# Plot training & validation loss values\n",
        "plt.plot(history.history['loss'])\n",
        "plt.plot(history.history['val_loss'])\n",
        "plt.title('Model loss')\n",
        "plt.ylabel('Loss')\n",
        "plt.xlabel('Epoch')\n",
        "plt.legend(['Train', 'Test'], loc='upper left')\n",
        "plt.show()"
      ],
      "execution_count": 20,
      "outputs": [
        {
          "output_type": "display_data",
          "data": {
            "image/png": "[encoded data removed]",
            "text/plain": [
              "<Figure size 432x288 with 1 Axes>"
            ]
          },
          "metadata": {
            "tags": []
          }
        },
        {
          "output_type": "display_data",
          "data": {
            "image/png": "[encoded data removed]",
            "text/plain": [
              "<Figure size 432x288 with 1 Axes>"
            ]
          },
          "metadata": {
            "tags": []
          }
        }
      ]
    },
    {
      "metadata": {
        "id": "VpBHrX7fMrcH",
        "colab_type": "code",
        "colab": {}
      },
      "cell_type": "code",
      "source": [
        ""
      ],
      "execution_count": 0,
      "outputs": []
    }
  ]
}