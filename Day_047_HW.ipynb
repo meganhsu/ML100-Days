{
  "nbformat": 4,
  "nbformat_minor": 0,
  "metadata": {
    "colab": {
      "name": "Day_047_HW.ipynb",
      "version": "0.3.2",
      "provenance": [],
      "include_colab_link": true
    },
    "language_info": {
      "codemirror_mode": {
        "name": "ipython",
        "version": 3
      },
      "file_extension": ".py",
      "mimetype": "text/x-python",
      "name": "python",
      "nbconvert_exporter": "python",
      "pygments_lexer": "ipython3",
      "version": "3.6.4"
    },
    "kernelspec": {
      "display_name": "Python 3",
      "language": "python",
      "name": "python3"
    }
  },
  "cells": [
    {
      "cell_type": "markdown",
      "metadata": {
        "id": "view-in-github",
        "colab_type": "text"
      },
      "source": [
        "<a href=\"https://colab.research.google.com/github/meganhsu/ML100-Days/blob/master/Day_047_HW.ipynb\" target=\"_parent\"><img src=\"https://colab.research.google.com/assets/colab-badge.svg\" alt=\"Open In Colab\"/></a>"
      ]
    },
    {
      "metadata": {
        "id": "G20bw0Be3rOI",
        "colab_type": "text"
      },
      "cell_type": "markdown",
      "source": [
        "# 作業\n",
        "請使用不同的資料集，並使用 hyper-parameter search 的方式，看能不能找出最佳的超參數組合"
      ]
    },
    {
      "metadata": {
        "id": "-NbghNHF3rOK",
        "colab_type": "code",
        "colab": {}
      },
      "cell_type": "code",
      "source": [
        "from sklearn import datasets, metrics\n",
        "from sklearn.model_selection import train_test_split, KFold, GridSearchCV\n",
        "from sklearn.ensemble import GradientBoostingRegressor\n",
        "from sklearn.ensemble import GradientBoostingClassifier\n",
        "import numpy as np"
      ],
      "execution_count": 0,
      "outputs": []
    },
    {
      "metadata": {
        "id": "DwLQBbuq3rOO",
        "colab_type": "code",
        "colab": {}
      },
      "cell_type": "code",
      "source": [
        "#讀入手寫辨識資料\n",
        "digits = datasets.load_digits()\n",
        "\n",
        "# 切分訓練集/測試集\n",
        "x_train, x_test, y_train, y_test = train_test_split(digits.data, digits.target, test_size=0.25, random_state=4)\n",
        "\n",
        "# 建立模型\n",
        "GBC = GradientBoostingClassifier(random_state=7)\n",
        "\n",
        "# 訓練模型\n",
        "GBC.fit(x_train, y_train)\n",
        "\n",
        "# 預測測試集\n",
        "GBC_y_pred = GBC.predict(x_test)"
      ],
      "execution_count": 0,
      "outputs": []
    },
    {
      "metadata": {
        "id": "zoKELSo03rOR",
        "colab_type": "code",
        "colab": {},
        "outputId": "0fbc4e1b-4e6d-47e6-fb2e-0232da59338b"
      },
      "cell_type": "code",
      "source": [
        "GBC_acc = metrics.accuracy_score(y_test, GBC_y_pred)\n",
        "print(\"GBC Acuuracy: \", GBC_acc)"
      ],
      "execution_count": 0,
      "outputs": [
        {
          "output_type": "stream",
          "text": [
            "GBC Acuuracy:  0.9666666666666667\n"
          ],
          "name": "stdout"
        }
      ]
    },
    {
      "metadata": {
        "id": "9WYZ8M4n3rOW",
        "colab_type": "code",
        "colab": {},
        "outputId": "c3a11ab4-087f-4816-9785-ae6ab5f8e854"
      },
      "cell_type": "code",
      "source": [
        "# 設定要訓練的超參數組合\n",
        "n_estimators = [100, 500, 1000]\n",
        "max_depth = [5, 10, 15, 20]\n",
        "param_grid = dict(n_estimators=n_estimators, max_depth=max_depth)\n",
        "\n",
        "## 建立搜尋物件，放入模型及參數組合字典 (n_jobs=-1 會使用全部 cpu 平行運算)\n",
        "grid_search = GridSearchCV(GBC, param_grid, scoring=\"accuracy\", n_jobs=-1, verbose=1)\n",
        "\n",
        "# 開始搜尋最佳參數\n",
        "grid_result = grid_search.fit(x_train, y_train)\n",
        "\n",
        "# 預設會跑 3-fold cross-validadtion，總共 12 種參數組合，總共要 train 36 次模型"
      ],
      "execution_count": 0,
      "outputs": [
        {
          "output_type": "stream",
          "text": [
            "Fitting 3 folds for each of 12 candidates, totalling 36 fits\n"
          ],
          "name": "stdout"
        },
        {
          "output_type": "stream",
          "text": [
            "[Parallel(n_jobs=-1)]: Done  36 out of  36 | elapsed:   49.0s finished\n"
          ],
          "name": "stderr"
        }
      ]
    },
    {
      "metadata": {
        "id": "Cx8wvAFk3rOa",
        "colab_type": "code",
        "colab": {},
        "outputId": "69fa9577-17e0-4d64-e454-4eb48eccdcf5"
      },
      "cell_type": "code",
      "source": [
        "# 印出最佳結果與最佳參數\n",
        "print(\"Best Accuracy: %f using %s\" % (grid_result.best_score_, grid_result.best_params_))"
      ],
      "execution_count": 0,
      "outputs": [
        {
          "output_type": "stream",
          "text": [
            "Best Accuracy: 0.931700 using {'max_depth': 5, 'n_estimators': 100}\n"
          ],
          "name": "stdout"
        }
      ]
    },
    {
      "metadata": {
        "id": "UyXMM7Cd3rOe",
        "colab_type": "code",
        "colab": {},
        "outputId": "d61e40a1-1393-4f73-baec-5029519cee49"
      },
      "cell_type": "code",
      "source": [
        "grid_result.best_params_"
      ],
      "execution_count": 0,
      "outputs": [
        {
          "output_type": "execute_result",
          "data": {
            "text/plain": [
              "{'max_depth': 5, 'n_estimators': 100}"
            ]
          },
          "metadata": {
            "tags": []
          },
          "execution_count": 6
        }
      ]
    },
    {
      "metadata": {
        "id": "PfzcYiBg3rOk",
        "colab_type": "code",
        "colab": {}
      },
      "cell_type": "code",
      "source": [
        "# 使用最佳參數重新建立模型\n",
        "GBC_bestparam = GradientBoostingClassifier(max_depth=grid_result.best_params_['max_depth'],\n",
        "                                           n_estimators=grid_result.best_params_['n_estimators'])\n",
        "# 訓練模型\n",
        "GBC_bestparam.fit(x_train, y_train)\n",
        "\n",
        "# 預測測試集\n",
        "y_pred = GBC_bestparam.predict(x_test)"
      ],
      "execution_count": 0,
      "outputs": []
    },
    {
      "metadata": {
        "id": "dykUhEGV3rOn",
        "colab_type": "code",
        "colab": {},
        "outputId": "23f96f93-35ac-4cb6-89e2-5a1d1d59ba32"
      },
      "cell_type": "code",
      "source": [
        "# 調整參數後沒有比原來設定的低\n",
        "print(metrics.accuracy_score(y_test, y_pred))"
      ],
      "execution_count": 0,
      "outputs": [
        {
          "output_type": "stream",
          "text": [
            "0.9622222222222222\n"
          ],
          "name": "stdout"
        }
      ]
    },
    {
      "metadata": {
        "id": "fNho34lk3rOq",
        "colab_type": "code",
        "colab": {},
        "outputId": "f9554f67-b85f-464d-ce53-682b5f53ec91"
      },
      "cell_type": "code",
      "source": [
        "#利用隨機搜尋法，尋找最佳參數\n",
        "from sklearn.model_selection import RandomizedSearchCV\n",
        "# Number of trees in random forest\n",
        "n_estimators = [int(x) for x in np.linspace(start = 50, stop = 2000, num = 5)]\n",
        "# Number of features to consider at every split\n",
        "max_features = ['auto', 'sqrt']\n",
        "# Maximum number of levels in tree\n",
        "max_depth = [int(x) for x in np.linspace(10, 110, num = 5)]\n",
        "max_depth.append(None)\n",
        "# Minimum number of samples required to split a node\n",
        "min_samples_split = [2, 5, 10, 20, 50]\n",
        "# Minimum number of samples required at each leaf node\n",
        "min_samples_leaf = [1, 2, 4, 10, 20, 50]\n",
        "# Create the random grid\n",
        "random_grid = {'n_estimators': n_estimators,\n",
        "               'max_features': max_features,\n",
        "               'max_depth': max_depth,\n",
        "               'min_samples_split': min_samples_split,\n",
        "               'min_samples_leaf': min_samples_leaf,}\n",
        "print(random_grid)"
      ],
      "execution_count": 0,
      "outputs": [
        {
          "output_type": "stream",
          "text": [
            "{'n_estimators': [50, 537, 1025, 1512, 2000], 'max_features': ['auto', 'sqrt'], 'max_depth': [10, 35, 60, 85, 110, None], 'min_samples_split': [2, 5, 10, 20, 50], 'min_samples_leaf': [1, 2, 4, 10, 20, 50]}\n"
          ],
          "name": "stdout"
        }
      ]
    },
    {
      "metadata": {
        "id": "ve80bTDo3rOx",
        "colab_type": "code",
        "colab": {},
        "outputId": "16c43a6d-627b-4746-edc4-abeb3b973c78"
      },
      "cell_type": "code",
      "source": [
        "GBC_random = RandomizedSearchCV(estimator = GBC, param_distributions = random_grid, n_iter = 100, cv = 3, verbose=2, random_state=7, n_jobs = -1)\n",
        "GBC_random.fit(x_train, y_train)"
      ],
      "execution_count": 0,
      "outputs": [
        {
          "output_type": "stream",
          "text": [
            "Fitting 3 folds for each of 100 candidates, totalling 300 fits\n"
          ],
          "name": "stdout"
        },
        {
          "output_type": "stream",
          "text": [
            "[Parallel(n_jobs=-1)]: Done  25 tasks      | elapsed:  1.1min\n",
            "[Parallel(n_jobs=-1)]: Done 146 tasks      | elapsed:  4.4min\n",
            "[Parallel(n_jobs=-1)]: Done 300 out of 300 | elapsed:  8.7min finished\n"
          ],
          "name": "stderr"
        },
        {
          "output_type": "execute_result",
          "data": {
            "text/plain": [
              "RandomizedSearchCV(cv=3, error_score='raise',\n",
              "          estimator=GradientBoostingClassifier(criterion='friedman_mse', init=None,\n",
              "              learning_rate=0.1, loss='deviance', max_depth=3,\n",
              "              max_features=None, max_leaf_nodes=None,\n",
              "              min_impurity_decrease=0.0, min_impurity_split=None,\n",
              "              min_samples_leaf=1, min_samples_split=2,\n",
              "              min_weight_fraction_leaf=0.0, n_estimators=100,\n",
              "              presort='auto', random_state=7, subsample=1.0, verbose=0,\n",
              "              warm_start=False),\n",
              "          fit_params=None, iid=True, n_iter=100, n_jobs=-1,\n",
              "          param_distributions={'n_estimators': [50, 537, 1025, 1512, 2000], 'max_features': ['auto', 'sqrt'], 'max_depth': [10, 35, 60, 85, 110, None], 'min_samples_split': [2, 5, 10, 20, 50], 'min_samples_leaf': [1, 2, 4, 10, 20, 50]},\n",
              "          pre_dispatch='2*n_jobs', random_state=7, refit=True,\n",
              "          return_train_score='warn', scoring=None, verbose=2)"
            ]
          },
          "metadata": {
            "tags": []
          },
          "execution_count": 10
        }
      ]
    },
    {
      "metadata": {
        "id": "ZfvCqLvq3rO1",
        "colab_type": "code",
        "colab": {},
        "outputId": "2f10b243-ed3a-4677-b303-b5c3f5635f33"
      },
      "cell_type": "code",
      "source": [
        "GBC_random.best_params_"
      ],
      "execution_count": 0,
      "outputs": [
        {
          "output_type": "execute_result",
          "data": {
            "text/plain": [
              "{'max_depth': 35,\n",
              " 'max_features': 'sqrt',\n",
              " 'min_samples_leaf': 20,\n",
              " 'min_samples_split': 5,\n",
              " 'n_estimators': 537}"
            ]
          },
          "metadata": {
            "tags": []
          },
          "execution_count": 11
        }
      ]
    },
    {
      "metadata": {
        "id": "7MD2A8XE3rO5",
        "colab_type": "code",
        "colab": {},
        "outputId": "365cb60c-7968-4ad4-f395-87b4b7a72c44"
      },
      "cell_type": "code",
      "source": [
        "#最佳模型\n",
        "GBC_best_random = GBC_random.best_estimator_\n",
        "\n",
        "# 使用最佳參數重新建立模型\n",
        "y_pred = GBC_best_random.predict(x_test)\n",
        "\n",
        "# 調整參數後提升了約2%準確率\n",
        "print(metrics.accuracy_score(y_test, y_pred))"
      ],
      "execution_count": 0,
      "outputs": [
        {
          "output_type": "stream",
          "text": [
            "0.9888888888888889\n"
          ],
          "name": "stdout"
        }
      ]
    }
  ]
}