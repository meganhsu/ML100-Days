{
  "nbformat": 4,
  "nbformat_minor": 0,
  "metadata": {
    "colab": {
      "name": "Day_065_HW.ipynb",
      "version": "0.3.2",
      "provenance": [],
      "include_colab_link": true
    },
    "language_info": {
      "codemirror_mode": {
        "name": "ipython",
        "version": 3
      },
      "file_extension": ".py",
      "mimetype": "text/x-python",
      "name": "python",
      "nbconvert_exporter": "python",
      "pygments_lexer": "ipython3",
      "version": "3.6.4"
    },
    "kernelspec": {
      "display_name": "Python 3",
      "language": "python",
      "name": "python3"
    }
  },
  "cells": [
    {
      "cell_type": "markdown",
      "metadata": {
        "id": "view-in-github",
        "colab_type": "text"
      },
      "source": [
        "<a href=\"https://colab.research.google.com/github/meganhsu/ML100-Days/blob/master/Day_065_HW.ipynb\" target=\"_parent\"><img src=\"https://colab.research.google.com/assets/colab-badge.svg\" alt=\"Open In Colab\"/></a>"
      ]
    },
    {
      "metadata": {
        "id": "ML7NCGMkPWOj",
        "colab_type": "text"
      },
      "cell_type": "markdown",
      "source": [
        "# 作業\n",
        "* 選擇分類資料集(右下)-螺旋雙臂 - 交錯六群，限定特徵只能使用前兩個，隱藏層 2 層滿 (共 8 * 2 =16 個神經元)，  \n",
        "  遞迴次數只允許跑到500次，但可以自由調整 批次大小、學習速率、啟動函數、正規化選項與參數\n",
        "* 在上述限制下，挑戰看看測試誤差 (Test Loss) 最低能到多少? 請回答你的上述幾項參數與 Test Loss 數"
      ]
    },
    {
      "metadata": {
        "id": "AEB3QCo3PWOk",
        "colab_type": "code",
        "colab": {}
      },
      "cell_type": "code",
      "source": [
        "# !pip install gensim\n",
        "import gensim, logging\n",
        "from gensim.models import word2vec"
      ],
      "execution_count": 0,
      "outputs": []
    },
    {
      "metadata": {
        "id": "vTX6oa7-PWOn",
        "colab_type": "code",
        "colab": {},
        "outputId": "82c2a06f-f6db-4bd0-ed60-113fd9fa73f0"
      },
      "cell_type": "code",
      "source": [
        "# sg=0 表示COBW, sg=1 表示skip-gram  \n",
        "logging.basicConfig(format='%(asctime)s : %(levelname)s : %(message)s', level=logging.INFO)  \n",
        "sentences = [['I am a hero', 'sentence'], ['She is a teacher', 'sentence']] \n",
        "# train word2vec on the two sentences  \n",
        "model = word2vec.Word2Vec(sentences, size=256, min_count=1, window=3, workers=4, sg=0)  \n",
        "\n",
        "# sg=0 表示COBW, sg=1 表示skip-gram"
      ],
      "execution_count": 0,
      "outputs": [
        {
          "output_type": "stream",
          "text": [
            "C:\\Anaconda3\\lib\\site-packages\\gensim\\models\\base_any2vec.py:743: UserWarning: C extension not loaded, training will be slow. Install a C compiler and reinstall gensim for fast training.\n",
            "  \"C extension not loaded, training will be slow. \"\n",
            "2019-04-20 23:16:13,974 : INFO : collecting all words and their counts\n",
            "2019-04-20 23:16:13,975 : INFO : PROGRESS: at sentence #0, processed 0 words, keeping 0 word types\n",
            "2019-04-20 23:16:13,976 : INFO : collected 3 word types from a corpus of 4 raw words and 2 sentences\n",
            "2019-04-20 23:16:13,977 : INFO : Loading a fresh vocabulary\n",
            "2019-04-20 23:16:13,978 : INFO : effective_min_count=1 retains 3 unique words (100% of original 3, drops 0)\n",
            "2019-04-20 23:16:13,979 : INFO : effective_min_count=1 leaves 4 word corpus (100% of original 4, drops 0)\n",
            "2019-04-20 23:16:13,979 : INFO : deleting the raw counts dictionary of 3 items\n",
            "2019-04-20 23:16:13,981 : INFO : sample=0.001 downsamples 3 most-common words\n",
            "2019-04-20 23:16:13,982 : INFO : downsampling leaves estimated 0 word corpus (5.7% of prior 4)\n",
            "2019-04-20 23:16:13,983 : INFO : estimated required memory for 3 words and 256 dimensions: 7644 bytes\n",
            "2019-04-20 23:16:13,984 : INFO : resetting layer weights\n",
            "2019-04-20 23:16:13,986 : INFO : training model with 4 workers on 3 vocabulary and 256 features, using sg=0 hs=0 sample=0.001 negative=5 window=3\n",
            "2019-04-20 23:16:13,992 : INFO : worker thread finished; awaiting finish of 3 more threads\n",
            "2019-04-20 23:16:13,993 : INFO : worker thread finished; awaiting finish of 2 more threads\n",
            "2019-04-20 23:16:13,994 : INFO : worker thread finished; awaiting finish of 1 more threads\n",
            "2019-04-20 23:16:14,007 : INFO : worker thread finished; awaiting finish of 0 more threads\n",
            "2019-04-20 23:16:14,008 : INFO : EPOCH - 1 : training on 4 raw words (1 effective words) took 0.0s, 59 effective words/s\n",
            "2019-04-20 23:16:14,013 : INFO : worker thread finished; awaiting finish of 3 more threads\n",
            "2019-04-20 23:16:14,014 : INFO : worker thread finished; awaiting finish of 2 more threads\n",
            "2019-04-20 23:16:14,014 : INFO : worker thread finished; awaiting finish of 1 more threads\n",
            "2019-04-20 23:16:14,015 : INFO : worker thread finished; awaiting finish of 0 more threads\n",
            "2019-04-20 23:16:14,016 : INFO : EPOCH - 2 : training on 4 raw words (0 effective words) took 0.0s, 0 effective words/s\n",
            "2019-04-20 23:16:14,019 : INFO : worker thread finished; awaiting finish of 3 more threads\n",
            "2019-04-20 23:16:14,021 : INFO : worker thread finished; awaiting finish of 2 more threads\n",
            "2019-04-20 23:16:14,022 : INFO : worker thread finished; awaiting finish of 1 more threads\n",
            "2019-04-20 23:16:14,022 : INFO : worker thread finished; awaiting finish of 0 more threads\n",
            "2019-04-20 23:16:14,023 : INFO : EPOCH - 3 : training on 4 raw words (0 effective words) took 0.0s, 0 effective words/s\n",
            "2019-04-20 23:16:14,027 : INFO : worker thread finished; awaiting finish of 3 more threads\n",
            "2019-04-20 23:16:14,028 : INFO : worker thread finished; awaiting finish of 2 more threads\n",
            "2019-04-20 23:16:14,028 : INFO : worker thread finished; awaiting finish of 1 more threads\n",
            "2019-04-20 23:16:14,029 : INFO : worker thread finished; awaiting finish of 0 more threads\n",
            "2019-04-20 23:16:14,029 : INFO : EPOCH - 4 : training on 4 raw words (0 effective words) took 0.0s, 0 effective words/s\n",
            "2019-04-20 23:16:14,033 : INFO : worker thread finished; awaiting finish of 3 more threads\n",
            "2019-04-20 23:16:14,034 : INFO : worker thread finished; awaiting finish of 2 more threads\n",
            "2019-04-20 23:16:14,035 : INFO : worker thread finished; awaiting finish of 1 more threads\n",
            "2019-04-20 23:16:14,036 : INFO : worker thread finished; awaiting finish of 0 more threads\n",
            "2019-04-20 23:16:14,037 : INFO : EPOCH - 5 : training on 4 raw words (0 effective words) took 0.0s, 0 effective words/s\n",
            "2019-04-20 23:16:14,038 : INFO : training on a 20 raw words (1 effective words) took 0.1s, 20 effective words/s\n",
            "2019-04-20 23:16:14,039 : WARNING : under 10 jobs per worker: consider setting a smaller `batch_words' for smoother alpha decay\n"
          ],
          "name": "stderr"
        }
      ]
    },
    {
      "metadata": {
        "id": "dVIXctvAPWOs",
        "colab_type": "code",
        "colab": {},
        "outputId": "31d9bbfb-5c02-4f90-823d-bfa02dad2df3"
      },
      "cell_type": "code",
      "source": [
        "print(model)\n"
      ],
      "execution_count": 0,
      "outputs": [
        {
          "output_type": "stream",
          "text": [
            "Word2Vec(vocab=3, size=256, alpha=0.025)\n"
          ],
          "name": "stdout"
        }
      ]
    },
    {
      "metadata": {
        "id": "ewM_yuRmPWOw",
        "colab_type": "code",
        "colab": {},
        "outputId": "ac2de41a-0a1c-46ca-9928-7415556a589e"
      },
      "cell_type": "code",
      "source": [
        "model.similarity('I am a hero','She is a teacher')\n"
      ],
      "execution_count": 0,
      "outputs": [
        {
          "output_type": "stream",
          "text": [
            "C:\\Anaconda3\\lib\\site-packages\\ipykernel_launcher.py:1: DeprecationWarning: Call to deprecated `similarity` (Method will be removed in 4.0.0, use self.wv.similarity() instead).\n",
            "  \"\"\"Entry point for launching an IPython kernel.\n"
          ],
          "name": "stderr"
        },
        {
          "output_type": "execute_result",
          "data": {
            "text/plain": [
              "0.056717195"
            ]
          },
          "metadata": {
            "tags": []
          },
          "execution_count": 5
        }
      ]
    },
    {
      "metadata": {
        "id": "ysw9qTn-PWO0",
        "colab_type": "code",
        "colab": {}
      },
      "cell_type": "code",
      "source": [
        ""
      ],
      "execution_count": 0,
      "outputs": []
    },
    {
      "metadata": {
        "id": "QNTG685gPWO2",
        "colab_type": "code",
        "colab": {}
      },
      "cell_type": "code",
      "source": [
        ""
      ],
      "execution_count": 0,
      "outputs": []
    },
    {
      "metadata": {
        "id": "91t2TZcoPWO7",
        "colab_type": "code",
        "colab": {}
      },
      "cell_type": "code",
      "source": [
        ""
      ],
      "execution_count": 0,
      "outputs": []
    },
    {
      "metadata": {
        "collapsed": true,
        "id": "udxyBmEQPWO_",
        "colab_type": "text"
      },
      "cell_type": "markdown",
      "source": [
        ""
      ]
    }
  ]
}