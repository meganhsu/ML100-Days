{
  "nbformat": 4,
  "nbformat_minor": 0,
  "metadata": {
    "colab": {
      "name": "Day67-Keras_Dataset_HW.ipynb",
      "version": "0.3.2",
      "provenance": [],
      "collapsed_sections": [],
      "include_colab_link": true
    },
    "language_info": {
      "codemirror_mode": {
        "name": "ipython",
        "version": 3
      },
      "file_extension": ".py",
      "mimetype": "text/x-python",
      "name": "python",
      "nbconvert_exporter": "python",
      "pygments_lexer": "ipython3",
      "version": "3.7.0"
    },
    "kernelspec": {
      "display_name": "Python 3",
      "language": "python",
      "name": "python3"
    }
  },
  "cells": [
    {
      "cell_type": "markdown",
      "metadata": {
        "id": "view-in-github",
        "colab_type": "text"
      },
      "source": [
        "<a href=\"https://colab.research.google.com/github/meganhsu/ML100-Days/blob/master/Day67_Keras_Dataset_HW.ipynb\" target=\"_parent\"><img src=\"https://colab.research.google.com/assets/colab-badge.svg\" alt=\"Open In Colab\"/></a>"
      ]
    },
    {
      "metadata": {
        "id": "AXZysqJEeJmA",
        "colab_type": "text"
      },
      "cell_type": "markdown",
      "source": [
        "# 作業:\n",
        "    請嘗試改用CIFAR100"
      ]
    },
    {
      "metadata": {
        "id": "6gVTdgbKeJmC",
        "colab_type": "text"
      },
      "cell_type": "markdown",
      "source": [
        "# Import Library"
      ]
    },
    {
      "metadata": {
        "id": "uftOEFCyeJmD",
        "colab_type": "code",
        "colab": {
          "base_uri": "https://localhost:8080/",
          "height": 34
        },
        "outputId": "3e7676ef-ec1e-4e38-ce3e-608547840341"
      },
      "cell_type": "code",
      "source": [
        "import numpy\n",
        "from keras.datasets import cifar100\n",
        "import numpy as np\n",
        "np.random.seed(100)"
      ],
      "execution_count": 1,
      "outputs": [
        {
          "output_type": "stream",
          "text": [
            "Using TensorFlow backend.\n"
          ],
          "name": "stderr"
        }
      ]
    },
    {
      "metadata": {
        "id": "_ZEUg0uoeJmN",
        "colab_type": "text"
      },
      "cell_type": "markdown",
      "source": [
        "# 資料準備"
      ]
    },
    {
      "metadata": {
        "id": "_qCbtei4eMZk",
        "colab_type": "code",
        "colab": {
          "base_uri": "https://localhost:8080/",
          "height": 86
        },
        "outputId": "809f4d0a-a92e-4e1b-cd25-96eddbfe7815"
      },
      "cell_type": "code",
      "source": [
        "(x_img_train,y_label_train), \\\n",
        "(x_img_test, y_label_test)=cifar100.load_data()\n",
        "print('train:',len(x_img_train))\n",
        "print('test :',len(x_img_test))"
      ],
      "execution_count": 2,
      "outputs": [
        {
          "output_type": "stream",
          "text": [
            "Downloading data from https://www.cs.toronto.edu/~kriz/cifar-100-python.tar.gz\n",
            "169009152/169001437 [==============================] - 46s 0us/step\n",
            "train: 50000\n",
            "test : 10000\n"
          ],
          "name": "stdout"
        }
      ]
    },
    {
      "metadata": {
        "id": "EZWLFWmFePOs",
        "colab_type": "code",
        "colab": {
          "base_uri": "https://localhost:8080/",
          "height": 69
        },
        "outputId": "e6e3b21e-dc46-46cb-a747-a73328a0aa77"
      },
      "cell_type": "code",
      "source": [
        "print(\"X shape:\",x_img_train.shape)\n",
        "print(\"Y shape:\",y_label_train.shape)\n",
        "print(\"Test X shape:\",x_img_test.shape)"
      ],
      "execution_count": 3,
      "outputs": [
        {
          "output_type": "stream",
          "text": [
            "X shape: (50000, 32, 32, 3)\n",
            "Y shape: (50000, 1)\n",
            "Test X shape: (10000, 32, 32, 3)\n"
          ],
          "name": "stdout"
        }
      ]
    },
    {
      "metadata": {
        "id": "8K6AUxa9eJmQ",
        "colab_type": "text"
      },
      "cell_type": "markdown",
      "source": [
        "# Image normalize "
      ]
    },
    {
      "metadata": {
        "id": "El97iaOCeOdG",
        "colab_type": "code",
        "colab": {
          "base_uri": "https://localhost:8080/",
          "height": 51
        },
        "outputId": "6d59c3bb-7950-4afd-ae25-9c58b7b1b3b0"
      },
      "cell_type": "code",
      "source": [
        "print(\"before normalize\",x_img_train[0][0][0])\n",
        "x_img_train_normalize = x_img_train.astype('float32') / 255.0\n",
        "x_img_test_normalize = x_img_test.astype('float32') / 255.0\n",
        "print(\"after normalize\",x_img_train_normalize[0][0][0])"
      ],
      "execution_count": 4,
      "outputs": [
        {
          "output_type": "stream",
          "text": [
            "before normalize [255 255 255]\n",
            "after normalize [1. 1. 1.]\n"
          ],
          "name": "stdout"
        }
      ]
    },
    {
      "metadata": {
        "id": "2_tK5YImeJmR",
        "colab_type": "text"
      },
      "cell_type": "markdown",
      "source": [
        "# 轉換label 為OneHot Encoding"
      ]
    },
    {
      "metadata": {
        "id": "pPYL12GLeWHf",
        "colab_type": "code",
        "colab": {
          "base_uri": "https://localhost:8080/",
          "height": 103
        },
        "outputId": "c6c869a5-c341-4fdb-801d-dde0a766a9d3"
      },
      "cell_type": "code",
      "source": [
        "y_label_train[:5]"
      ],
      "execution_count": 5,
      "outputs": [
        {
          "output_type": "execute_result",
          "data": {
            "text/plain": [
              "array([[19],\n",
              "       [29],\n",
              "       [ 0],\n",
              "       [11],\n",
              "       [ 1]])"
            ]
          },
          "metadata": {
            "tags": []
          },
          "execution_count": 5
        }
      ]
    },
    {
      "metadata": {
        "id": "gx2k8S0deX6E",
        "colab_type": "code",
        "colab": {
          "base_uri": "https://localhost:8080/",
          "height": 464
        },
        "outputId": "cc93dfc0-3f3e-40b4-8fa9-d800a156f121"
      },
      "cell_type": "code",
      "source": [
        "from keras.utils import np_utils\n",
        "y_label_train_OneHot = np_utils.to_categorical(y_label_train)\n",
        "y_label_test_OneHot = np_utils.to_categorical(y_label_test)\n",
        "print(y_label_train_OneHot.shape)\n",
        "print(y_label_train_OneHot[:5])"
      ],
      "execution_count": 6,
      "outputs": [
        {
          "output_type": "stream",
          "text": [
            "(50000, 100)\n",
            "[[0. 0. 0. 0. 0. 0. 0. 0. 0. 0. 0. 0. 0. 0. 0. 0. 0. 0. 0. 1. 0. 0. 0. 0.\n",
            "  0. 0. 0. 0. 0. 0. 0. 0. 0. 0. 0. 0. 0. 0. 0. 0. 0. 0. 0. 0. 0. 0. 0. 0.\n",
            "  0. 0. 0. 0. 0. 0. 0. 0. 0. 0. 0. 0. 0. 0. 0. 0. 0. 0. 0. 0. 0. 0. 0. 0.\n",
            "  0. 0. 0. 0. 0. 0. 0. 0. 0. 0. 0. 0. 0. 0. 0. 0. 0. 0. 0. 0. 0. 0. 0. 0.\n",
            "  0. 0. 0. 0.]\n",
            " [0. 0. 0. 0. 0. 0. 0. 0. 0. 0. 0. 0. 0. 0. 0. 0. 0. 0. 0. 0. 0. 0. 0. 0.\n",
            "  0. 0. 0. 0. 0. 1. 0. 0. 0. 0. 0. 0. 0. 0. 0. 0. 0. 0. 0. 0. 0. 0. 0. 0.\n",
            "  0. 0. 0. 0. 0. 0. 0. 0. 0. 0. 0. 0. 0. 0. 0. 0. 0. 0. 0. 0. 0. 0. 0. 0.\n",
            "  0. 0. 0. 0. 0. 0. 0. 0. 0. 0. 0. 0. 0. 0. 0. 0. 0. 0. 0. 0. 0. 0. 0. 0.\n",
            "  0. 0. 0. 0.]\n",
            " [1. 0. 0. 0. 0. 0. 0. 0. 0. 0. 0. 0. 0. 0. 0. 0. 0. 0. 0. 0. 0. 0. 0. 0.\n",
            "  0. 0. 0. 0. 0. 0. 0. 0. 0. 0. 0. 0. 0. 0. 0. 0. 0. 0. 0. 0. 0. 0. 0. 0.\n",
            "  0. 0. 0. 0. 0. 0. 0. 0. 0. 0. 0. 0. 0. 0. 0. 0. 0. 0. 0. 0. 0. 0. 0. 0.\n",
            "  0. 0. 0. 0. 0. 0. 0. 0. 0. 0. 0. 0. 0. 0. 0. 0. 0. 0. 0. 0. 0. 0. 0. 0.\n",
            "  0. 0. 0. 0.]\n",
            " [0. 0. 0. 0. 0. 0. 0. 0. 0. 0. 0. 1. 0. 0. 0. 0. 0. 0. 0. 0. 0. 0. 0. 0.\n",
            "  0. 0. 0. 0. 0. 0. 0. 0. 0. 0. 0. 0. 0. 0. 0. 0. 0. 0. 0. 0. 0. 0. 0. 0.\n",
            "  0. 0. 0. 0. 0. 0. 0. 0. 0. 0. 0. 0. 0. 0. 0. 0. 0. 0. 0. 0. 0. 0. 0. 0.\n",
            "  0. 0. 0. 0. 0. 0. 0. 0. 0. 0. 0. 0. 0. 0. 0. 0. 0. 0. 0. 0. 0. 0. 0. 0.\n",
            "  0. 0. 0. 0.]\n",
            " [0. 1. 0. 0. 0. 0. 0. 0. 0. 0. 0. 0. 0. 0. 0. 0. 0. 0. 0. 0. 0. 0. 0. 0.\n",
            "  0. 0. 0. 0. 0. 0. 0. 0. 0. 0. 0. 0. 0. 0. 0. 0. 0. 0. 0. 0. 0. 0. 0. 0.\n",
            "  0. 0. 0. 0. 0. 0. 0. 0. 0. 0. 0. 0. 0. 0. 0. 0. 0. 0. 0. 0. 0. 0. 0. 0.\n",
            "  0. 0. 0. 0. 0. 0. 0. 0. 0. 0. 0. 0. 0. 0. 0. 0. 0. 0. 0. 0. 0. 0. 0. 0.\n",
            "  0. 0. 0. 0.]]\n"
          ],
          "name": "stdout"
        }
      ]
    },
    {
      "metadata": {
        "id": "vv9viklHeYPG",
        "colab_type": "code",
        "colab": {}
      },
      "cell_type": "code",
      "source": [
        ""
      ],
      "execution_count": 0,
      "outputs": []
    }
  ]
}