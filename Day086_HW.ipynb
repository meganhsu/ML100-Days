{
  "nbformat": 4,
  "nbformat_minor": 0,
  "metadata": {
    "colab": {
      "name": "Day086_HW.ipynb",
      "version": "0.3.2",
      "provenance": [],
      "include_colab_link": true
    },
    "language_info": {
      "codemirror_mode": {
        "name": "ipython",
        "version": 3
      },
      "file_extension": ".py",
      "mimetype": "text/x-python",
      "name": "python",
      "nbconvert_exporter": "python",
      "pygments_lexer": "ipython3",
      "version": "3.5.6"
    },
    "kernelspec": {
      "name": "python3",
      "display_name": "Python 3"
    },
    "accelerator": "TPU"
  },
  "cells": [
    {
      "cell_type": "markdown",
      "metadata": {
        "id": "view-in-github",
        "colab_type": "text"
      },
      "source": [
        "<a href=\"https://colab.research.google.com/github/meganhsu/ML100-Days/blob/master/Day086_HW.ipynb\" target=\"_parent\"><img src=\"https://colab.research.google.com/assets/colab-badge.svg\" alt=\"Open In Colab\"/></a>"
      ]
    },
    {
      "metadata": {
        "id": "9rze3Lh5YktB",
        "colab_type": "text"
      },
      "cell_type": "markdown",
      "source": [
        "## Work\n",
        "1. 試比較 save_best_only 與否的差異\n",
        "2. 請僅存入將 save_weights_only 設定為 True, 並嘗試 reset ipynb 並將模型與權重重新建回並預測 x_test"
      ]
    },
    {
      "metadata": {
        "id": "MMgp5iMnYktC",
        "colab_type": "code",
        "colab": {
          "base_uri": "https://localhost:8080/",
          "height": 34
        },
        "outputId": "cfff3962-ad84-499f-9b54-76178dcb1faf"
      },
      "cell_type": "code",
      "source": [
        "import os\n",
        "import keras\n",
        "\n",
        "# Disable GPU\n",
        "os.environ[\"CUDA_VISIBLE_DEVICES\"] = \"\""
      ],
      "execution_count": 1,
      "outputs": [
        {
          "output_type": "stream",
          "text": [
            "Using TensorFlow backend.\n"
          ],
          "name": "stderr"
        }
      ]
    },
    {
      "metadata": {
        "id": "TXpLVG-vYktG",
        "colab_type": "code",
        "colab": {
          "base_uri": "https://localhost:8080/",
          "height": 51
        },
        "outputId": "38483172-46a9-42e5-f988-2f736f50b82f"
      },
      "cell_type": "code",
      "source": [
        "train, test = keras.datasets.cifar10.load_data()"
      ],
      "execution_count": 2,
      "outputs": [
        {
          "output_type": "stream",
          "text": [
            "Downloading data from https://www.cs.toronto.edu/~kriz/cifar-10-python.tar.gz\n",
            "170500096/170498071 [==============================] - 34s 0us/step\n"
          ],
          "name": "stdout"
        }
      ]
    },
    {
      "metadata": {
        "id": "7nFDBaR5YktJ",
        "colab_type": "code",
        "colab": {}
      },
      "cell_type": "code",
      "source": [
        "## 資料前處理\n",
        "def preproc_x(x, flatten=True):\n",
        "    x = x / 255.\n",
        "    if flatten:\n",
        "        x = x.reshape((len(x), -1))\n",
        "    return x\n",
        "\n",
        "def preproc_y(y, num_classes=10):\n",
        "    if y.shape[-1] == 1:\n",
        "        y = keras.utils.to_categorical(y, num_classes)\n",
        "    return y    "
      ],
      "execution_count": 0,
      "outputs": []
    },
    {
      "metadata": {
        "id": "z6-H90c_YktM",
        "colab_type": "code",
        "colab": {}
      },
      "cell_type": "code",
      "source": [
        "x_train, y_train = train\n",
        "x_test, y_test = test\n",
        "\n",
        "# Preproc the inputs\n",
        "x_train = preproc_x(x_train)\n",
        "x_test = preproc_x(x_test)\n",
        "\n",
        "# Preprc the outputs\n",
        "y_train = preproc_y(y_train)\n",
        "y_test = preproc_y(y_test)"
      ],
      "execution_count": 0,
      "outputs": []
    },
    {
      "metadata": {
        "id": "d3egjzj4YktO",
        "colab_type": "code",
        "colab": {}
      },
      "cell_type": "code",
      "source": [
        "from keras.layers import BatchNormalization\n",
        "def build_mlp(input_shape, output_units=10, num_neurons=[512, 256, 128]):\n",
        "    \"\"\"\n",
        "    Build your own model\n",
        "    \"\"\"\n",
        "    input_layer = keras.layers.Input(input_shape)\n",
        "    \n",
        "    for i, n_units in enumerate(num_neurons):\n",
        "        if i == 0:\n",
        "            x = keras.layers.Dense(units=n_units, \n",
        "                                   activation=\"relu\", \n",
        "                                   name=\"hidden_layer\"+str(i+1))(input_layer)\n",
        "            x = BatchNormalization()(x)\n",
        "        else:\n",
        "            x = keras.layers.Dense(units=n_units, \n",
        "                                   activation=\"relu\", \n",
        "                                   name=\"hidden_layer\"+str(i+1))(x)\n",
        "            x = BatchNormalization()(x)\n",
        "    \n",
        "    out = keras.layers.Dense(units=output_units, activation=\"softmax\", name=\"output\")(x)\n",
        "    \n",
        "    model = keras.models.Model(inputs=[input_layer], outputs=[out])\n",
        "    return model"
      ],
      "execution_count": 0,
      "outputs": []
    },
    {
      "metadata": {
        "id": "tQ7Wt372YktR",
        "colab_type": "code",
        "colab": {}
      },
      "cell_type": "code",
      "source": [
        "## 超參數設定\n",
        "\"\"\"\n",
        "Set your hyper-parameters\n",
        "\"\"\"\n",
        "LEARNING_RATE = 1e-3\n",
        "EPOCHS = 20\n",
        "BATCH_SIZE = 1024\n",
        "MOMENTUM = 0.95"
      ],
      "execution_count": 0,
      "outputs": []
    },
    {
      "metadata": {
        "id": "HhjRRVKPYktU",
        "colab_type": "code",
        "colab": {}
      },
      "cell_type": "code",
      "source": [
        "# 載入 Callbacks\n",
        "from keras.callbacks import ModelCheckpoint\n",
        "\"\"\"\n",
        "Set model checkpoint callbacks\n",
        "\"\"\"\n",
        "model_ckpt = ModelCheckpoint(filepath=\"./tmp.h5\", \n",
        "                             monitor=\"val_loss\", \n",
        "                             save_best_only=True)"
      ],
      "execution_count": 0,
      "outputs": []
    },
    {
      "metadata": {
        "scrolled": true,
        "id": "fD_NsFTnYktY",
        "colab_type": "code",
        "colab": {
          "base_uri": "https://localhost:8080/",
          "height": 1258
        },
        "outputId": "95da9ecb-05e8-43b0-ad9d-7d4d14a42ea4"
      },
      "cell_type": "code",
      "source": [
        "\"\"\"\n",
        "Write your training loop and show the results\n",
        "\"\"\"\n",
        "model = build_mlp(input_shape=x_train.shape[1:])\n",
        "model.summary()\n",
        "optimizer = keras.optimizers.SGD(lr=LEARNING_RATE, nesterov=True, momentum=MOMENTUM)\n",
        "model.compile(loss=\"categorical_crossentropy\", metrics=[\"accuracy\"], optimizer=optimizer)\n",
        "\n",
        "model.fit(x_train, y_train, \n",
        "          epochs=EPOCHS, \n",
        "          batch_size=BATCH_SIZE, \n",
        "          validation_data=(x_test, y_test), \n",
        "          shuffle=True,\n",
        "          callbacks=[model_ckpt]\n",
        "         )\n",
        "\n",
        "# Collect results\n",
        "train_loss = model.history.history[\"loss\"]\n",
        "valid_loss = model.history.history[\"val_loss\"]\n",
        "train_acc = model.history.history[\"acc\"]\n",
        "valid_acc = model.history.history[\"val_acc\"]\n",
        "\n",
        "# Load back\n",
        "model = keras.models.load_model(\"./tmp.h5\")\n",
        "loss_loadback, acc_loadback = model.evaluate(x_test, y_test)"
      ],
      "execution_count": 8,
      "outputs": [
        {
          "output_type": "stream",
          "text": [
            "WARNING:tensorflow:From /usr/local/lib/python3.6/dist-packages/tensorflow/python/framework/op_def_library.py:263: colocate_with (from tensorflow.python.framework.ops) is deprecated and will be removed in a future version.\n",
            "Instructions for updating:\n",
            "Colocations handled automatically by placer.\n",
            "_________________________________________________________________\n",
            "Layer (type)                 Output Shape              Param #   \n",
            "=================================================================\n",
            "input_1 (InputLayer)         (None, 3072)              0         \n",
            "_________________________________________________________________\n",
            "hidden_layer1 (Dense)        (None, 512)               1573376   \n",
            "_________________________________________________________________\n",
            "batch_normalization_1 (Batch (None, 512)               2048      \n",
            "_________________________________________________________________\n",
            "hidden_layer2 (Dense)        (None, 256)               131328    \n",
            "_________________________________________________________________\n",
            "batch_normalization_2 (Batch (None, 256)               1024      \n",
            "_________________________________________________________________\n",
            "hidden_layer3 (Dense)        (None, 128)               32896     \n",
            "_________________________________________________________________\n",
            "batch_normalization_3 (Batch (None, 128)               512       \n",
            "_________________________________________________________________\n",
            "output (Dense)               (None, 10)                1290      \n",
            "=================================================================\n",
            "Total params: 1,742,474\n",
            "Trainable params: 1,740,682\n",
            "Non-trainable params: 1,792\n",
            "_________________________________________________________________\n",
            "WARNING:tensorflow:From /usr/local/lib/python3.6/dist-packages/tensorflow/python/ops/math_ops.py:3066: to_int32 (from tensorflow.python.ops.math_ops) is deprecated and will be removed in a future version.\n",
            "Instructions for updating:\n",
            "Use tf.cast instead.\n",
            "Train on 50000 samples, validate on 10000 samples\n",
            "Epoch 1/20\n",
            "50000/50000 [==============================] - 11s 218us/step - loss: 2.1950 - acc: 0.2704 - val_loss: 2.0841 - val_acc: 0.3126\n",
            "Epoch 2/20\n",
            "50000/50000 [==============================] - 10s 192us/step - loss: 1.7396 - acc: 0.3878 - val_loss: 1.8239 - val_acc: 0.3697\n",
            "Epoch 3/20\n",
            "50000/50000 [==============================] - 9s 187us/step - loss: 1.6158 - acc: 0.4319 - val_loss: 1.7002 - val_acc: 0.4057\n",
            "Epoch 4/20\n",
            "50000/50000 [==============================] - 10s 194us/step - loss: 1.5435 - acc: 0.4576 - val_loss: 1.6358 - val_acc: 0.4249\n",
            "Epoch 5/20\n",
            "50000/50000 [==============================] - 10s 191us/step - loss: 1.4894 - acc: 0.4785 - val_loss: 1.6019 - val_acc: 0.4348\n",
            "Epoch 6/20\n",
            "50000/50000 [==============================] - 9s 186us/step - loss: 1.4449 - acc: 0.4941 - val_loss: 1.5700 - val_acc: 0.4502\n",
            "Epoch 7/20\n",
            "50000/50000 [==============================] - 9s 188us/step - loss: 1.4063 - acc: 0.5072 - val_loss: 1.5483 - val_acc: 0.4524\n",
            "Epoch 8/20\n",
            "50000/50000 [==============================] - 9s 189us/step - loss: 1.3689 - acc: 0.5208 - val_loss: 1.5290 - val_acc: 0.4558\n",
            "Epoch 9/20\n",
            "50000/50000 [==============================] - 9s 187us/step - loss: 1.3395 - acc: 0.5328 - val_loss: 1.5198 - val_acc: 0.4669\n",
            "Epoch 10/20\n",
            "50000/50000 [==============================] - 9s 189us/step - loss: 1.3107 - acc: 0.5417 - val_loss: 1.5132 - val_acc: 0.4677\n",
            "Epoch 11/20\n",
            "50000/50000 [==============================] - 10s 190us/step - loss: 1.2831 - acc: 0.5525 - val_loss: 1.5025 - val_acc: 0.4721\n",
            "Epoch 12/20\n",
            "50000/50000 [==============================] - 10s 207us/step - loss: 1.2579 - acc: 0.5611 - val_loss: 1.4916 - val_acc: 0.4725\n",
            "Epoch 13/20\n",
            "50000/50000 [==============================] - 13s 252us/step - loss: 1.2311 - acc: 0.5731 - val_loss: 1.4763 - val_acc: 0.4822\n",
            "Epoch 14/20\n",
            "50000/50000 [==============================] - 10s 191us/step - loss: 1.2066 - acc: 0.5808 - val_loss: 1.4688 - val_acc: 0.4807\n",
            "Epoch 15/20\n",
            "50000/50000 [==============================] - 10s 198us/step - loss: 1.1823 - acc: 0.5882 - val_loss: 1.4714 - val_acc: 0.4820\n",
            "Epoch 16/20\n",
            "50000/50000 [==============================] - 13s 264us/step - loss: 1.1611 - acc: 0.5983 - val_loss: 1.4645 - val_acc: 0.4846\n",
            "Epoch 17/20\n",
            "50000/50000 [==============================] - 19s 374us/step - loss: 1.1384 - acc: 0.6063 - val_loss: 1.4720 - val_acc: 0.4849\n",
            "Epoch 18/20\n",
            "50000/50000 [==============================] - 19s 378us/step - loss: 1.1149 - acc: 0.6148 - val_loss: 1.4675 - val_acc: 0.4853\n",
            "Epoch 19/20\n",
            "50000/50000 [==============================] - 18s 364us/step - loss: 1.0942 - acc: 0.6233 - val_loss: 1.4636 - val_acc: 0.4869\n",
            "Epoch 20/20\n",
            "50000/50000 [==============================] - 19s 378us/step - loss: 1.0728 - acc: 0.6309 - val_loss: 1.4561 - val_acc: 0.4876\n",
            "10000/10000 [==============================] - 3s 329us/step\n"
          ],
          "name": "stdout"
        }
      ]
    },
    {
      "metadata": {
        "id": "oKr14zEHYxbL",
        "colab_type": "code",
        "colab": {}
      },
      "cell_type": "code",
      "source": [
        "# 載入 Callbacks\n",
        "from keras.callbacks import ModelCheckpoint\n",
        "\"\"\"\n",
        "Set model checkpoint callbacks\n",
        "\"\"\"\n",
        "\n",
        "model_ckpt = ModelCheckpoint(filepath=\"./tmp.h5\", \n",
        "                             monitor=\"val_loss\", \n",
        "                             save_best_only=False)"
      ],
      "execution_count": 0,
      "outputs": []
    },
    {
      "metadata": {
        "id": "Dc7qfI2RYzYU",
        "colab_type": "code",
        "colab": {
          "base_uri": "https://localhost:8080/",
          "height": 1155
        },
        "outputId": "b7b6c0c9-2597-4e5e-9551-00c660c8b679"
      },
      "cell_type": "code",
      "source": [
        "\"\"\"\n",
        "Write your training loop and show the results\n",
        "\"\"\"\n",
        "model = build_mlp(input_shape=x_train.shape[1:])\n",
        "model.summary()\n",
        "optimizer = keras.optimizers.SGD(lr=LEARNING_RATE, nesterov=True, momentum=MOMENTUM)\n",
        "model.compile(loss=\"categorical_crossentropy\", metrics=[\"accuracy\"], optimizer=optimizer)\n",
        "\n",
        "model.fit(x_train, y_train, \n",
        "          epochs=EPOCHS, \n",
        "          batch_size=BATCH_SIZE, \n",
        "          validation_data=(x_test, y_test), \n",
        "          shuffle=True,\n",
        "          callbacks=[model_ckpt]\n",
        "         )\n",
        "\n",
        "# Collect results\n",
        "train_loss = model.history.history[\"loss\"]\n",
        "valid_loss = model.history.history[\"val_loss\"]\n",
        "train_acc = model.history.history[\"acc\"]\n",
        "valid_acc = model.history.history[\"val_acc\"]\n",
        "\n",
        "# Load back\n",
        "model = keras.models.load_model(\"./tmp.h5\")\n",
        "loss_loadback, acc_loadback = model.evaluate(x_test, y_test)"
      ],
      "execution_count": 10,
      "outputs": [
        {
          "output_type": "stream",
          "text": [
            "_________________________________________________________________\n",
            "Layer (type)                 Output Shape              Param #   \n",
            "=================================================================\n",
            "input_2 (InputLayer)         (None, 3072)              0         \n",
            "_________________________________________________________________\n",
            "hidden_layer1 (Dense)        (None, 512)               1573376   \n",
            "_________________________________________________________________\n",
            "batch_normalization_4 (Batch (None, 512)               2048      \n",
            "_________________________________________________________________\n",
            "hidden_layer2 (Dense)        (None, 256)               131328    \n",
            "_________________________________________________________________\n",
            "batch_normalization_5 (Batch (None, 256)               1024      \n",
            "_________________________________________________________________\n",
            "hidden_layer3 (Dense)        (None, 128)               32896     \n",
            "_________________________________________________________________\n",
            "batch_normalization_6 (Batch (None, 128)               512       \n",
            "_________________________________________________________________\n",
            "output (Dense)               (None, 10)                1290      \n",
            "=================================================================\n",
            "Total params: 1,742,474\n",
            "Trainable params: 1,740,682\n",
            "Non-trainable params: 1,792\n",
            "_________________________________________________________________\n",
            "Train on 50000 samples, validate on 10000 samples\n",
            "Epoch 1/20\n",
            "50000/50000 [==============================] - 21s 410us/step - loss: 2.2245 - acc: 0.2648 - val_loss: 2.1014 - val_acc: 0.3251\n",
            "Epoch 2/20\n",
            "50000/50000 [==============================] - 18s 361us/step - loss: 1.7462 - acc: 0.3950 - val_loss: 1.7854 - val_acc: 0.3929\n",
            "Epoch 3/20\n",
            "50000/50000 [==============================] - 19s 371us/step - loss: 1.6219 - acc: 0.4340 - val_loss: 1.6916 - val_acc: 0.4124\n",
            "Epoch 4/20\n",
            "50000/50000 [==============================] - 19s 372us/step - loss: 1.5487 - acc: 0.4605 - val_loss: 1.6305 - val_acc: 0.4279\n",
            "Epoch 5/20\n",
            "50000/50000 [==============================] - 18s 366us/step - loss: 1.4947 - acc: 0.4781 - val_loss: 1.5927 - val_acc: 0.4423\n",
            "Epoch 6/20\n",
            "50000/50000 [==============================] - 19s 376us/step - loss: 1.4490 - acc: 0.4939 - val_loss: 1.5658 - val_acc: 0.4474\n",
            "Epoch 7/20\n",
            "50000/50000 [==============================] - 18s 366us/step - loss: 1.4110 - acc: 0.5094 - val_loss: 1.5424 - val_acc: 0.4586\n",
            "Epoch 8/20\n",
            "50000/50000 [==============================] - 18s 367us/step - loss: 1.3752 - acc: 0.5211 - val_loss: 1.5249 - val_acc: 0.4621\n",
            "Epoch 9/20\n",
            "50000/50000 [==============================] - 18s 367us/step - loss: 1.3433 - acc: 0.5324 - val_loss: 1.5115 - val_acc: 0.4624\n",
            "Epoch 10/20\n",
            "50000/50000 [==============================] - 19s 377us/step - loss: 1.3133 - acc: 0.5445 - val_loss: 1.5072 - val_acc: 0.4696\n",
            "Epoch 11/20\n",
            "50000/50000 [==============================] - 18s 370us/step - loss: 1.2841 - acc: 0.5560 - val_loss: 1.4947 - val_acc: 0.4716\n",
            "Epoch 12/20\n",
            "50000/50000 [==============================] - 18s 362us/step - loss: 1.2566 - acc: 0.5665 - val_loss: 1.4748 - val_acc: 0.4791\n",
            "Epoch 13/20\n",
            "50000/50000 [==============================] - 11s 226us/step - loss: 1.2328 - acc: 0.5735 - val_loss: 1.4653 - val_acc: 0.4826\n",
            "Epoch 14/20\n",
            "50000/50000 [==============================] - 9s 187us/step - loss: 1.2079 - acc: 0.5830 - val_loss: 1.4689 - val_acc: 0.4760\n",
            "Epoch 15/20\n",
            "50000/50000 [==============================] - 9s 187us/step - loss: 1.1831 - acc: 0.5917 - val_loss: 1.4540 - val_acc: 0.4816\n",
            "Epoch 16/20\n",
            "50000/50000 [==============================] - 9s 188us/step - loss: 1.1598 - acc: 0.6029 - val_loss: 1.4604 - val_acc: 0.4843\n",
            "Epoch 17/20\n",
            "50000/50000 [==============================] - 9s 187us/step - loss: 1.1383 - acc: 0.6099 - val_loss: 1.4563 - val_acc: 0.4820\n",
            "Epoch 18/20\n",
            "50000/50000 [==============================] - 9s 189us/step - loss: 1.1147 - acc: 0.6198 - val_loss: 1.4569 - val_acc: 0.4811\n",
            "Epoch 19/20\n",
            "50000/50000 [==============================] - 9s 189us/step - loss: 1.0916 - acc: 0.6282 - val_loss: 1.4523 - val_acc: 0.4857\n",
            "Epoch 20/20\n",
            "50000/50000 [==============================] - 9s 186us/step - loss: 1.0703 - acc: 0.6362 - val_loss: 1.4443 - val_acc: 0.4898\n",
            "10000/10000 [==============================] - 2s 194us/step\n"
          ],
          "name": "stdout"
        }
      ]
    },
    {
      "metadata": {
        "id": "7IAht0pEY1Fh",
        "colab_type": "code",
        "colab": {
          "base_uri": "https://localhost:8080/",
          "height": 545
        },
        "outputId": "04387240-d406-43bb-f027-5039172ffd8a"
      },
      "cell_type": "code",
      "source": [
        "import matplotlib.pyplot as plt\n",
        "%matplotlib inline\n",
        "\n",
        "plt.plot(range(len(train_loss)), train_loss, label=\"train loss\")\n",
        "plt.plot(range(len(valid_loss)), valid_loss, label=\"valid loss\")\n",
        "plt.hlines(y=loss_loadback, xmin=0, xmax=len(train_loss), colors='r', linestyles='--')\n",
        "plt.legend()\n",
        "plt.title(\"Loss\")\n",
        "plt.show()\n",
        "\n",
        "plt.plot(range(len(train_acc)), train_acc, label=\"train accuracy\")\n",
        "plt.plot(range(len(valid_acc)), valid_acc, label=\"valid accuracy\")\n",
        "plt.hlines(y=acc_loadback, xmin=0, xmax=len(train_loss), colors='r', linestyles='--')\n",
        "plt.legend()\n",
        "plt.title(\"Accuracy\")\n",
        "plt.show()"
      ],
      "execution_count": 11,
      "outputs": [
        {
          "output_type": "display_data",
          "data": {
            "image/png": "[encoded data removed]",
            "text/plain": [
              "<Figure size 432x288 with 1 Axes>"
            ]
          },
          "metadata": {
            "tags": []
          }
        },
        {
          "output_type": "display_data",
          "data": {
            "image/png": "[encoded data removed]",
            "text/plain": [
              "<Figure size 432x288 with 1 Axes>"
            ]
          },
          "metadata": {
            "tags": []
          }
        }
      ]
    },
    {
      "metadata": {
        "id": "CbTpYeNbY3Kk",
        "colab_type": "code",
        "colab": {}
      },
      "cell_type": "code",
      "source": [
        "# 載入 Callbacks\n",
        "from keras.callbacks import ModelCheckpoint\n",
        "\"\"\"\n",
        "Set model checkpoint callbacks\n",
        "\"\"\"\n",
        "\n",
        "model_ckpt = ModelCheckpoint(filepath=\"./tmp2.h5\", \n",
        "                             monitor=\"val_loss\", \n",
        "                             save_best_only=True,\n",
        "                            save_weights_only=True)"
      ],
      "execution_count": 0,
      "outputs": []
    },
    {
      "metadata": {
        "id": "NWWz1PAHY4jz",
        "colab_type": "code",
        "colab": {
          "base_uri": "https://localhost:8080/",
          "height": 1155
        },
        "outputId": "721fc550-b542-4fd5-f327-305facf2bb48"
      },
      "cell_type": "code",
      "source": [
        "\"\"\"\n",
        "Write your training loop and show the results\n",
        "\"\"\"\n",
        "model = build_mlp(input_shape=x_train.shape[1:])\n",
        "model.summary()\n",
        "optimizer = keras.optimizers.SGD(lr=LEARNING_RATE, nesterov=True, momentum=MOMENTUM)\n",
        "model.compile(loss=\"categorical_crossentropy\", metrics=[\"accuracy\"], optimizer=optimizer)\n",
        "\n",
        "model.fit(x_train, y_train, \n",
        "          epochs=EPOCHS, \n",
        "          batch_size=BATCH_SIZE, \n",
        "          validation_data=(x_test, y_test), \n",
        "          shuffle=True,\n",
        "          callbacks=[model_ckpt]\n",
        "         )\n",
        "\n",
        "# Collect results\n",
        "train_loss = model.history.history[\"loss\"]\n",
        "valid_loss = model.history.history[\"val_loss\"]\n",
        "train_acc = model.history.history[\"acc\"]\n",
        "valid_acc = model.history.history[\"val_acc\"]\n",
        "\n",
        "# Load back\n",
        "model = keras.models.load_model(\"./tmp.h5\")\n",
        "loss_loadback, acc_loadback = model.evaluate(x_test, y_test)"
      ],
      "execution_count": 13,
      "outputs": [
        {
          "output_type": "stream",
          "text": [
            "_________________________________________________________________\n",
            "Layer (type)                 Output Shape              Param #   \n",
            "=================================================================\n",
            "input_3 (InputLayer)         (None, 3072)              0         \n",
            "_________________________________________________________________\n",
            "hidden_layer1 (Dense)        (None, 512)               1573376   \n",
            "_________________________________________________________________\n",
            "batch_normalization_7 (Batch (None, 512)               2048      \n",
            "_________________________________________________________________\n",
            "hidden_layer2 (Dense)        (None, 256)               131328    \n",
            "_________________________________________________________________\n",
            "batch_normalization_8 (Batch (None, 256)               1024      \n",
            "_________________________________________________________________\n",
            "hidden_layer3 (Dense)        (None, 128)               32896     \n",
            "_________________________________________________________________\n",
            "batch_normalization_9 (Batch (None, 128)               512       \n",
            "_________________________________________________________________\n",
            "output (Dense)               (None, 10)                1290      \n",
            "=================================================================\n",
            "Total params: 1,742,474\n",
            "Trainable params: 1,740,682\n",
            "Non-trainable params: 1,792\n",
            "_________________________________________________________________\n",
            "Train on 50000 samples, validate on 10000 samples\n",
            "Epoch 1/20\n",
            "50000/50000 [==============================] - 11s 213us/step - loss: 2.2224 - acc: 0.2727 - val_loss: 2.0910 - val_acc: 0.3240\n",
            "Epoch 2/20\n",
            "50000/50000 [==============================] - 9s 184us/step - loss: 1.7443 - acc: 0.3949 - val_loss: 1.8181 - val_acc: 0.3748\n",
            "Epoch 3/20\n",
            "50000/50000 [==============================] - 9s 188us/step - loss: 1.6148 - acc: 0.4354 - val_loss: 1.6920 - val_acc: 0.4121\n",
            "Epoch 4/20\n",
            "50000/50000 [==============================] - 9s 186us/step - loss: 1.5409 - acc: 0.4627 - val_loss: 1.6271 - val_acc: 0.4345\n",
            "Epoch 5/20\n",
            "50000/50000 [==============================] - 9s 185us/step - loss: 1.4850 - acc: 0.4810 - val_loss: 1.5947 - val_acc: 0.4413\n",
            "Epoch 6/20\n",
            "50000/50000 [==============================] - 9s 178us/step - loss: 1.4410 - acc: 0.4967 - val_loss: 1.5661 - val_acc: 0.4526\n",
            "Epoch 7/20\n",
            "50000/50000 [==============================] - 9s 187us/step - loss: 1.4018 - acc: 0.5121 - val_loss: 1.5545 - val_acc: 0.4565\n",
            "Epoch 8/20\n",
            "50000/50000 [==============================] - 9s 186us/step - loss: 1.3653 - acc: 0.5262 - val_loss: 1.5328 - val_acc: 0.4624\n",
            "Epoch 9/20\n",
            "50000/50000 [==============================] - 9s 187us/step - loss: 1.3307 - acc: 0.5378 - val_loss: 1.5204 - val_acc: 0.4678\n",
            "Epoch 10/20\n",
            "50000/50000 [==============================] - 9s 186us/step - loss: 1.3013 - acc: 0.5493 - val_loss: 1.5111 - val_acc: 0.4762\n",
            "Epoch 11/20\n",
            "50000/50000 [==============================] - 9s 189us/step - loss: 1.2747 - acc: 0.5584 - val_loss: 1.5027 - val_acc: 0.4750\n",
            "Epoch 12/20\n",
            "50000/50000 [==============================] - 10s 192us/step - loss: 1.2458 - acc: 0.5691 - val_loss: 1.4893 - val_acc: 0.4798\n",
            "Epoch 13/20\n",
            "50000/50000 [==============================] - 9s 186us/step - loss: 1.2200 - acc: 0.5783 - val_loss: 1.4870 - val_acc: 0.4819\n",
            "Epoch 14/20\n",
            "50000/50000 [==============================] - 9s 188us/step - loss: 1.1947 - acc: 0.5877 - val_loss: 1.4860 - val_acc: 0.4832\n",
            "Epoch 15/20\n",
            "50000/50000 [==============================] - 9s 188us/step - loss: 1.1686 - acc: 0.5978 - val_loss: 1.4739 - val_acc: 0.4879\n",
            "Epoch 16/20\n",
            "50000/50000 [==============================] - 9s 186us/step - loss: 1.1450 - acc: 0.6077 - val_loss: 1.4641 - val_acc: 0.4875\n",
            "Epoch 17/20\n",
            "50000/50000 [==============================] - 9s 187us/step - loss: 1.1233 - acc: 0.6162 - val_loss: 1.4682 - val_acc: 0.4859\n",
            "Epoch 18/20\n",
            "50000/50000 [==============================] - 10s 190us/step - loss: 1.1007 - acc: 0.6257 - val_loss: 1.4709 - val_acc: 0.4875\n",
            "Epoch 19/20\n",
            "50000/50000 [==============================] - 9s 187us/step - loss: 1.0793 - acc: 0.6327 - val_loss: 1.4734 - val_acc: 0.4909\n",
            "Epoch 20/20\n",
            "50000/50000 [==============================] - 9s 187us/step - loss: 1.0567 - acc: 0.6401 - val_loss: 1.4598 - val_acc: 0.4951\n",
            "10000/10000 [==============================] - 2s 210us/step\n"
          ],
          "name": "stdout"
        }
      ]
    },
    {
      "metadata": {
        "id": "PCpTbORAY6Bc",
        "colab_type": "code",
        "colab": {
          "base_uri": "https://localhost:8080/",
          "height": 545
        },
        "outputId": "37975067-a133-485e-82d1-d92e14dccc13"
      },
      "cell_type": "code",
      "source": [
        "import matplotlib.pyplot as plt\n",
        "%matplotlib inline\n",
        "\n",
        "plt.plot(range(len(train_loss)), train_loss, label=\"train loss\")\n",
        "plt.plot(range(len(valid_loss)), valid_loss, label=\"valid loss\")\n",
        "plt.hlines(y=loss_loadback, xmin=0, xmax=len(train_loss), colors='r', linestyles='--')\n",
        "plt.legend()\n",
        "plt.title(\"Loss\")\n",
        "plt.show()\n",
        "\n",
        "plt.plot(range(len(train_acc)), train_acc, label=\"train accuracy\")\n",
        "plt.plot(range(len(valid_acc)), valid_acc, label=\"valid accuracy\")\n",
        "plt.hlines(y=acc_loadback, xmin=0, xmax=len(train_loss), colors='r', linestyles='--')\n",
        "plt.legend()\n",
        "plt.title(\"Accuracy\")\n",
        "plt.show()"
      ],
      "execution_count": 14,
      "outputs": [
        {
          "output_type": "display_data",
          "data": {
            "image/png": "[encoded data removed]",
            "text/plain": [
              "<Figure size 432x288 with 1 Axes>"
            ]
          },
          "metadata": {
            "tags": []
          }
        },
        {
          "output_type": "display_data",
          "data": {
            "image/png": "[encoded data removed]",
            "text/plain": [
              "<Figure size 432x288 with 1 Axes>"
            ]
          },
          "metadata": {
            "tags": []
          }
        }
      ]
    },
    {
      "metadata": {
        "id": "4KpwTAeCY7vY",
        "colab_type": "code",
        "colab": {}
      },
      "cell_type": "code",
      "source": [
        ""
      ],
      "execution_count": 0,
      "outputs": []
    }
  ]
}