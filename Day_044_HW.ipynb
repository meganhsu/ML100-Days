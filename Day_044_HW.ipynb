{
  "nbformat": 4,
  "nbformat_minor": 0,
  "metadata": {
    "colab": {
      "name": "Day_044_HW.ipynb",
      "version": "0.3.2",
      "provenance": [],
      "include_colab_link": true
    },
    "language_info": {
      "codemirror_mode": {
        "name": "ipython",
        "version": 3
      },
      "file_extension": ".py",
      "mimetype": "text/x-python",
      "name": "python",
      "nbconvert_exporter": "python",
      "pygments_lexer": "ipython3",
      "version": "3.6.4"
    },
    "kernelspec": {
      "display_name": "Python 3",
      "language": "python",
      "name": "python3"
    }
  },
  "cells": [
    {
      "cell_type": "markdown",
      "metadata": {
        "id": "view-in-github",
        "colab_type": "text"
      },
      "source": [
        "<a href=\"https://colab.research.google.com/github/meganhsu/ML100-Days/blob/master/Day_044_HW.ipynb\" target=\"_parent\"><img src=\"https://colab.research.google.com/assets/colab-badge.svg\" alt=\"Open In Colab\"/></a>"
      ]
    },
    {
      "metadata": {
        "id": "R8BUj7IM11Z9",
        "colab_type": "text"
      },
      "cell_type": "markdown",
      "source": [
        "## 作業\n",
        "\n",
        "1. 試著調整 RandomForestClassifier(...) 中的參數，並觀察是否會改變結果？\n",
        "2. 改用其他資料集 (boston, wine)，並與回歸模型與決策樹的結果進行比較"
      ]
    },
    {
      "metadata": {
        "id": "Nerjxkoo11Z_",
        "colab_type": "code",
        "colab": {}
      },
      "cell_type": "code",
      "source": [
        "from sklearn import datasets, metrics\n",
        "from sklearn.ensemble import RandomForestClassifier\n",
        "from sklearn.ensemble import RandomForestRegressor\n",
        "from sklearn.model_selection import train_test_split\n",
        "from sklearn.externals.six import StringIO  \n",
        "from sklearn.tree import DecisionTreeClassifier, DecisionTreeRegressor, export_graphviz\n",
        "from sklearn import datasets, metrics, linear_model\n",
        "from IPython.display import Image  \n",
        "import pydotplus"
      ],
      "execution_count": 0,
      "outputs": []
    },
    {
      "metadata": {
        "id": "K4x_l3m411aE",
        "colab_type": "code",
        "colab": {}
      },
      "cell_type": "code",
      "source": [
        "# 讀取鳶尾花資料集\n",
        "iris = datasets.load_iris()\n",
        "\n",
        "# 切分訓練集/測試集\n",
        "x_train, x_test, y_train, y_test = train_test_split(iris.data, iris.target, test_size=0.25, random_state=4)\n",
        "\n",
        "# 建立模型\n",
        "RF = RandomForestClassifier()\n",
        "\n",
        "# 訓練模型\n",
        "RF.fit(x_train, y_train)\n",
        "\n",
        "# 預測測試集\n",
        "RF_y_pred = RF.predict(x_test)"
      ],
      "execution_count": 0,
      "outputs": []
    },
    {
      "metadata": {
        "id": "IRDj_SOF11aI",
        "colab_type": "code",
        "colab": {},
        "outputId": "7fe554e7-7fa6-4b2f-f4a9-39c83828f122"
      },
      "cell_type": "code",
      "source": [
        "acc = metrics.accuracy_score(y_test,RF_y_pred)\n",
        "print(\"Acuuracy: \", acc)"
      ],
      "execution_count": 0,
      "outputs": [
        {
          "output_type": "stream",
          "text": [
            "Acuuracy:  0.9473684210526315\n"
          ],
          "name": "stdout"
        }
      ]
    },
    {
      "metadata": {
        "id": "Oi1HIRg111aP",
        "colab_type": "code",
        "colab": {}
      },
      "cell_type": "code",
      "source": [
        "# 模型參數調整\n",
        "RF = RandomForestClassifier(n_estimators=100, #決策樹的數量量\n",
        "criterion=\"entropy\",\n",
        "max_features=\"auto\", #如何選取 features\n",
        "max_depth=100,\n",
        "min_samples_split=2,\n",
        "min_samples_leaf=1)\n",
        "\n",
        "# 訓練模型\n",
        "RF.fit(x_train, y_train)\n",
        "\n",
        "# 預測測試集\n",
        "y_pred = RF.predict(x_test)"
      ],
      "execution_count": 0,
      "outputs": []
    },
    {
      "metadata": {
        "id": "W6a6l9v311aT",
        "colab_type": "code",
        "colab": {},
        "outputId": "af9e081d-472a-430d-f893-c079bc05b3b5"
      },
      "cell_type": "code",
      "source": [
        "acc = metrics.accuracy_score(y_test, RF_y_pred)\n",
        "print(\"Acuuracy: \", acc)"
      ],
      "execution_count": 0,
      "outputs": [
        {
          "output_type": "stream",
          "text": [
            "Acuuracy:  0.9473684210526315\n"
          ],
          "name": "stdout"
        }
      ]
    },
    {
      "metadata": {
        "id": "xEewA3Ty11aW",
        "colab_type": "code",
        "colab": {}
      },
      "cell_type": "code",
      "source": [
        "# 讀取波士頓房價資料集\n",
        "bostonHousePrice = datasets.load_boston()\n",
        "\n",
        "# 切分訓練集/測試集\n",
        "x_train, x_test, y_train, y_test = train_test_split(bostonHousePrice.data, bostonHousePrice.target, test_size=0.2, random_state=4)\n",
        "\n",
        "# 建立一個分類與回歸樹模型\n",
        "RF = RandomForestRegressor()\n",
        "\n",
        "# 將訓練資料丟進去模型訓練\n",
        "RF.fit(x_train, y_train)\n",
        "\n",
        "# 將測試資料丟進模型得到預測結果\n",
        "RF_y_pred = RF.predict(x_test)"
      ],
      "execution_count": 0,
      "outputs": []
    },
    {
      "metadata": {
        "id": "2cbGVjiv11aZ",
        "colab_type": "code",
        "colab": {}
      },
      "cell_type": "code",
      "source": [
        "# 建立一個線性回歸模型\n",
        "regr = linear_model.LinearRegression()\n",
        "\n",
        "# 將訓練資料丟進去模型訓練\n",
        "regr.fit(x_train, y_train)\n",
        "\n",
        "# 將測試資料丟進模型得到預測結果\n",
        "regr_y_pred = regr.predict(x_test)"
      ],
      "execution_count": 0,
      "outputs": []
    },
    {
      "metadata": {
        "id": "J-qGFb3W11ac",
        "colab_type": "code",
        "colab": {},
        "outputId": "13ddb02d-10ff-4568-bc96-d75946a0c9c2"
      },
      "cell_type": "code",
      "source": [
        "#隨機森林樹的MSE比線性迴歸MSE來得低\n",
        "print(\"randomForest Mean squared error: %.2f\"% metrics.mean_squared_error(y_test, RF_y_pred))\n",
        "print(\"linearRegression Mean squared error: %.2f\"% metrics.mean_squared_error(y_test, regr_y_pred))"
      ],
      "execution_count": 0,
      "outputs": [
        {
          "output_type": "stream",
          "text": [
            "randomForest Mean squared error: 18.69\n",
            "linearRegression Mean squared error: 25.41\n"
          ],
          "name": "stdout"
        }
      ]
    },
    {
      "metadata": {
        "id": "k7W0RMyC11af",
        "colab_type": "code",
        "colab": {},
        "outputId": "ccdb7199-be06-4122-a515-f10e10564bc3"
      },
      "cell_type": "code",
      "source": [
        "print(bostonHousePrice.feature_names)"
      ],
      "execution_count": 0,
      "outputs": [
        {
          "output_type": "stream",
          "text": [
            "['CRIM' 'ZN' 'INDUS' 'CHAS' 'NOX' 'RM' 'AGE' 'DIS' 'RAD' 'TAX' 'PTRATIO'\n",
            " 'B' 'LSTAT']\n"
          ],
          "name": "stdout"
        }
      ]
    },
    {
      "metadata": {
        "id": "ugGh1dB111aj",
        "colab_type": "code",
        "colab": {},
        "outputId": "25bfcf3f-d91b-4ffd-9149-81b2f4df8d89"
      },
      "cell_type": "code",
      "source": [
        "print(\"Feature importance: \", RF.feature_importances_)"
      ],
      "execution_count": 0,
      "outputs": [
        {
          "output_type": "stream",
          "text": [
            "Feature importance:  [0.04569778 0.00095438 0.00784324 0.00287293 0.01080612 0.53693895\n",
            " 0.01244444 0.06808614 0.00494016 0.01626942 0.01289904 0.01255504\n",
            " 0.26769237]\n"
          ],
          "name": "stdout"
        }
      ]
    }
  ]
}