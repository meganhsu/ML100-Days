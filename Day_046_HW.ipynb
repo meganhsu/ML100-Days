{
  "nbformat": 4,
  "nbformat_minor": 0,
  "metadata": {
    "colab": {
      "name": "Day_046_HW.ipynb",
      "version": "0.3.2",
      "provenance": [],
      "include_colab_link": true
    },
    "language_info": {
      "codemirror_mode": {
        "name": "ipython",
        "version": 3
      },
      "file_extension": ".py",
      "mimetype": "text/x-python",
      "name": "python",
      "nbconvert_exporter": "python",
      "pygments_lexer": "ipython3",
      "version": "3.6.4"
    },
    "kernelspec": {
      "display_name": "Python 3",
      "language": "python",
      "name": "python3"
    }
  },
  "cells": [
    {
      "cell_type": "markdown",
      "metadata": {
        "id": "view-in-github",
        "colab_type": "text"
      },
      "source": [
        "<a href=\"https://colab.research.google.com/github/meganhsu/ML100-Days/blob/master/Day_046_HW.ipynb\" target=\"_parent\"><img src=\"https://colab.research.google.com/assets/colab-badge.svg\" alt=\"Open In Colab\"/></a>"
      ]
    },
    {
      "metadata": {
        "id": "S3nX4Sgy1tpe",
        "colab_type": "text"
      },
      "cell_type": "markdown",
      "source": [
        "### 作業\n",
        "目前已經學過許多的模型，相信大家對整體流程應該比較掌握了，這次作業請改用**手寫辨識資料集**，步驟流程都是一樣的，請試著自己撰寫程式碼來完成所有步驟"
      ]
    },
    {
      "metadata": {
        "id": "_nDvyPRI1tpf",
        "colab_type": "code",
        "colab": {}
      },
      "cell_type": "code",
      "source": [
        "from sklearn import datasets, metrics\n",
        "digits = datasets.load_digits()"
      ],
      "execution_count": 0,
      "outputs": []
    },
    {
      "metadata": {
        "id": "1L0J7UHx1tpj",
        "colab_type": "code",
        "colab": {}
      },
      "cell_type": "code",
      "source": [
        "from sklearn import datasets, metrics\n",
        "from sklearn.ensemble import GradientBoostingClassifier,RandomForestClassifier\n",
        "from sklearn.tree import DecisionTreeClassifier, DecisionTreeRegressor\n",
        "from sklearn.model_selection import train_test_split\n",
        "digits = datasets.load_digits()"
      ],
      "execution_count": 0,
      "outputs": []
    },
    {
      "metadata": {
        "id": "tvozEOD71tpl",
        "colab_type": "code",
        "colab": {}
      },
      "cell_type": "code",
      "source": [
        "# 切分訓練集/測試集\n",
        "x_train, x_test, y_train, y_test = train_test_split(digits.data, digits.target, test_size=0.25, random_state=4)\n",
        "\n",
        "# 建立模型\n",
        "GBC = GradientBoostingClassifier()\n",
        "\n",
        "# 訓練模型\n",
        "GBC.fit(x_train, y_train)\n",
        "\n",
        "# 預測測試集\n",
        "GBC_y_pred = GBC.predict(x_test)"
      ],
      "execution_count": 0,
      "outputs": []
    },
    {
      "metadata": {
        "id": "weTXWPny1tpo",
        "colab_type": "code",
        "colab": {}
      },
      "cell_type": "code",
      "source": [
        "# 建立隨機森林模型\n",
        "RF = RandomForestClassifier()\n",
        "\n",
        "# 訓練模型\n",
        "RF.fit(x_train, y_train)\n",
        "\n",
        "# 預測測試集\n",
        "RF_y_pred = RF.predict(x_test)"
      ],
      "execution_count": 0,
      "outputs": []
    },
    {
      "metadata": {
        "id": "C4LmW43h1tpr",
        "colab_type": "code",
        "colab": {}
      },
      "cell_type": "code",
      "source": [
        "# 建立一個決策樹(ID3)模型\n",
        "DTC = DecisionTreeClassifier()\n",
        "\n",
        "# 將訓練資料丟進去模型訓練\n",
        "DTC.fit(x_train, y_train)\n",
        "\n",
        "# 將測試資料丟進模型得到預測結果\n",
        "DTC_y_pred = DTC.predict(x_test)"
      ],
      "execution_count": 0,
      "outputs": []
    },
    {
      "metadata": {
        "id": "0Lmwi5C11tpu",
        "colab_type": "code",
        "colab": {},
        "outputId": "4c7daa60-cbbe-41bb-b8a3-c777f0c092f1"
      },
      "cell_type": "code",
      "source": [
        "#比較三種不同模型以GBC最佳\n",
        "GBC_acc = metrics.accuracy_score(y_test, GBC_y_pred)\n",
        "print(\"GBC Acuuracy: \", GBC_acc)\n",
        "RF_acc = metrics.accuracy_score(y_test,RF_y_pred)\n",
        "print(\"RF cuuracy: \", RF_acc)\n",
        "DTC_acc = metrics.accuracy_score(y_test, DTC_y_pred)\n",
        "print(\"DTC Acuuracy: \", DTC_acc)"
      ],
      "execution_count": 0,
      "outputs": [
        {
          "output_type": "stream",
          "text": [
            "GBC Acuuracy:  0.9644444444444444\n",
            "RF cuuracy:  0.9466666666666667\n",
            "DTC Acuuracy:  0.8555555555555555\n"
          ],
          "name": "stdout"
        }
      ]
    }
  ]
}