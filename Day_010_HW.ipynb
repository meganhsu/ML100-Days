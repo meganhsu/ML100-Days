{
  "nbformat": 4,
  "nbformat_minor": 0,
  "metadata": {
    "colab": {
      "name": "Day_010_HW.ipynb",
      "version": "0.3.2",
      "provenance": [],
      "include_colab_link": true
    },
    "language_info": {
      "codemirror_mode": {
        "name": "ipython",
        "version": 3
      },
      "file_extension": ".py",
      "mimetype": "text/x-python",
      "name": "python",
      "nbconvert_exporter": "python",
      "pygments_lexer": "ipython3",
      "version": "3.7.3"
    },
    "kernelspec": {
      "display_name": "Python 3",
      "language": "python",
      "name": "python3"
    }
  },
  "cells": [
    {
      "cell_type": "markdown",
      "metadata": {
        "id": "view-in-github",
        "colab_type": "text"
      },
      "source": [
        "<a href=\"https://colab.research.google.com/github/meganhsu/ML100-Days/blob/master/Day_010_HW.ipynb\" target=\"_parent\"><img src=\"https://colab.research.google.com/assets/colab-badge.svg\" alt=\"Open In Colab\"/></a>"
      ]
    },
    {
      "metadata": {
        "id": "uuCK1m1gopiy",
        "colab_type": "code",
        "colab": {}
      },
      "cell_type": "code",
      "source": [
        "# Import 需要的套件\n",
        "import os\n",
        "import numpy as np\n",
        "import pandas as pd\n",
        "\n",
        "import matplotlib.pyplot as plt\n",
        "%matplotlib inline"
      ],
      "execution_count": 0,
      "outputs": []
    },
    {
      "metadata": {
        "id": "xBkQyT_dopi3",
        "colab_type": "code",
        "colab": {},
        "outputId": "5032b014-f566-418b-a1c7-bc139beebf25"
      },
      "cell_type": "code",
      "source": [
        "# 設定 data_path\n",
        "dir_data = './data/'\n",
        "f_app_train = os.path.join(dir_data, 'application_train.csv')\n",
        "f_app_test = os.path.join(dir_data, 'application_test.csv')\n",
        "\n",
        "app_train = pd.read_csv(f_app_train)\n",
        "app_test = pd.read_csv(f_app_test)\n",
        "\n",
        "# !pip install sklearn\n",
        "from sklearn.preprocessing import LabelEncoder\n",
        "\n",
        "# Create a label encoder object\n",
        "le = LabelEncoder()\n",
        "le_count = 0\n",
        "\n",
        "# Iterate through the columns\n",
        "for col in app_train:\n",
        "    if app_train[col].dtype == 'object':\n",
        "        # If 2 or fewer unique categories\n",
        "        if len(list(app_train[col].unique())) <= 2:\n",
        "            # Train on the training data\n",
        "            le.fit(app_train[col])\n",
        "            # Transform both training and testing data\n",
        "            app_train[col] = le.transform(app_train[col])\n",
        "            app_test[col] = le.transform(app_test[col])\n",
        "            \n",
        "            # Keep track of how many columns were label encoded\n",
        "            le_count += 1\n",
        "            \n",
        "app_train = pd.get_dummies(app_train)\n",
        "app_test = pd.get_dummies(app_test)\n",
        "\n",
        "# Create an anomalous flag column\n",
        "app_train['DAYS_EMPLOYED_ANOM'] = app_train[\"DAYS_EMPLOYED\"] == 365243\n",
        "app_train['DAYS_EMPLOYED'].replace({365243: np.nan}, inplace = True)\n",
        "# also apply to testing dataset\n",
        "app_test['DAYS_EMPLOYED_ANOM'] = app_test[\"DAYS_EMPLOYED\"] == 365243\n",
        "app_test[\"DAYS_EMPLOYED\"].replace({365243: np.nan}, inplace = True)\n",
        "\n",
        "# absolute the value of DAYS_BIRTH\n",
        "app_train['DAYS_BIRTH'] = abs(app_train['DAYS_BIRTH'])\n",
        "app_test['DAYS_BIRTH'] = abs(app_test['DAYS_BIRTH'])"
      ],
      "execution_count": 0,
      "outputs": [
        {
          "output_type": "stream",
          "text": [
            "Collecting sklearn\n",
            "Collecting scikit-learn (from sklearn)\n",
            "  Downloading https://files.pythonhosted.org/packages/6d/1b/6b7c1c95c1455ea746af0c47a8cb956894d368b77f4b79a691ffb196bfdb/scikit_learn-0.20.3-cp37-cp37m-win32.whl (4.3MB)\n",
            "Requirement already satisfied: numpy>=1.8.2 in c:\\users\\user\\appdata\\local\\programs\\python\\python37-32\\lib\\site-packages (from scikit-learn->sklearn) (1.16.2)\n",
            "Requirement already satisfied: scipy>=0.13.3 in c:\\users\\user\\appdata\\local\\programs\\python\\python37-32\\lib\\site-packages (from scikit-learn->sklearn) (1.2.1)\n",
            "Installing collected packages: scikit-learn, sklearn\n",
            "Successfully installed scikit-learn-0.20.3 sklearn-0.0\n"
          ],
          "name": "stdout"
        }
      ]
    },
    {
      "metadata": {
        "id": "55dQvEIKopi8",
        "colab_type": "text"
      },
      "cell_type": "markdown",
      "source": [
        "### 相關係數\n",
        "一樣，pandas 很貼心地讓我們可以非常容易計算相關係數"
      ]
    },
    {
      "metadata": {
        "id": "eUS5woBmopi9",
        "colab_type": "code",
        "colab": {},
        "outputId": "3399f963-65e1-4f4b-e575-ba33c4cee762"
      },
      "cell_type": "code",
      "source": [
        "app_train.corr()['TARGET']"
      ],
      "execution_count": 0,
      "outputs": [
        {
          "output_type": "execute_result",
          "data": {
            "text/plain": [
              "SK_ID_CURR                    -0.002108\n",
              "TARGET                         1.000000\n",
              "CNT_CHILDREN                   0.019187\n",
              "AMT_INCOME_TOTAL              -0.003982\n",
              "AMT_CREDIT                    -0.030369\n",
              "AMT_ANNUITY                   -0.012817\n",
              "AMT_GOODS_PRICE               -0.039645\n",
              "REGION_POPULATION_RELATIVE    -0.037227\n",
              "DAYS_BIRTH                     0.078239\n",
              "DAYS_EMPLOYED                 -0.044932\n",
              "DAYS_REGISTRATION              0.041975\n",
              "DAYS_ID_PUBLISH                0.051457\n",
              "OWN_CAR_AGE                    0.037612\n",
              "FLAG_MOBIL                     0.000534\n",
              "FLAG_EMP_PHONE                 0.045982\n",
              "FLAG_WORK_PHONE                0.028524\n",
              "FLAG_CONT_MOBILE               0.000370\n",
              "FLAG_PHONE                    -0.023806\n",
              "FLAG_EMAIL                    -0.001758\n",
              "CNT_FAM_MEMBERS                0.009308\n",
              "REGION_RATING_CLIENT           0.058899\n",
              "REGION_RATING_CLIENT_W_CITY    0.060893\n",
              "HOUR_APPR_PROCESS_START       -0.024166\n",
              "REG_REGION_NOT_LIVE_REGION     0.005576\n",
              "REG_REGION_NOT_WORK_REGION     0.006942\n",
              "LIVE_REGION_NOT_WORK_REGION    0.002819\n",
              "REG_CITY_NOT_LIVE_CITY         0.044395\n",
              "REG_CITY_NOT_WORK_CITY         0.050994\n",
              "LIVE_CITY_NOT_WORK_CITY        0.032518\n",
              "EXT_SOURCE_1                  -0.155317\n",
              "                                 ...   \n",
              "DEF_30_CNT_SOCIAL_CIRCLE       0.032248\n",
              "OBS_60_CNT_SOCIAL_CIRCLE       0.009022\n",
              "DEF_60_CNT_SOCIAL_CIRCLE       0.031276\n",
              "DAYS_LAST_PHONE_CHANGE         0.055218\n",
              "FLAG_DOCUMENT_2                0.005417\n",
              "FLAG_DOCUMENT_3                0.044346\n",
              "FLAG_DOCUMENT_4               -0.002672\n",
              "FLAG_DOCUMENT_5               -0.000316\n",
              "FLAG_DOCUMENT_6               -0.028602\n",
              "FLAG_DOCUMENT_7               -0.001520\n",
              "FLAG_DOCUMENT_8               -0.008040\n",
              "FLAG_DOCUMENT_9               -0.004352\n",
              "FLAG_DOCUMENT_10              -0.001414\n",
              "FLAG_DOCUMENT_11              -0.004229\n",
              "FLAG_DOCUMENT_12              -0.000756\n",
              "FLAG_DOCUMENT_13              -0.011583\n",
              "FLAG_DOCUMENT_14              -0.009464\n",
              "FLAG_DOCUMENT_15              -0.006536\n",
              "FLAG_DOCUMENT_16              -0.011615\n",
              "FLAG_DOCUMENT_17              -0.003378\n",
              "FLAG_DOCUMENT_18              -0.007952\n",
              "FLAG_DOCUMENT_19              -0.001358\n",
              "FLAG_DOCUMENT_20               0.000215\n",
              "FLAG_DOCUMENT_21               0.003709\n",
              "AMT_REQ_CREDIT_BUREAU_HOUR     0.000930\n",
              "AMT_REQ_CREDIT_BUREAU_DAY      0.002704\n",
              "AMT_REQ_CREDIT_BUREAU_WEEK     0.000788\n",
              "AMT_REQ_CREDIT_BUREAU_MON     -0.012462\n",
              "AMT_REQ_CREDIT_BUREAU_QRT     -0.002022\n",
              "AMT_REQ_CREDIT_BUREAU_YEAR     0.019930\n",
              "Name: TARGET, Length: 106, dtype: float64"
            ]
          },
          "metadata": {
            "tags": []
          },
          "execution_count": 3
        }
      ]
    },
    {
      "metadata": {
        "id": "mK4ZDkM1opjB",
        "colab_type": "text"
      },
      "cell_type": "markdown",
      "source": [
        "## 練習時間\n",
        "列出目標 (TARGET) 與所有欄位之間相關係數，數值最大以及最小各 15 個\n",
        "\n",
        "通過相關係數的結果觀察有興趣的欄位與 TARGET 或其他欄位的相關係數，並嘗試找出有趣的訊息\n",
        "- 最好的方式當然是畫圖，舉例來說，我們知道  EXT_SOURCE_3 這個欄位和 TARGET 之間的相關係數是 -0.178919 (在已經這個資料集已經是最負的了！)，那我們可以 EXT_SOURCE_3  為 x 軸， TARGET 為 y 軸，把資料給畫出來"
      ]
    },
    {
      "metadata": {
        "id": "NC1oTyW1opjC",
        "colab_type": "code",
        "colab": {}
      },
      "cell_type": "code",
      "source": [
        "app_train_columnNames_list=app_train.columns.values.tolist()"
      ],
      "execution_count": 0,
      "outputs": []
    },
    {
      "metadata": {
        "id": "Iunu7uxQopjF",
        "colab_type": "code",
        "colab": {},
        "outputId": "ffc7023d-fd07-4a3e-ec23-417393695a64"
      },
      "cell_type": "code",
      "source": [
        "x = app_train['EXT_SOURCE_3']\n",
        "y = app_train['TARGET']\n",
        "plt.scatter(x, y)\n",
        "\n",
        "\n",
        "#for i in app_train.columns.values.tolist():\n",
        "  #  x = app_train[i]\n",
        "   # y = app_train['TARGET']\n",
        "    #plt.scatter(x, y)"
      ],
      "execution_count": 0,
      "outputs": [
        {
          "output_type": "execute_result",
          "data": {
            "text/plain": [
              "<matplotlib.collections.PathCollection at 0x131f6c10>"
            ]
          },
          "metadata": {
            "tags": []
          },
          "execution_count": 7
        },
        {
          "output_type": "display_data",
          "data": {
            "image/png": "[encoded data removed]",
            "text/plain": [
              "<Figure size 432x288 with 1 Axes>"
            ]
          },
          "metadata": {
            "tags": [],
            "needs_background": "light"
          }
        }
      ]
    },
    {
      "metadata": {
        "id": "qdbBLBfKopjL",
        "colab_type": "code",
        "colab": {}
      },
      "cell_type": "code",
      "source": [
        ""
      ],
      "execution_count": 0,
      "outputs": []
    }
  ]
}