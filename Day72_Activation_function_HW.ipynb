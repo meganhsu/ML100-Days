{
  "nbformat": 4,
  "nbformat_minor": 0,
  "metadata": {
    "colab": {
      "name": "Day72-Activation_function_HW.ipynb",
      "version": "0.3.2",
      "provenance": [],
      "collapsed_sections": [],
      "include_colab_link": true
    },
    "language_info": {
      "codemirror_mode": {
        "name": "ipython",
        "version": 3
      },
      "file_extension": ".py",
      "mimetype": "text/x-python",
      "name": "python",
      "nbconvert_exporter": "python",
      "pygments_lexer": "ipython3",
      "version": "3.6.7"
    },
    "kernelspec": {
      "display_name": "Python 3",
      "language": "python",
      "name": "python3"
    }
  },
  "cells": [
    {
      "cell_type": "markdown",
      "metadata": {
        "id": "view-in-github",
        "colab_type": "text"
      },
      "source": [
        "<a href=\"https://colab.research.google.com/github/meganhsu/ML100-Days/blob/master/Day72_Activation_function_HW.ipynb\" target=\"_parent\"><img src=\"https://colab.research.google.com/assets/colab-badge.svg\" alt=\"Open In Colab\"/></a>"
      ]
    },
    {
      "metadata": {
        "id": "NAcmZZvN2BD4",
        "colab_type": "text"
      },
      "cell_type": "markdown",
      "source": [
        "# Rectified Linear Unit- Relu \n",
        "\n",
        "f(x)=max(0,x)\n"
      ]
    },
    {
      "metadata": {
        "id": "a-94XC-J2BD5",
        "colab_type": "code",
        "colab": {
          "base_uri": "https://localhost:8080/",
          "height": 34
        },
        "outputId": "08c19526-84df-4aea-dfe6-1e1fb2ea8dde"
      },
      "cell_type": "code",
      "source": [
        "import numpy as np\n",
        "from numpy import *\n",
        "import matplotlib.pylab as plt\n",
        "%matplotlib inline\n",
        "\n",
        "'''\n",
        "作業:\n",
        "    寫出 ReLU & dReLU 一階導數\n",
        "    並列印\n",
        "'''"
      ],
      "execution_count": 1,
      "outputs": [
        {
          "output_type": "execute_result",
          "data": {
            "text/plain": [
              "'\\n作業:\\n    寫出 ReLU & dReLU 一階導數\\n    並列印\\n'"
            ]
          },
          "metadata": {
            "tags": []
          },
          "execution_count": 1
        }
      ]
    },
    {
      "metadata": {
        "id": "U0D7zPTD2HZp",
        "colab_type": "code",
        "colab": {}
      },
      "cell_type": "code",
      "source": [
        "def relu(x):\n",
        "    if x<0:\n",
        "        y=0\n",
        "    else:\n",
        "        y=x\n",
        "    return y\n",
        "\n",
        "def dRelu(x):\n",
        "    if x<0:\n",
        "        y=0\n",
        "    else:\n",
        "        y=1\n",
        "    return y"
      ],
      "execution_count": 0,
      "outputs": []
    },
    {
      "metadata": {
        "id": "RXNCZwLU2JCI",
        "colab_type": "code",
        "colab": {
          "base_uri": "https://localhost:8080/",
          "height": 281
        },
        "outputId": "03f7de58-c850-4316-c3e6-36cf3794d39f"
      },
      "cell_type": "code",
      "source": [
        "# linespace generate an array from start and stop value\n",
        "# with requested number of elements. Example 10 elements or 100 elements.\n",
        "x = plt.linspace(-10,10,100)\n",
        "\n",
        "# prepare the plot, associate the color r(ed) or b(lue) and the label \n",
        "plt.plot(x, [relu(e) for e in x], label='linspace(-10,10,10)')\n",
        "plt.plot(x, [dRelu(e) for e in x], label='linspace(-10,10,10)')\n",
        "# Draw the grid line in background.\n",
        "plt.grid()\n",
        "\n",
        "# Title\n",
        "plt.title('Relu Function')\n",
        "\n",
        "# write the Sigmoid formula\n",
        "#plt.text(4, 0.8, r'$\\sigma(x)=relu(x)$', fontsize=15)\n",
        "\n",
        "#resize the X and Y axes\n",
        "plt.gca().xaxis.set_major_locator(plt.MultipleLocator(1))\n",
        "plt.gca().yaxis.set_major_locator(plt.MultipleLocator(1))\n",
        " \n",
        "# create the graph\n",
        "plt.show()"
      ],
      "execution_count": 3,
      "outputs": [
        {
          "output_type": "display_data",
          "data": {
            "image/png": "[encoded data removed]",
            "text/plain": [
              "<Figure size 432x288 with 1 Axes>"
            ]
          },
          "metadata": {
            "tags": []
          }
        }
      ]
    },
    {
      "metadata": {
        "id": "Ff9cjx6b2LAs",
        "colab_type": "code",
        "colab": {}
      },
      "cell_type": "code",
      "source": [
        ""
      ],
      "execution_count": 0,
      "outputs": []
    }
  ]
}