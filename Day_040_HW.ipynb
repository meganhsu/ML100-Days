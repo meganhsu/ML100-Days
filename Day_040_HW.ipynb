{
  "nbformat": 4,
  "nbformat_minor": 0,
  "metadata": {
    "colab": {
      "name": "Day_040_HW.ipynb",
      "version": "0.3.2",
      "provenance": [],
      "include_colab_link": true
    },
    "language_info": {
      "codemirror_mode": {
        "name": "ipython",
        "version": 3
      },
      "file_extension": ".py",
      "mimetype": "text/x-python",
      "name": "python",
      "nbconvert_exporter": "python",
      "pygments_lexer": "ipython3",
      "version": "3.7.3"
    },
    "kernelspec": {
      "display_name": "Python 3",
      "language": "python",
      "name": "python3"
    }
  },
  "cells": [
    {
      "cell_type": "markdown",
      "metadata": {
        "id": "view-in-github",
        "colab_type": "text"
      },
      "source": [
        "<a href=\"https://colab.research.google.com/github/meganhsu/ML100-Days/blob/master/Day_040_HW.ipynb\" target=\"_parent\"><img src=\"https://colab.research.google.com/assets/colab-badge.svg\" alt=\"Open In Colab\"/></a>"
      ]
    },
    {
      "metadata": {
        "id": "fYSsLRxj9y6S",
        "colab_type": "text"
      },
      "cell_type": "markdown",
      "source": [
        "## 練習時間\n",
        "試著使用 sklearn datasets 的其他資料集 (boston, ...)，來訓練自己的線性迴歸模型，並加上適當的正則話來觀察訓練情形。"
      ]
    },
    {
      "metadata": {
        "id": "k9GH2HgB9y6U",
        "colab_type": "code",
        "colab": {}
      },
      "cell_type": "code",
      "source": [
        "import numpy as np\n",
        "import matplotlib.pyplot as plt\n",
        "from sklearn import datasets, linear_model\n",
        "from sklearn.model_selection import train_test_split\n",
        "from sklearn.metrics import mean_squared_error, r2_score"
      ],
      "execution_count": 0,
      "outputs": []
    },
    {
      "metadata": {
        "id": "sO9N9xWG9y6a",
        "colab_type": "code",
        "colab": {},
        "outputId": "ec318003-e301-4e9d-e359-e7cccdf5aefc"
      },
      "cell_type": "code",
      "source": [
        "\n",
        "# 讀取波士頓房價資料集\n",
        "bostonHousePrice = datasets.load_boston()\n",
        "\n",
        "# 切分訓練集/測試集\n",
        "x_train, x_test, y_train, y_test = train_test_split(bostonHousePrice.data, bostonHousePrice.target, test_size=0.2, random_state=4)\n",
        "\n",
        "# 建立一個線性回歸模型\n",
        "regr = linear_model.LinearRegression()\n",
        "\n",
        "# 將訓練資料丟進去模型訓練\n",
        "regr.fit(x_train, y_train)\n",
        "\n",
        "# 將測試資料丟進模型得到預測結果\n",
        "regr_y_pred = regr.predict(x_test)\n",
        "\n",
        "#觀看資料\n",
        "bostonHousePrice"
      ],
      "execution_count": 0,
      "outputs": [
        {
          "output_type": "execute_result",
          "data": {
            "text/plain": [
              "{'data': array([[6.3200e-03, 1.8000e+01, 2.3100e+00, ..., 1.5300e+01, 3.9690e+02,\n",
              "         4.9800e+00],\n",
              "        [2.7310e-02, 0.0000e+00, 7.0700e+00, ..., 1.7800e+01, 3.9690e+02,\n",
              "         9.1400e+00],\n",
              "        [2.7290e-02, 0.0000e+00, 7.0700e+00, ..., 1.7800e+01, 3.9283e+02,\n",
              "         4.0300e+00],\n",
              "        ...,\n",
              "        [6.0760e-02, 0.0000e+00, 1.1930e+01, ..., 2.1000e+01, 3.9690e+02,\n",
              "         5.6400e+00],\n",
              "        [1.0959e-01, 0.0000e+00, 1.1930e+01, ..., 2.1000e+01, 3.9345e+02,\n",
              "         6.4800e+00],\n",
              "        [4.7410e-02, 0.0000e+00, 1.1930e+01, ..., 2.1000e+01, 3.9690e+02,\n",
              "         7.8800e+00]]),\n",
              " 'target': array([24. , 21.6, 34.7, 33.4, 36.2, 28.7, 22.9, 27.1, 16.5, 18.9, 15. ,\n",
              "        18.9, 21.7, 20.4, 18.2, 19.9, 23.1, 17.5, 20.2, 18.2, 13.6, 19.6,\n",
              "        15.2, 14.5, 15.6, 13.9, 16.6, 14.8, 18.4, 21. , 12.7, 14.5, 13.2,\n",
              "        13.1, 13.5, 18.9, 20. , 21. , 24.7, 30.8, 34.9, 26.6, 25.3, 24.7,\n",
              "        21.2, 19.3, 20. , 16.6, 14.4, 19.4, 19.7, 20.5, 25. , 23.4, 18.9,\n",
              "        35.4, 24.7, 31.6, 23.3, 19.6, 18.7, 16. , 22.2, 25. , 33. , 23.5,\n",
              "        19.4, 22. , 17.4, 20.9, 24.2, 21.7, 22.8, 23.4, 24.1, 21.4, 20. ,\n",
              "        20.8, 21.2, 20.3, 28. , 23.9, 24.8, 22.9, 23.9, 26.6, 22.5, 22.2,\n",
              "        23.6, 28.7, 22.6, 22. , 22.9, 25. , 20.6, 28.4, 21.4, 38.7, 43.8,\n",
              "        33.2, 27.5, 26.5, 18.6, 19.3, 20.1, 19.5, 19.5, 20.4, 19.8, 19.4,\n",
              "        21.7, 22.8, 18.8, 18.7, 18.5, 18.3, 21.2, 19.2, 20.4, 19.3, 22. ,\n",
              "        20.3, 20.5, 17.3, 18.8, 21.4, 15.7, 16.2, 18. , 14.3, 19.2, 19.6,\n",
              "        23. , 18.4, 15.6, 18.1, 17.4, 17.1, 13.3, 17.8, 14. , 14.4, 13.4,\n",
              "        15.6, 11.8, 13.8, 15.6, 14.6, 17.8, 15.4, 21.5, 19.6, 15.3, 19.4,\n",
              "        17. , 15.6, 13.1, 41.3, 24.3, 23.3, 27. , 50. , 50. , 50. , 22.7,\n",
              "        25. , 50. , 23.8, 23.8, 22.3, 17.4, 19.1, 23.1, 23.6, 22.6, 29.4,\n",
              "        23.2, 24.6, 29.9, 37.2, 39.8, 36.2, 37.9, 32.5, 26.4, 29.6, 50. ,\n",
              "        32. , 29.8, 34.9, 37. , 30.5, 36.4, 31.1, 29.1, 50. , 33.3, 30.3,\n",
              "        34.6, 34.9, 32.9, 24.1, 42.3, 48.5, 50. , 22.6, 24.4, 22.5, 24.4,\n",
              "        20. , 21.7, 19.3, 22.4, 28.1, 23.7, 25. , 23.3, 28.7, 21.5, 23. ,\n",
              "        26.7, 21.7, 27.5, 30.1, 44.8, 50. , 37.6, 31.6, 46.7, 31.5, 24.3,\n",
              "        31.7, 41.7, 48.3, 29. , 24. , 25.1, 31.5, 23.7, 23.3, 22. , 20.1,\n",
              "        22.2, 23.7, 17.6, 18.5, 24.3, 20.5, 24.5, 26.2, 24.4, 24.8, 29.6,\n",
              "        42.8, 21.9, 20.9, 44. , 50. , 36. , 30.1, 33.8, 43.1, 48.8, 31. ,\n",
              "        36.5, 22.8, 30.7, 50. , 43.5, 20.7, 21.1, 25.2, 24.4, 35.2, 32.4,\n",
              "        32. , 33.2, 33.1, 29.1, 35.1, 45.4, 35.4, 46. , 50. , 32.2, 22. ,\n",
              "        20.1, 23.2, 22.3, 24.8, 28.5, 37.3, 27.9, 23.9, 21.7, 28.6, 27.1,\n",
              "        20.3, 22.5, 29. , 24.8, 22. , 26.4, 33.1, 36.1, 28.4, 33.4, 28.2,\n",
              "        22.8, 20.3, 16.1, 22.1, 19.4, 21.6, 23.8, 16.2, 17.8, 19.8, 23.1,\n",
              "        21. , 23.8, 23.1, 20.4, 18.5, 25. , 24.6, 23. , 22.2, 19.3, 22.6,\n",
              "        19.8, 17.1, 19.4, 22.2, 20.7, 21.1, 19.5, 18.5, 20.6, 19. , 18.7,\n",
              "        32.7, 16.5, 23.9, 31.2, 17.5, 17.2, 23.1, 24.5, 26.6, 22.9, 24.1,\n",
              "        18.6, 30.1, 18.2, 20.6, 17.8, 21.7, 22.7, 22.6, 25. , 19.9, 20.8,\n",
              "        16.8, 21.9, 27.5, 21.9, 23.1, 50. , 50. , 50. , 50. , 50. , 13.8,\n",
              "        13.8, 15. , 13.9, 13.3, 13.1, 10.2, 10.4, 10.9, 11.3, 12.3,  8.8,\n",
              "         7.2, 10.5,  7.4, 10.2, 11.5, 15.1, 23.2,  9.7, 13.8, 12.7, 13.1,\n",
              "        12.5,  8.5,  5. ,  6.3,  5.6,  7.2, 12.1,  8.3,  8.5,  5. , 11.9,\n",
              "        27.9, 17.2, 27.5, 15. , 17.2, 17.9, 16.3,  7. ,  7.2,  7.5, 10.4,\n",
              "         8.8,  8.4, 16.7, 14.2, 20.8, 13.4, 11.7,  8.3, 10.2, 10.9, 11. ,\n",
              "         9.5, 14.5, 14.1, 16.1, 14.3, 11.7, 13.4,  9.6,  8.7,  8.4, 12.8,\n",
              "        10.5, 17.1, 18.4, 15.4, 10.8, 11.8, 14.9, 12.6, 14.1, 13. , 13.4,\n",
              "        15.2, 16.1, 17.8, 14.9, 14.1, 12.7, 13.5, 14.9, 20. , 16.4, 17.7,\n",
              "        19.5, 20.2, 21.4, 19.9, 19. , 19.1, 19.1, 20.1, 19.9, 19.6, 23.2,\n",
              "        29.8, 13.8, 13.3, 16.7, 12. , 14.6, 21.4, 23. , 23.7, 25. , 21.8,\n",
              "        20.6, 21.2, 19.1, 20.6, 15.2,  7. ,  8.1, 13.6, 20.1, 21.8, 24.5,\n",
              "        23.1, 19.7, 18.3, 21.2, 17.5, 16.8, 22.4, 20.6, 23.9, 22. , 11.9]),\n",
              " 'feature_names': array(['CRIM', 'ZN', 'INDUS', 'CHAS', 'NOX', 'RM', 'AGE', 'DIS', 'RAD',\n",
              "        'TAX', 'PTRATIO', 'B', 'LSTAT'], dtype='<U7'),\n",
              " 'DESCR': \".. _boston_dataset:\\n\\nBoston house prices dataset\\n---------------------------\\n\\n**Data Set Characteristics:**  \\n\\n    :Number of Instances: 506 \\n\\n    :Number of Attributes: 13 numeric/categorical predictive. Median Value (attribute 14) is usually the target.\\n\\n    :Attribute Information (in order):\\n        - CRIM     per capita crime rate by town\\n        - ZN       proportion of residential land zoned for lots over 25,000 sq.ft.\\n        - INDUS    proportion of non-retail business acres per town\\n        - CHAS     Charles River dummy variable (= 1 if tract bounds river; 0 otherwise)\\n        - NOX      nitric oxides concentration (parts per 10 million)\\n        - RM       average number of rooms per dwelling\\n        - AGE      proportion of owner-occupied units built prior to 1940\\n        - DIS      weighted distances to five Boston employment centres\\n        - RAD      index of accessibility to radial highways\\n        - TAX      full-value property-tax rate per $10,000\\n        - PTRATIO  pupil-teacher ratio by town\\n        - B        1000(Bk - 0.63)^2 where Bk is the proportion of blacks by town\\n        - LSTAT    % lower status of the population\\n        - MEDV     Median value of owner-occupied homes in $1000's\\n\\n    :Missing Attribute Values: None\\n\\n    :Creator: Harrison, D. and Rubinfeld, D.L.\\n\\nThis is a copy of UCI ML housing dataset.\\nhttps://archive.ics.uci.edu/ml/machine-learning-databases/housing/\\n\\n\\nThis dataset was taken from the StatLib library which is maintained at Carnegie Mellon University.\\n\\nThe Boston house-price data of Harrison, D. and Rubinfeld, D.L. 'Hedonic\\nprices and the demand for clean air', J. Environ. Economics & Management,\\nvol.5, 81-102, 1978.   Used in Belsley, Kuh & Welsch, 'Regression diagnostics\\n...', Wiley, 1980.   N.B. Various transformations are used in the table on\\npages 244-261 of the latter.\\n\\nThe Boston house-price data has been used in many machine learning papers that address regression\\nproblems.   \\n     \\n.. topic:: References\\n\\n   - Belsley, Kuh & Welsch, 'Regression diagnostics: Identifying Influential Data and Sources of Collinearity', Wiley, 1980. 244-261.\\n   - Quinlan,R. (1993). Combining Instance-Based and Model-Based Learning. In Proceedings on the Tenth International Conference of Machine Learning, 236-243, University of Massachusetts, Amherst. Morgan Kaufmann.\\n\",\n",
              " 'filename': 'c:\\\\users\\\\user\\\\appdata\\\\local\\\\programs\\\\python\\\\python37-32\\\\lib\\\\site-packages\\\\sklearn\\\\datasets\\\\data\\\\boston_house_prices.csv'}"
            ]
          },
          "metadata": {
            "tags": []
          },
          "execution_count": 2
        }
      ]
    },
    {
      "metadata": {
        "id": "FfdJ1cj59y6j",
        "colab_type": "code",
        "colab": {}
      },
      "cell_type": "code",
      "source": [
        "# 建立一個lasso線性回歸模型\n",
        "lassoRegression = linear_model.Lasso(alpha=1)\n",
        "\n",
        "# 將訓練資料丟進去模型訓練\n",
        "lassoRegression.fit(x_train, y_train)\n",
        "\n",
        "# 將測試資料丟進模型得到預測結果\n",
        "lassoRegression_y_pred = lassoRegression.predict(x_test)"
      ],
      "execution_count": 0,
      "outputs": []
    },
    {
      "metadata": {
        "id": "h61_NAmz9y6o",
        "colab_type": "code",
        "colab": {}
      },
      "cell_type": "code",
      "source": [
        "# 建立一個ridge線性回歸模型\n",
        "ridgeRegression = linear_model.Ridge(alpha=1)\n",
        "\n",
        "# 將訓練資料丟進去模型訓練#比較三種不同限制式下對應係數\n",
        "ridgeRegression.fit(x_train, y_train)\n",
        "\n",
        "# 將測試資料丟進模型得到預測結果\n",
        "ridgeRegression_y_pred = ridgeRegression.predict(x_test)"
      ],
      "execution_count": 0,
      "outputs": []
    },
    {
      "metadata": {
        "id": "upcurPRl9y6s",
        "colab_type": "code",
        "colab": {},
        "outputId": "4598ef11-c64b-4539-b002-6a337d35c415"
      },
      "cell_type": "code",
      "source": [
        "#比較三種不同限制式下對應係數\n",
        "print(regr.coef_)\n",
        "print(lassoRegression.coef_)\n",
        "print(ridgeRegression.coef_)"
      ],
      "execution_count": 0,
      "outputs": [
        {
          "output_type": "stream",
          "text": [
            "[-1.15966452e-01  4.71249231e-02  8.25980146e-03  3.23404531e+00\n",
            " -1.66865890e+01  3.88410651e+00 -1.08974442e-02 -1.54129540e+00\n",
            "  2.93208309e-01 -1.34059383e-02 -9.06296429e-01  8.80823439e-03\n",
            " -4.57723846e-01]\n",
            "[-0.06494981  0.04581458 -0.          0.         -0.          1.18140024\n",
            "  0.01109101 -0.73695809  0.23350042 -0.01551065 -0.69270805  0.00763157\n",
            " -0.6927848 ]\n",
            "[-1.12499445e-01  4.79562332e-02 -2.40438147e-02  2.96199458e+00\n",
            " -9.33966118e+00  3.93079015e+00 -1.73821202e-02 -1.43347691e+00\n",
            "  2.75239392e-01 -1.38920708e-02 -8.31116943e-01  9.15637729e-03\n",
            " -4.66460539e-01]\n"
          ],
          "name": "stdout"
        }
      ]
    },
    {
      "metadata": {
        "id": "bOLBY5859y6z",
        "colab_type": "code",
        "colab": {},
        "outputId": "f709f278-dce1-4908-c02c-50f8dc4365d0"
      },
      "cell_type": "code",
      "source": [
        "#比較三種不同限制式下對應MSE\n",
        "print(\"linearRegression Mean squared error: %.2f\"% mean_squared_error(y_test, regr_y_pred))\n",
        "print(\"lassoRegression Mean squared error: %.2f\"% mean_squared_error(y_test, lassoRegression_y_pred))\n",
        "print(\"ridgeRegression Mean squared error: %.2f\"% mean_squared_error(y_test, ridgeRegression_y_pred))"
      ],
      "execution_count": 0,
      "outputs": [
        {
          "output_type": "stream",
          "text": [
            "linearRegression Mean squared error: 25.42\n",
            "lassoRegression Mean squared error: 28.95\n",
            "ridgeRegression Mean squared error: 25.74\n"
          ],
          "name": "stdout"
        }
      ]
    },
    {
      "metadata": {
        "id": "Tn0KIY899y68",
        "colab_type": "code",
        "colab": {},
        "outputId": "c0350931-cb0a-45f4-d932-bf837e80da01"
      },
      "cell_type": "code",
      "source": [
        "#使用cv 去挑選適合得alpha\n",
        "lassoAlpha = linear_model.LassoCV(fit_intercept=False)\n",
        "\n",
        "# 训练模型\n",
        "lassoAlpha.fit(x_train, y_train)\n",
        "\n",
        "print('lassoAlpha的数值 : ', lassoAlpha.alpha_)\n",
        "print('lassoAlpha参数的数值：', lassoAlpha.coef_)\n",
        "\n",
        "#使用cv 去挑選適合得alpha\n",
        "ridgeAlpha = linear_model.RidgeCV(fit_intercept=False)\n",
        "\n",
        "# 训练模型\n",
        "ridgeAlpha.fit(x_train, y_train)\n",
        "\n",
        "print('ridgeAlpha的数值 : ', ridgeAlpha.alpha_)\n",
        "print('ridgeAlpha参数的数值：', ridgeAlpha.coef_)"
      ],
      "execution_count": 0,
      "outputs": [
        {
          "output_type": "stream",
          "text": [
            "lassoAlpha的数值 :  8.444497524752475\n",
            "lassoAlpha参数的数值： [-0.00664559  0.10261632 -0.          0.          0.          0.\n",
            "  0.07906456  0.         -0.          0.00340092  0.          0.05391911\n",
            " -0.44035386]\n",
            "ridgeAlpha的数值 :  10.0\n",
            "ridgeAlpha参数的数值： [-0.11004458  0.05099332 -0.02822804  2.08875281 -0.07380394  5.69707324\n",
            " -0.01390603 -0.97883267  0.17022484 -0.01088214 -0.34590903  0.01458892\n",
            " -0.37281382]\n"
          ],
          "name": "stdout"
        },
        {
          "output_type": "stream",
          "text": [
            "c:\\users\\user\\appdata\\local\\programs\\python\\python37-32\\lib\\site-packages\\sklearn\\model_selection\\_split.py:2053: FutureWarning: You should specify a value for 'cv' instead of relying on the default value. The default value will change from 3 to 5 in version 0.22.\n",
            "  warnings.warn(CV_WARNING, FutureWarning)\n"
          ],
          "name": "stderr"
        }
      ]
    },
    {
      "metadata": {
        "id": "U3S4MW0c9y7C",
        "colab_type": "code",
        "colab": {}
      },
      "cell_type": "code",
      "source": [
        "#比較挑選後的alpha\n",
        "\n",
        "# 建立一個lasso線性回歸模型\n",
        "lassoRegression = linear_model.Lasso(alpha=8.4444975)\n",
        "\n",
        "# 將訓練資料丟進去模型訓練\n",
        "lassoRegression.fit(x_train, y_train)\n",
        "\n",
        "# 將測試資料丟進模型得到預測結果\n",
        "lassoRegression_y_pred = lassoRegression.predict(x_test)\n",
        "\n",
        "# 建立一個ridge線性回歸模型\n",
        "ridgeRegression = linear_model.Ridge(alpha=10)\n",
        "\n",
        "# 將訓練資料丟進去模型訓練\n",
        "ridgeRegression.fit(x_train, y_train)\n",
        "\n",
        "# 將測試資料丟進模型得到預測結果\n",
        "ridgeRegression_y_pred = ridgeRegression.predict(x_test)"
      ],
      "execution_count": 0,
      "outputs": []
    },
    {
      "metadata": {
        "id": "h1ZxnnS49y7F",
        "colab_type": "code",
        "colab": {},
        "outputId": "777edb1c-1e70-440f-c12d-135d20f12d97"
      },
      "cell_type": "code",
      "source": [
        "#使用cv挑選的alpha在test set 上並無較低的MSE\n",
        "print(\"linearRegression Mean squared error: %.2f\"% mean_squared_error(y_test, regr_y_pred))\n",
        "print(\"lassoRegression Mean squared error: %.2f\"% mean_squared_error(y_test, lassoRegression_y_pred))\n",
        "print(\"ridgeRegression Mean squared error: %.2f\"% mean_squared_error(y_test, ridgeRegression_y_pred))"
      ],
      "execution_count": 0,
      "outputs": [
        {
          "output_type": "stream",
          "text": [
            "linearRegression Mean squared error: 25.42\n",
            "lassoRegression Mean squared error: 45.81\n",
            "ridgeRegression Mean squared error: 26.24\n"
          ],
          "name": "stdout"
        }
      ]
    },
    {
      "metadata": {
        "id": "ANfPAE0u9y7J",
        "colab_type": "code",
        "colab": {}
      },
      "cell_type": "code",
      "source": [
        ""
      ],
      "execution_count": 0,
      "outputs": []
    }
  ]
}