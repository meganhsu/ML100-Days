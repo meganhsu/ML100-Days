{
  "nbformat": 4,
  "nbformat_minor": 0,
  "metadata": {
    "colab": {
      "name": "Day085_HW.ipynb",
      "version": "0.3.2",
      "provenance": [],
      "include_colab_link": true
    },
    "language_info": {
      "codemirror_mode": {
        "name": "ipython",
        "version": 3
      },
      "file_extension": ".py",
      "mimetype": "text/x-python",
      "name": "python",
      "nbconvert_exporter": "python",
      "pygments_lexer": "ipython3",
      "version": "3.6.5"
    },
    "kernelspec": {
      "display_name": "Python 3",
      "language": "python",
      "name": "python3"
    }
  },
  "cells": [
    {
      "cell_type": "markdown",
      "metadata": {
        "id": "view-in-github",
        "colab_type": "text"
      },
      "source": [
        "<a href=\"https://colab.research.google.com/github/meganhsu/ML100-Days/blob/master/Day085_HW.ipynb\" target=\"_parent\"><img src=\"https://colab.research.google.com/assets/colab-badge.svg\" alt=\"Open In Colab\"/></a>"
      ]
    },
    {
      "metadata": {
        "id": "a3oxDZpllT5C",
        "colab_type": "text"
      },
      "cell_type": "markdown",
      "source": [
        "## Work\n",
        "1. 試改變 monitor \"Validation Accuracy\" 並比較結果\n",
        "2. 調整 earlystop 的等待次數至 10, 25 並比較結果"
      ]
    },
    {
      "metadata": {
        "id": "Btpgq2ptlT5D",
        "colab_type": "code",
        "colab": {
          "base_uri": "https://localhost:8080/",
          "height": 34
        },
        "outputId": "2cbd543f-21a2-48d8-9d10-65d80cc0e97f"
      },
      "cell_type": "code",
      "source": [
        "import os\n",
        "import keras\n",
        "import matplotlib.pyplot as plt\n",
        "%matplotlib inline\n",
        "\n",
        "\n",
        "# Disable GPU\n",
        "os.environ[\"CUDA_VISIBLE_DEVICES\"] = \"\""
      ],
      "execution_count": 1,
      "outputs": [
        {
          "output_type": "stream",
          "text": [
            "Using TensorFlow backend.\n"
          ],
          "name": "stderr"
        }
      ]
    },
    {
      "metadata": {
        "id": "yZtJM9T_lT5H",
        "colab_type": "code",
        "colab": {
          "base_uri": "https://localhost:8080/",
          "height": 51
        },
        "outputId": "e8f03c14-b483-466a-f30d-4ca0e605822b"
      },
      "cell_type": "code",
      "source": [
        "train, test = keras.datasets.cifar10.load_data()"
      ],
      "execution_count": 2,
      "outputs": [
        {
          "output_type": "stream",
          "text": [
            "Downloading data from https://www.cs.toronto.edu/~kriz/cifar-10-python.tar.gz\n",
            "170500096/170498071 [==============================] - 49s 0us/step\n"
          ],
          "name": "stdout"
        }
      ]
    },
    {
      "metadata": {
        "id": "2M1H9PDIlT5K",
        "colab_type": "code",
        "colab": {}
      },
      "cell_type": "code",
      "source": [
        "## 資料前處理\n",
        "def preproc_x(x, flatten=True):\n",
        "    x = x / 255.\n",
        "    if flatten:\n",
        "        x = x.reshape((len(x), -1))\n",
        "    return x\n",
        "\n",
        "def preproc_y(y, num_classes=10):\n",
        "    if y.shape[-1] == 1:\n",
        "        y = keras.utils.to_categorical(y, num_classes)\n",
        "    return y    "
      ],
      "execution_count": 0,
      "outputs": []
    },
    {
      "metadata": {
        "id": "dsHP7gYylT5N",
        "colab_type": "code",
        "colab": {}
      },
      "cell_type": "code",
      "source": [
        "x_train, y_train = train\n",
        "x_test, y_test = test\n",
        "\n",
        "# Preproc the inputs\n",
        "x_train = preproc_x(x_train)\n",
        "x_test = preproc_x(x_test)\n",
        "\n",
        "# Preprc the outputs\n",
        "y_train = preproc_y(y_train)\n",
        "y_test = preproc_y(y_test)"
      ],
      "execution_count": 0,
      "outputs": []
    },
    {
      "metadata": {
        "id": "sT7gH4wtlT5Q",
        "colab_type": "code",
        "colab": {}
      },
      "cell_type": "code",
      "source": [
        "from keras.layers import BatchNormalization\n",
        "def build_mlp(input_shape, output_units=10, num_neurons=[512, 256, 128]):\n",
        "    input_layer = keras.layers.Input(input_shape)\n",
        "    \n",
        "    for i, n_units in enumerate(num_neurons):\n",
        "        if i == 0:\n",
        "            x = keras.layers.Dense(units=n_units, \n",
        "                                   activation=\"relu\", \n",
        "                                   name=\"hidden_layer\"+str(i+1))(input_layer)\n",
        "            x = BatchNormalization()(x)\n",
        "        else:\n",
        "            x = keras.layers.Dense(units=n_units, \n",
        "                                   activation=\"relu\", \n",
        "                                   name=\"hidden_layer\"+str(i+1))(x)\n",
        "            x = BatchNormalization()(x)\n",
        "    \n",
        "    out = keras.layers.Dense(units=output_units, activation=\"softmax\", name=\"output\")(x)\n",
        "    \n",
        "    model = keras.models.Model(inputs=[input_layer], outputs=[out])\n",
        "    return model"
      ],
      "execution_count": 0,
      "outputs": []
    },
    {
      "metadata": {
        "id": "T6SKTXKLlT5U",
        "colab_type": "code",
        "colab": {}
      },
      "cell_type": "code",
      "source": [
        "## 超參數設定\n",
        "\"\"\"\n",
        "Set your hyper-parameters\n",
        "\"\"\"\n",
        "LEARNING_RATE = 1e-3\n",
        "EPOCHS = 50\n",
        "BATCH_SIZE = 1024\n",
        "MOMENTUM = 0.95"
      ],
      "execution_count": 0,
      "outputs": []
    },
    {
      "metadata": {
        "id": "zGy02DJSlT5X",
        "colab_type": "code",
        "colab": {
          "base_uri": "https://localhost:8080/",
          "height": 34
        },
        "outputId": "7560761f-fe6a-4ff7-ab58-ab6883971b03"
      },
      "cell_type": "code",
      "source": [
        "# 載入 Callbacks\n",
        "\"\"\"\n",
        "Earlystop setting\n",
        "\"\"\"\n",
        "from keras.callbacks import EarlyStopping\n",
        "\n",
        "earlystop = EarlyStopping(monitor=\"val_acc\", \n",
        "                          patience=10, \n",
        "                          verbose=1\n",
        "                          )\n",
        "\"\"\"\n",
        "Your Training loop and Plot the results\n",
        "\"\"\""
      ],
      "execution_count": 9,
      "outputs": [
        {
          "output_type": "execute_result",
          "data": {
            "text/plain": [
              "'\\nYour Training loop and Plot the results\\n'"
            ]
          },
          "metadata": {
            "tags": []
          },
          "execution_count": 9
        }
      ]
    },
    {
      "metadata": {
        "id": "o_nt9M92YP0g",
        "colab_type": "code",
        "colab": {
          "base_uri": "https://localhost:8080/",
          "height": 2049
        },
        "outputId": "d5b886ac-eba5-4490-ac43-7ec39261f999"
      },
      "cell_type": "code",
      "source": [
        "model = build_mlp(input_shape=x_train.shape[1:])\n",
        "model.summary()\n",
        "optimizer = keras.optimizers.SGD(lr=LEARNING_RATE, nesterov=True, momentum=MOMENTUM)\n",
        "model.compile(loss=\"categorical_crossentropy\", metrics=[\"accuracy\"], optimizer=optimizer)\n",
        "\n",
        "model.fit(x_train, y_train, \n",
        "          epochs=EPOCHS, \n",
        "          batch_size=BATCH_SIZE, \n",
        "          validation_data=(x_test, y_test), \n",
        "          shuffle=True,\n",
        "          callbacks=[earlystop]\n",
        "         )\n",
        "\n",
        "# Collect results\n",
        "train_loss = model.history.history[\"loss\"]\n",
        "valid_loss = model.history.history[\"val_loss\"]\n",
        "train_acc = model.history.history[\"acc\"]\n",
        "valid_acc = model.history.history[\"val_acc\"]"
      ],
      "execution_count": 10,
      "outputs": [
        {
          "output_type": "stream",
          "text": [
            "WARNING:tensorflow:From /usr/local/lib/python3.6/dist-packages/tensorflow/python/framework/op_def_library.py:263: colocate_with (from tensorflow.python.framework.ops) is deprecated and will be removed in a future version.\n",
            "Instructions for updating:\n",
            "Colocations handled automatically by placer.\n",
            "_________________________________________________________________\n",
            "Layer (type)                 Output Shape              Param #   \n",
            "=================================================================\n",
            "input_1 (InputLayer)         (None, 3072)              0         \n",
            "_________________________________________________________________\n",
            "hidden_layer1 (Dense)        (None, 512)               1573376   \n",
            "_________________________________________________________________\n",
            "batch_normalization_1 (Batch (None, 512)               2048      \n",
            "_________________________________________________________________\n",
            "hidden_layer2 (Dense)        (None, 256)               131328    \n",
            "_________________________________________________________________\n",
            "batch_normalization_2 (Batch (None, 256)               1024      \n",
            "_________________________________________________________________\n",
            "hidden_layer3 (Dense)        (None, 128)               32896     \n",
            "_________________________________________________________________\n",
            "batch_normalization_3 (Batch (None, 128)               512       \n",
            "_________________________________________________________________\n",
            "output (Dense)               (None, 10)                1290      \n",
            "=================================================================\n",
            "Total params: 1,742,474\n",
            "Trainable params: 1,740,682\n",
            "Non-trainable params: 1,792\n",
            "_________________________________________________________________\n",
            "WARNING:tensorflow:From /usr/local/lib/python3.6/dist-packages/tensorflow/python/ops/math_ops.py:3066: to_int32 (from tensorflow.python.ops.math_ops) is deprecated and will be removed in a future version.\n",
            "Instructions for updating:\n",
            "Use tf.cast instead.\n",
            "Train on 50000 samples, validate on 10000 samples\n",
            "Epoch 1/50\n",
            "50000/50000 [==============================] - 10s 196us/step - loss: 2.2483 - acc: 0.2622 - val_loss: 2.1785 - val_acc: 0.2982\n",
            "Epoch 2/50\n",
            "50000/50000 [==============================] - 9s 186us/step - loss: 1.7586 - acc: 0.3881 - val_loss: 1.8687 - val_acc: 0.3568\n",
            "Epoch 3/50\n",
            "50000/50000 [==============================] - 9s 188us/step - loss: 1.6301 - acc: 0.4287 - val_loss: 1.6991 - val_acc: 0.4049\n",
            "Epoch 4/50\n",
            "50000/50000 [==============================] - 9s 188us/step - loss: 1.5567 - acc: 0.4579 - val_loss: 1.6352 - val_acc: 0.4268\n",
            "Epoch 5/50\n",
            "50000/50000 [==============================] - 9s 188us/step - loss: 1.5019 - acc: 0.4767 - val_loss: 1.5974 - val_acc: 0.4350\n",
            "Epoch 6/50\n",
            "50000/50000 [==============================] - 9s 188us/step - loss: 1.4536 - acc: 0.4932 - val_loss: 1.5636 - val_acc: 0.4493\n",
            "Epoch 7/50\n",
            "50000/50000 [==============================] - 9s 187us/step - loss: 1.4136 - acc: 0.5061 - val_loss: 1.5511 - val_acc: 0.4542\n",
            "Epoch 8/50\n",
            "50000/50000 [==============================] - 9s 187us/step - loss: 1.3800 - acc: 0.5200 - val_loss: 1.5342 - val_acc: 0.4597\n",
            "Epoch 9/50\n",
            "50000/50000 [==============================] - 9s 188us/step - loss: 1.3471 - acc: 0.5333 - val_loss: 1.5229 - val_acc: 0.4651\n",
            "Epoch 10/50\n",
            "50000/50000 [==============================] - 9s 187us/step - loss: 1.3151 - acc: 0.5437 - val_loss: 1.5008 - val_acc: 0.4755\n",
            "Epoch 11/50\n",
            "50000/50000 [==============================] - 9s 188us/step - loss: 1.2884 - acc: 0.5544 - val_loss: 1.5057 - val_acc: 0.4680\n",
            "Epoch 12/50\n",
            "50000/50000 [==============================] - 9s 186us/step - loss: 1.2616 - acc: 0.5642 - val_loss: 1.4895 - val_acc: 0.4749\n",
            "Epoch 13/50\n",
            "50000/50000 [==============================] - 9s 185us/step - loss: 1.2364 - acc: 0.5736 - val_loss: 1.4887 - val_acc: 0.4762\n",
            "Epoch 14/50\n",
            "50000/50000 [==============================] - 9s 185us/step - loss: 1.2109 - acc: 0.5812 - val_loss: 1.4845 - val_acc: 0.4801\n",
            "Epoch 15/50\n",
            "50000/50000 [==============================] - 9s 184us/step - loss: 1.1892 - acc: 0.5888 - val_loss: 1.4719 - val_acc: 0.4840\n",
            "Epoch 16/50\n",
            "50000/50000 [==============================] - 9s 184us/step - loss: 1.1631 - acc: 0.6007 - val_loss: 1.4693 - val_acc: 0.4834\n",
            "Epoch 17/50\n",
            "50000/50000 [==============================] - 10s 195us/step - loss: 1.1405 - acc: 0.6082 - val_loss: 1.4673 - val_acc: 0.4835\n",
            "Epoch 18/50\n",
            "50000/50000 [==============================] - 13s 251us/step - loss: 1.1168 - acc: 0.6179 - val_loss: 1.4642 - val_acc: 0.4888\n",
            "Epoch 19/50\n",
            "50000/50000 [==============================] - 9s 186us/step - loss: 1.0947 - acc: 0.6244 - val_loss: 1.4609 - val_acc: 0.4920\n",
            "Epoch 20/50\n",
            "50000/50000 [==============================] - 13s 256us/step - loss: 1.0739 - acc: 0.6334 - val_loss: 1.4592 - val_acc: 0.4902\n",
            "Epoch 21/50\n",
            "50000/50000 [==============================] - 18s 366us/step - loss: 1.0500 - acc: 0.6409 - val_loss: 1.4588 - val_acc: 0.4902\n",
            "Epoch 22/50\n",
            "50000/50000 [==============================] - 18s 362us/step - loss: 1.0291 - acc: 0.6501 - val_loss: 1.4595 - val_acc: 0.4884\n",
            "Epoch 23/50\n",
            "50000/50000 [==============================] - 18s 361us/step - loss: 1.0092 - acc: 0.6587 - val_loss: 1.4775 - val_acc: 0.4891\n",
            "Epoch 24/50\n",
            "50000/50000 [==============================] - 18s 362us/step - loss: 0.9878 - acc: 0.6660 - val_loss: 1.4657 - val_acc: 0.4943\n",
            "Epoch 25/50\n",
            "50000/50000 [==============================] - 19s 373us/step - loss: 0.9659 - acc: 0.6745 - val_loss: 1.4637 - val_acc: 0.4951\n",
            "Epoch 26/50\n",
            "50000/50000 [==============================] - 22s 436us/step - loss: 0.9461 - acc: 0.6821 - val_loss: 1.4904 - val_acc: 0.4901\n",
            "Epoch 27/50\n",
            "50000/50000 [==============================] - 19s 390us/step - loss: 0.9248 - acc: 0.6902 - val_loss: 1.4729 - val_acc: 0.4953\n",
            "Epoch 28/50\n",
            "50000/50000 [==============================] - 23s 464us/step - loss: 0.9039 - acc: 0.6990 - val_loss: 1.4832 - val_acc: 0.4919\n",
            "Epoch 29/50\n",
            "50000/50000 [==============================] - 29s 589us/step - loss: 0.8861 - acc: 0.7051 - val_loss: 1.4852 - val_acc: 0.4936\n",
            "Epoch 30/50\n",
            "50000/50000 [==============================] - 25s 507us/step - loss: 0.8615 - acc: 0.7151 - val_loss: 1.4977 - val_acc: 0.4935\n",
            "Epoch 31/50\n",
            "50000/50000 [==============================] - 18s 369us/step - loss: 0.8441 - acc: 0.7223 - val_loss: 1.5102 - val_acc: 0.4864\n",
            "Epoch 32/50\n",
            "50000/50000 [==============================] - 18s 369us/step - loss: 0.8246 - acc: 0.7291 - val_loss: 1.4953 - val_acc: 0.4957\n",
            "Epoch 33/50\n",
            "50000/50000 [==============================] - 18s 366us/step - loss: 0.8050 - acc: 0.7373 - val_loss: 1.4979 - val_acc: 0.4976\n",
            "Epoch 34/50\n",
            "50000/50000 [==============================] - 18s 366us/step - loss: 0.7856 - acc: 0.7450 - val_loss: 1.5097 - val_acc: 0.4907\n",
            "Epoch 35/50\n",
            "50000/50000 [==============================] - 23s 455us/step - loss: 0.7649 - acc: 0.7530 - val_loss: 1.5430 - val_acc: 0.4886\n",
            "Epoch 36/50\n",
            "50000/50000 [==============================] - 23s 454us/step - loss: 0.7472 - acc: 0.7605 - val_loss: 1.5307 - val_acc: 0.4907\n",
            "Epoch 37/50\n",
            "50000/50000 [==============================] - 22s 441us/step - loss: 0.7271 - acc: 0.7670 - val_loss: 1.5476 - val_acc: 0.4905\n",
            "Epoch 38/50\n",
            "50000/50000 [==============================] - 22s 442us/step - loss: 0.7106 - acc: 0.7748 - val_loss: 1.5569 - val_acc: 0.4931\n",
            "Epoch 39/50\n",
            "50000/50000 [==============================] - 22s 448us/step - loss: 0.6903 - acc: 0.7834 - val_loss: 1.5583 - val_acc: 0.4912\n",
            "Epoch 40/50\n",
            "50000/50000 [==============================] - 20s 408us/step - loss: 0.6699 - acc: 0.7911 - val_loss: 1.5743 - val_acc: 0.4847\n",
            "Epoch 41/50\n",
            "50000/50000 [==============================] - 18s 352us/step - loss: 0.6516 - acc: 0.7993 - val_loss: 1.5928 - val_acc: 0.4878\n",
            "Epoch 42/50\n",
            "50000/50000 [==============================] - 18s 353us/step - loss: 0.6336 - acc: 0.8054 - val_loss: 1.6022 - val_acc: 0.4902\n",
            "Epoch 43/50\n",
            "50000/50000 [==============================] - 17s 347us/step - loss: 0.6127 - acc: 0.8133 - val_loss: 1.6035 - val_acc: 0.4927\n",
            "Epoch 00043: early stopping\n"
          ],
          "name": "stdout"
        }
      ]
    },
    {
      "metadata": {
        "id": "1q0fRU3GYRXV",
        "colab_type": "code",
        "colab": {
          "base_uri": "https://localhost:8080/",
          "height": 545
        },
        "outputId": "81f97475-fc0b-4fd5-8681-54fb0b9637c7"
      },
      "cell_type": "code",
      "source": [
        "import matplotlib.pyplot as plt\n",
        "%matplotlib inline\n",
        "\n",
        "plt.plot(range(len(train_loss)), train_loss, label=\"train loss\")\n",
        "plt.plot(range(len(valid_loss)), valid_loss, label=\"valid loss\")\n",
        "plt.legend()\n",
        "plt.title(\"Loss\")\n",
        "plt.show()\n",
        "\n",
        "plt.plot(range(len(train_acc)), train_acc, label=\"train accuracy\")\n",
        "plt.plot(range(len(valid_acc)), valid_acc, label=\"valid accuracy\")\n",
        "plt.legend()\n",
        "plt.title(\"Accuracy\")\n",
        "plt.show()"
      ],
      "execution_count": 11,
      "outputs": [
        {
          "output_type": "display_data",
          "data": {
            "image/png": "[encoded data removed]",
            "text/plain": [
              "<Figure size 432x288 with 1 Axes>"
            ]
          },
          "metadata": {
            "tags": []
          }
        },
        {
          "output_type": "display_data",
          "data": {
            "image/png": "[encoded data removed]",
            "text/plain": [
              "<Figure size 432x288 with 1 Axes>"
            ]
          },
          "metadata": {
            "tags": []
          }
        }
      ]
    },
    {
      "metadata": {
        "id": "7mSzVcaEYTSA",
        "colab_type": "code",
        "colab": {}
      },
      "cell_type": "code",
      "source": [
        ""
      ],
      "execution_count": 0,
      "outputs": []
    }
  ]
}