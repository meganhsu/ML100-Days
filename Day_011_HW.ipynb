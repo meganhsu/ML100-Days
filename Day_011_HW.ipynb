{
  "nbformat": 4,
  "nbformat_minor": 0,
  "metadata": {
    "colab": {
      "name": "Day_011_HW.ipynb",
      "version": "0.3.2",
      "provenance": [],
      "include_colab_link": true
    },
    "language_info": {
      "codemirror_mode": {
        "name": "ipython",
        "version": 3
      },
      "file_extension": ".py",
      "mimetype": "text/x-python",
      "name": "python",
      "nbconvert_exporter": "python",
      "pygments_lexer": "ipython3",
      "version": "3.7.3"
    },
    "kernelspec": {
      "display_name": "Python 3",
      "language": "python",
      "name": "python3"
    }
  },
  "cells": [
    {
      "cell_type": "markdown",
      "metadata": {
        "id": "view-in-github",
        "colab_type": "text"
      },
      "source": [
        "<a href=\"https://colab.research.google.com/github/meganhsu/ML100-Days/blob/master/Day_011_HW.ipynb\" target=\"_parent\"><img src=\"https://colab.research.google.com/assets/colab-badge.svg\" alt=\"Open In Colab\"/></a>"
      ]
    },
    {
      "metadata": {
        "id": "tZu5ZhO6pyTI",
        "colab_type": "text"
      },
      "cell_type": "markdown",
      "source": [
        "# [EDA] 了解變數分布狀態: Bar & KDE (density plot)"
      ]
    },
    {
      "metadata": {
        "id": "ElT3CDdzpyTK",
        "colab_type": "code",
        "colab": {},
        "outputId": "431b4d67-8dee-4c0b-df7d-7f5c9a471fb8"
      },
      "cell_type": "code",
      "source": [
        "# Import 需要的套件\n",
        "import os\n",
        "import numpy as np\n",
        "import pandas as pd\n",
        "import matplotlib.pyplot as plt\n",
        "# !pip install seaborn\n",
        "import seaborn as sns # 另一個繪圖-樣式套件\n",
        "\n",
        "%matplotlib inline\n",
        "plt.style.use('ggplot')\n",
        "\n",
        "import warnings\n",
        "warnings.filterwarnings('ignore')\n",
        "\n",
        "# 設定 data_path\n",
        "dir_data = './data/'"
      ],
      "execution_count": 0,
      "outputs": [
        {
          "output_type": "stream",
          "text": [
            "Collecting seaborn\n",
            "  Using cached https://files.pythonhosted.org/packages/a8/76/220ba4420459d9c4c9c9587c6ce607bf56c25b3d3d2de62056efe482dadc/seaborn-0.9.0-py3-none-any.whl\n",
            "Requirement already satisfied: scipy>=0.14.0 in c:\\users\\user\\appdata\\local\\programs\\python\\python37-32\\lib\\site-packages (from seaborn) (1.2.1)\n",
            "Requirement already satisfied: numpy>=1.9.3 in c:\\users\\user\\appdata\\local\\programs\\python\\python37-32\\lib\\site-packages (from seaborn) (1.16.2)\n",
            "Requirement already satisfied: pandas>=0.15.2 in c:\\users\\user\\appdata\\local\\programs\\python\\python37-32\\lib\\site-packages (from seaborn) (0.24.2)\n",
            "Requirement already satisfied: matplotlib>=1.4.3 in c:\\users\\user\\appdata\\local\\programs\\python\\python37-32\\lib\\site-packages (from seaborn) (3.0.3)\n",
            "Requirement already satisfied: pytz>=2011k in c:\\users\\user\\appdata\\local\\programs\\python\\python37-32\\lib\\site-packages (from pandas>=0.15.2->seaborn) (2019.1)\n",
            "Requirement already satisfied: python-dateutil>=2.5.0 in c:\\users\\user\\appdata\\local\\programs\\python\\python37-32\\lib\\site-packages (from pandas>=0.15.2->seaborn) (2.8.0)\n",
            "Requirement already satisfied: pyparsing!=2.0.4,!=2.1.2,!=2.1.6,>=2.0.1 in c:\\users\\user\\appdata\\local\\programs\\python\\python37-32\\lib\\site-packages (from matplotlib>=1.4.3->seaborn) (2.4.0)\n",
            "Requirement already satisfied: cycler>=0.10 in c:\\users\\user\\appdata\\local\\programs\\python\\python37-32\\lib\\site-packages (from matplotlib>=1.4.3->seaborn) (0.10.0)\n",
            "Requirement already satisfied: kiwisolver>=1.0.1 in c:\\users\\user\\appdata\\local\\programs\\python\\python37-32\\lib\\site-packages (from matplotlib>=1.4.3->seaborn) (1.0.1)\n",
            "Requirement already satisfied: six>=1.5 in c:\\users\\user\\appdata\\local\\programs\\python\\python37-32\\lib\\site-packages (from python-dateutil>=2.5.0->pandas>=0.15.2->seaborn) (1.12.0)\n",
            "Requirement already satisfied: setuptools in c:\\users\\user\\appdata\\local\\programs\\python\\python37-32\\lib\\site-packages (from kiwisolver>=1.0.1->matplotlib>=1.4.3->seaborn) (40.8.0)\n",
            "Installing collected packages: seaborn\n",
            "Successfully installed seaborn-0.9.0\n"
          ],
          "name": "stdout"
        }
      ]
    },
    {
      "metadata": {
        "id": "9dmGydy-pyTW",
        "colab_type": "code",
        "colab": {},
        "outputId": "fb7f3967-cadd-4b02-9366-53db92e7eeb6"
      },
      "cell_type": "code",
      "source": [
        "f_app = os.path.join(dir_data, 'application_train.csv')\n",
        "print('Path of read in data: %s' % (f_app))\n",
        "app_train = pd.read_csv(f_app)\n",
        "app_train.head()"
      ],
      "execution_count": 0,
      "outputs": [
        {
          "output_type": "stream",
          "text": [
            "Path of read in data: ./data/application_train.csv\n"
          ],
          "name": "stdout"
        },
        {
          "output_type": "execute_result",
          "data": {
            "text/html": [
              "<div>\n",
              "<style scoped>\n",
              "    .dataframe tbody tr th:only-of-type {\n",
              "        vertical-align: middle;\n",
              "    }\n",
              "\n",
              "    .dataframe tbody tr th {\n",
              "        vertical-align: top;\n",
              "    }\n",
              "\n",
              "    .dataframe thead th {\n",
              "        text-align: right;\n",
              "    }\n",
              "</style>\n",
              "<table border=\"1\" class=\"dataframe\">\n",
              "  <thead>\n",
              "    <tr style=\"text-align: right;\">\n",
              "      <th></th>\n",
              "      <th>SK_ID_CURR</th>\n",
              "      <th>TARGET</th>\n",
              "      <th>NAME_CONTRACT_TYPE</th>\n",
              "      <th>CODE_GENDER</th>\n",
              "      <th>FLAG_OWN_CAR</th>\n",
              "      <th>FLAG_OWN_REALTY</th>\n",
              "      <th>CNT_CHILDREN</th>\n",
              "      <th>AMT_INCOME_TOTAL</th>\n",
              "      <th>AMT_CREDIT</th>\n",
              "      <th>AMT_ANNUITY</th>\n",
              "      <th>...</th>\n",
              "      <th>FLAG_DOCUMENT_18</th>\n",
              "      <th>FLAG_DOCUMENT_19</th>\n",
              "      <th>FLAG_DOCUMENT_20</th>\n",
              "      <th>FLAG_DOCUMENT_21</th>\n",
              "      <th>AMT_REQ_CREDIT_BUREAU_HOUR</th>\n",
              "      <th>AMT_REQ_CREDIT_BUREAU_DAY</th>\n",
              "      <th>AMT_REQ_CREDIT_BUREAU_WEEK</th>\n",
              "      <th>AMT_REQ_CREDIT_BUREAU_MON</th>\n",
              "      <th>AMT_REQ_CREDIT_BUREAU_QRT</th>\n",
              "      <th>AMT_REQ_CREDIT_BUREAU_YEAR</th>\n",
              "    </tr>\n",
              "  </thead>\n",
              "  <tbody>\n",
              "    <tr>\n",
              "      <th>0</th>\n",
              "      <td>100002</td>\n",
              "      <td>1</td>\n",
              "      <td>Cash loans</td>\n",
              "      <td>M</td>\n",
              "      <td>N</td>\n",
              "      <td>Y</td>\n",
              "      <td>0</td>\n",
              "      <td>202500.0</td>\n",
              "      <td>406597.5</td>\n",
              "      <td>24700.5</td>\n",
              "      <td>...</td>\n",
              "      <td>0</td>\n",
              "      <td>0</td>\n",
              "      <td>0</td>\n",
              "      <td>0</td>\n",
              "      <td>0.0</td>\n",
              "      <td>0.0</td>\n",
              "      <td>0.0</td>\n",
              "      <td>0.0</td>\n",
              "      <td>0.0</td>\n",
              "      <td>1.0</td>\n",
              "    </tr>\n",
              "    <tr>\n",
              "      <th>1</th>\n",
              "      <td>100003</td>\n",
              "      <td>0</td>\n",
              "      <td>Cash loans</td>\n",
              "      <td>F</td>\n",
              "      <td>N</td>\n",
              "      <td>N</td>\n",
              "      <td>0</td>\n",
              "      <td>270000.0</td>\n",
              "      <td>1293502.5</td>\n",
              "      <td>35698.5</td>\n",
              "      <td>...</td>\n",
              "      <td>0</td>\n",
              "      <td>0</td>\n",
              "      <td>0</td>\n",
              "      <td>0</td>\n",
              "      <td>0.0</td>\n",
              "      <td>0.0</td>\n",
              "      <td>0.0</td>\n",
              "      <td>0.0</td>\n",
              "      <td>0.0</td>\n",
              "      <td>0.0</td>\n",
              "    </tr>\n",
              "    <tr>\n",
              "      <th>2</th>\n",
              "      <td>100004</td>\n",
              "      <td>0</td>\n",
              "      <td>Revolving loans</td>\n",
              "      <td>M</td>\n",
              "      <td>Y</td>\n",
              "      <td>Y</td>\n",
              "      <td>0</td>\n",
              "      <td>67500.0</td>\n",
              "      <td>135000.0</td>\n",
              "      <td>6750.0</td>\n",
              "      <td>...</td>\n",
              "      <td>0</td>\n",
              "      <td>0</td>\n",
              "      <td>0</td>\n",
              "      <td>0</td>\n",
              "      <td>0.0</td>\n",
              "      <td>0.0</td>\n",
              "      <td>0.0</td>\n",
              "      <td>0.0</td>\n",
              "      <td>0.0</td>\n",
              "      <td>0.0</td>\n",
              "    </tr>\n",
              "    <tr>\n",
              "      <th>3</th>\n",
              "      <td>100006</td>\n",
              "      <td>0</td>\n",
              "      <td>Cash loans</td>\n",
              "      <td>F</td>\n",
              "      <td>N</td>\n",
              "      <td>Y</td>\n",
              "      <td>0</td>\n",
              "      <td>135000.0</td>\n",
              "      <td>312682.5</td>\n",
              "      <td>29686.5</td>\n",
              "      <td>...</td>\n",
              "      <td>0</td>\n",
              "      <td>0</td>\n",
              "      <td>0</td>\n",
              "      <td>0</td>\n",
              "      <td>NaN</td>\n",
              "      <td>NaN</td>\n",
              "      <td>NaN</td>\n",
              "      <td>NaN</td>\n",
              "      <td>NaN</td>\n",
              "      <td>NaN</td>\n",
              "    </tr>\n",
              "    <tr>\n",
              "      <th>4</th>\n",
              "      <td>100007</td>\n",
              "      <td>0</td>\n",
              "      <td>Cash loans</td>\n",
              "      <td>M</td>\n",
              "      <td>N</td>\n",
              "      <td>Y</td>\n",
              "      <td>0</td>\n",
              "      <td>121500.0</td>\n",
              "      <td>513000.0</td>\n",
              "      <td>21865.5</td>\n",
              "      <td>...</td>\n",
              "      <td>0</td>\n",
              "      <td>0</td>\n",
              "      <td>0</td>\n",
              "      <td>0</td>\n",
              "      <td>0.0</td>\n",
              "      <td>0.0</td>\n",
              "      <td>0.0</td>\n",
              "      <td>0.0</td>\n",
              "      <td>0.0</td>\n",
              "      <td>0.0</td>\n",
              "    </tr>\n",
              "  </tbody>\n",
              "</table>\n",
              "<p>5 rows × 122 columns</p>\n",
              "</div>"
            ],
            "text/plain": [
              "   SK_ID_CURR  TARGET NAME_CONTRACT_TYPE CODE_GENDER FLAG_OWN_CAR  \\\n",
              "0      100002       1         Cash loans           M            N   \n",
              "1      100003       0         Cash loans           F            N   \n",
              "2      100004       0    Revolving loans           M            Y   \n",
              "3      100006       0         Cash loans           F            N   \n",
              "4      100007       0         Cash loans           M            N   \n",
              "\n",
              "  FLAG_OWN_REALTY  CNT_CHILDREN  AMT_INCOME_TOTAL  AMT_CREDIT  AMT_ANNUITY  \\\n",
              "0               Y             0          202500.0    406597.5      24700.5   \n",
              "1               N             0          270000.0   1293502.5      35698.5   \n",
              "2               Y             0           67500.0    135000.0       6750.0   \n",
              "3               Y             0          135000.0    312682.5      29686.5   \n",
              "4               Y             0          121500.0    513000.0      21865.5   \n",
              "\n",
              "   ...  FLAG_DOCUMENT_18 FLAG_DOCUMENT_19 FLAG_DOCUMENT_20 FLAG_DOCUMENT_21  \\\n",
              "0  ...                 0                0                0                0   \n",
              "1  ...                 0                0                0                0   \n",
              "2  ...                 0                0                0                0   \n",
              "3  ...                 0                0                0                0   \n",
              "4  ...                 0                0                0                0   \n",
              "\n",
              "  AMT_REQ_CREDIT_BUREAU_HOUR AMT_REQ_CREDIT_BUREAU_DAY  \\\n",
              "0                        0.0                       0.0   \n",
              "1                        0.0                       0.0   \n",
              "2                        0.0                       0.0   \n",
              "3                        NaN                       NaN   \n",
              "4                        0.0                       0.0   \n",
              "\n",
              "   AMT_REQ_CREDIT_BUREAU_WEEK  AMT_REQ_CREDIT_BUREAU_MON  \\\n",
              "0                         0.0                        0.0   \n",
              "1                         0.0                        0.0   \n",
              "2                         0.0                        0.0   \n",
              "3                         NaN                        NaN   \n",
              "4                         0.0                        0.0   \n",
              "\n",
              "   AMT_REQ_CREDIT_BUREAU_QRT  AMT_REQ_CREDIT_BUREAU_YEAR  \n",
              "0                        0.0                         1.0  \n",
              "1                        0.0                         0.0  \n",
              "2                        0.0                         0.0  \n",
              "3                        NaN                         NaN  \n",
              "4                        0.0                         0.0  \n",
              "\n",
              "[5 rows x 122 columns]"
            ]
          },
          "metadata": {
            "tags": []
          },
          "execution_count": 3
        }
      ]
    },
    {
      "metadata": {
        "id": "5I2FZwCKpyTe",
        "colab_type": "code",
        "colab": {}
      },
      "cell_type": "code",
      "source": [
        "app_train['DAYS_BIRTH'] = abs(app_train['DAYS_BIRTH'])"
      ],
      "execution_count": 0,
      "outputs": []
    },
    {
      "metadata": {
        "id": "MCx6nl1ppyTj",
        "colab_type": "text"
      },
      "cell_type": "markdown",
      "source": [
        "# To do: 變項的分群比較\n",
        "1. 自 20 到 70 歲，切 11 個點，進行分群比較 (KDE plot)\n",
        "2. 以年齡區間為 x, target 為 y 繪製 barplot"
      ]
    },
    {
      "metadata": {
        "id": "EMDcbKAspyTl",
        "colab_type": "code",
        "colab": {},
        "outputId": "16d11028-a1f4-4ec2-a0e1-364f9ec738c4"
      },
      "cell_type": "code",
      "source": [
        "# 根據年齡分成不同組別 (年齡區間 - 還款與否)\n",
        "age_data = app_train[['TARGET', 'DAYS_BIRTH']] # subset\n",
        "age_data['YEARS_BIRTH'] = age_data['DAYS_BIRTH'] / 365 # day-age to year-age\n",
        "\n",
        "# Continous to Discrete\n",
        "\"\"\"\n",
        "Your Code Here\n",
        "\"\"\"\n",
        "bin_cut =  np.linspace(20, 70, 11)#自 20 到 70 歲，切 11 個點 (得到 10 組)\n",
        "age_data['YEARS_BINNED'] = pd.cut(age_data['YEARS_BIRTH'], \n",
        "                                  bins = bin_cut) \n",
        "\n",
        "print(age_data['YEARS_BINNED'].value_counts())\n",
        "age_data.head()"
      ],
      "execution_count": 0,
      "outputs": [
        {
          "output_type": "stream",
          "text": [
            "(35.0, 40.0]    42868\n",
            "(40.0, 45.0]    41406\n",
            "(30.0, 35.0]    39440\n",
            "(45.0, 50.0]    35135\n",
            "(50.0, 55.0]    34942\n",
            "(55.0, 60.0]    33120\n",
            "(25.0, 30.0]    32862\n",
            "(60.0, 65.0]    27476\n",
            "(20.0, 25.0]    12159\n",
            "(65.0, 70.0]     8103\n",
            "Name: YEARS_BINNED, dtype: int64\n"
          ],
          "name": "stdout"
        },
        {
          "output_type": "execute_result",
          "data": {
            "text/html": [
              "<div>\n",
              "<style scoped>\n",
              "    .dataframe tbody tr th:only-of-type {\n",
              "        vertical-align: middle;\n",
              "    }\n",
              "\n",
              "    .dataframe tbody tr th {\n",
              "        vertical-align: top;\n",
              "    }\n",
              "\n",
              "    .dataframe thead th {\n",
              "        text-align: right;\n",
              "    }\n",
              "</style>\n",
              "<table border=\"1\" class=\"dataframe\">\n",
              "  <thead>\n",
              "    <tr style=\"text-align: right;\">\n",
              "      <th></th>\n",
              "      <th>TARGET</th>\n",
              "      <th>DAYS_BIRTH</th>\n",
              "      <th>YEARS_BIRTH</th>\n",
              "      <th>YEARS_BINNED</th>\n",
              "    </tr>\n",
              "  </thead>\n",
              "  <tbody>\n",
              "    <tr>\n",
              "      <th>0</th>\n",
              "      <td>1</td>\n",
              "      <td>9461</td>\n",
              "      <td>25.920548</td>\n",
              "      <td>(25.0, 30.0]</td>\n",
              "    </tr>\n",
              "    <tr>\n",
              "      <th>1</th>\n",
              "      <td>0</td>\n",
              "      <td>16765</td>\n",
              "      <td>45.931507</td>\n",
              "      <td>(45.0, 50.0]</td>\n",
              "    </tr>\n",
              "    <tr>\n",
              "      <th>2</th>\n",
              "      <td>0</td>\n",
              "      <td>19046</td>\n",
              "      <td>52.180822</td>\n",
              "      <td>(50.0, 55.0]</td>\n",
              "    </tr>\n",
              "    <tr>\n",
              "      <th>3</th>\n",
              "      <td>0</td>\n",
              "      <td>19005</td>\n",
              "      <td>52.068493</td>\n",
              "      <td>(50.0, 55.0]</td>\n",
              "    </tr>\n",
              "    <tr>\n",
              "      <th>4</th>\n",
              "      <td>0</td>\n",
              "      <td>19932</td>\n",
              "      <td>54.608219</td>\n",
              "      <td>(50.0, 55.0]</td>\n",
              "    </tr>\n",
              "  </tbody>\n",
              "</table>\n",
              "</div>"
            ],
            "text/plain": [
              "   TARGET  DAYS_BIRTH  YEARS_BIRTH  YEARS_BINNED\n",
              "0       1        9461    25.920548  (25.0, 30.0]\n",
              "1       0       16765    45.931507  (45.0, 50.0]\n",
              "2       0       19046    52.180822  (50.0, 55.0]\n",
              "3       0       19005    52.068493  (50.0, 55.0]\n",
              "4       0       19932    54.608219  (50.0, 55.0]"
            ]
          },
          "metadata": {
            "tags": []
          },
          "execution_count": 6
        }
      ]
    },
    {
      "metadata": {
        "id": "IK-EHMtcpyTq",
        "colab_type": "code",
        "colab": {},
        "outputId": "a37e191b-d6ca-4aaa-f263-2f4c716ed875"
      },
      "cell_type": "code",
      "source": [
        "\"\"\"\n",
        "Your Code Here\n",
        "\"\"\"\n",
        "year_group_sorted = age_data.sort_values(by='YEARS_BINNED')['YEARS_BINNED'].unique()\n",
        "\n",
        "plt.figure(figsize=(8,6))\n",
        "for i in range(len(year_group_sorted)):\n",
        "    sns.distplot(age_data.loc[(age_data['YEARS_BINNED'] == year_group_sorted[i]) & \\\n",
        "                              (age_data['TARGET'] == 0), 'YEARS_BIRTH'], label = str(year_group_sorted[i]))\n",
        "    \n",
        "    sns.distplot(age_data.loc[(age_data['YEARS_BINNED'] == year_group_sorted[i]) & \\\n",
        "                              (age_data['TARGET'] == 1), 'YEARS_BIRTH'], label = str(year_group_sorted[i]))\n",
        "plt.title('KDE with Age groups')\n",
        "plt.show()"
      ],
      "execution_count": 0,
      "outputs": [
        {
          "output_type": "display_data",
          "data": {
            "image/png": "[encoded data removed]",
            "text/plain": [
              "<Figure size 576x432 with 1 Axes>"
            ]
          },
          "metadata": {
            "tags": []
          }
        }
      ]
    },
    {
      "metadata": {
        "id": "WbeELw7fpyTu",
        "colab_type": "code",
        "colab": {},
        "outputId": "74c7ddac-5439-481f-9eab-aadc3d8a5b1b"
      },
      "cell_type": "code",
      "source": [
        "age_data['YEARS_BINNED'].value_counts().sort_values()\n"
      ],
      "execution_count": 0,
      "outputs": [
        {
          "output_type": "execute_result",
          "data": {
            "text/plain": [
              "(65.0, 70.0]     8103\n",
              "(20.0, 25.0]    12159\n",
              "(60.0, 65.0]    27476\n",
              "(25.0, 30.0]    32862\n",
              "(55.0, 60.0]    33120\n",
              "(50.0, 55.0]    34942\n",
              "(45.0, 50.0]    35135\n",
              "(30.0, 35.0]    39440\n",
              "(40.0, 45.0]    41406\n",
              "(35.0, 40.0]    42868\n",
              "Name: YEARS_BINNED, dtype: int64"
            ]
          },
          "metadata": {
            "tags": []
          },
          "execution_count": 10
        }
      ]
    },
    {
      "metadata": {
        "id": "EXgMxtYYpyTy",
        "colab_type": "code",
        "colab": {},
        "outputId": "bf3d60af-8166-44ec-c6de-eb61bbaf4637"
      },
      "cell_type": "code",
      "source": [
        "# 計算每個年齡區間的 Target、DAYS_BIRTH與 YEARS_BIRTH 的平均值\n",
        "age_groups  = age_data.groupby('YEARS_BINNED').mean()\n",
        "age_groups"
      ],
      "execution_count": 0,
      "outputs": [
        {
          "output_type": "execute_result",
          "data": {
            "text/html": [
              "<div>\n",
              "<style scoped>\n",
              "    .dataframe tbody tr th:only-of-type {\n",
              "        vertical-align: middle;\n",
              "    }\n",
              "\n",
              "    .dataframe tbody tr th {\n",
              "        vertical-align: top;\n",
              "    }\n",
              "\n",
              "    .dataframe thead th {\n",
              "        text-align: right;\n",
              "    }\n",
              "</style>\n",
              "<table border=\"1\" class=\"dataframe\">\n",
              "  <thead>\n",
              "    <tr style=\"text-align: right;\">\n",
              "      <th></th>\n",
              "      <th>TARGET</th>\n",
              "      <th>DAYS_BIRTH</th>\n",
              "      <th>YEARS_BIRTH</th>\n",
              "    </tr>\n",
              "    <tr>\n",
              "      <th>YEARS_BINNED</th>\n",
              "      <th></th>\n",
              "      <th></th>\n",
              "      <th></th>\n",
              "    </tr>\n",
              "  </thead>\n",
              "  <tbody>\n",
              "    <tr>\n",
              "      <th>(20.0, 25.0]</th>\n",
              "      <td>0.123036</td>\n",
              "      <td>8532.795625</td>\n",
              "      <td>23.377522</td>\n",
              "    </tr>\n",
              "    <tr>\n",
              "      <th>(25.0, 30.0]</th>\n",
              "      <td>0.111436</td>\n",
              "      <td>10155.219250</td>\n",
              "      <td>27.822518</td>\n",
              "    </tr>\n",
              "    <tr>\n",
              "      <th>(30.0, 35.0]</th>\n",
              "      <td>0.102814</td>\n",
              "      <td>11854.848377</td>\n",
              "      <td>32.479037</td>\n",
              "    </tr>\n",
              "    <tr>\n",
              "      <th>(35.0, 40.0]</th>\n",
              "      <td>0.089414</td>\n",
              "      <td>13707.908253</td>\n",
              "      <td>37.555913</td>\n",
              "    </tr>\n",
              "    <tr>\n",
              "      <th>(40.0, 45.0]</th>\n",
              "      <td>0.078491</td>\n",
              "      <td>15497.661233</td>\n",
              "      <td>42.459346</td>\n",
              "    </tr>\n",
              "    <tr>\n",
              "      <th>(45.0, 50.0]</th>\n",
              "      <td>0.074171</td>\n",
              "      <td>17323.900441</td>\n",
              "      <td>47.462741</td>\n",
              "    </tr>\n",
              "    <tr>\n",
              "      <th>(50.0, 55.0]</th>\n",
              "      <td>0.066968</td>\n",
              "      <td>19196.494791</td>\n",
              "      <td>52.593136</td>\n",
              "    </tr>\n",
              "    <tr>\n",
              "      <th>(55.0, 60.0]</th>\n",
              "      <td>0.055314</td>\n",
              "      <td>20984.262742</td>\n",
              "      <td>57.491131</td>\n",
              "    </tr>\n",
              "    <tr>\n",
              "      <th>(60.0, 65.0]</th>\n",
              "      <td>0.052737</td>\n",
              "      <td>22780.547460</td>\n",
              "      <td>62.412459</td>\n",
              "    </tr>\n",
              "    <tr>\n",
              "      <th>(65.0, 70.0]</th>\n",
              "      <td>0.037270</td>\n",
              "      <td>24292.614340</td>\n",
              "      <td>66.555108</td>\n",
              "    </tr>\n",
              "  </tbody>\n",
              "</table>\n",
              "</div>"
            ],
            "text/plain": [
              "                TARGET    DAYS_BIRTH  YEARS_BIRTH\n",
              "YEARS_BINNED                                     \n",
              "(20.0, 25.0]  0.123036   8532.795625    23.377522\n",
              "(25.0, 30.0]  0.111436  10155.219250    27.822518\n",
              "(30.0, 35.0]  0.102814  11854.848377    32.479037\n",
              "(35.0, 40.0]  0.089414  13707.908253    37.555913\n",
              "(40.0, 45.0]  0.078491  15497.661233    42.459346\n",
              "(45.0, 50.0]  0.074171  17323.900441    47.462741\n",
              "(50.0, 55.0]  0.066968  19196.494791    52.593136\n",
              "(55.0, 60.0]  0.055314  20984.262742    57.491131\n",
              "(60.0, 65.0]  0.052737  22780.547460    62.412459\n",
              "(65.0, 70.0]  0.037270  24292.614340    66.555108"
            ]
          },
          "metadata": {
            "tags": []
          },
          "execution_count": 9
        }
      ]
    },
    {
      "metadata": {
        "id": "r22m6inupyT2",
        "colab_type": "code",
        "colab": {},
        "outputId": "1cf9a0ea-6e5d-4335-b756-bdee7437b5a4"
      },
      "cell_type": "code",
      "source": [
        "plt.figure(figsize = (8, 8))\n",
        "\n",
        "# 以年齡區間為 x, target 為 y 繪製 barplot\n",
        "\"\"\"\n",
        "Your Code Here\n",
        "\"\"\"\n",
        "px = age_data['YEARS_BINNED']\n",
        "py = age_data['TARGET']\n",
        "sns.barplot(px, py)\n",
        "\n",
        "# Plot labeling\n",
        "plt.xticks(rotation = 75); plt.xlabel('Age Group (years)'); plt.ylabel('Failure to Repay (%)')\n",
        "plt.title('Failure to Repay by Age Group');"
      ],
      "execution_count": 0,
      "outputs": [
        {
          "output_type": "display_data",
          "data": {
            "image/png": "[encoded data removed]",
            "text/plain": [
              "<Figure size 576x576 with 1 Axes>"
            ]
          },
          "metadata": {
            "tags": []
          }
        }
      ]
    }
  ]
}