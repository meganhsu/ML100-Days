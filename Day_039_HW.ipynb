{
  "nbformat": 4,
  "nbformat_minor": 0,
  "metadata": {
    "colab": {
      "name": "Day_039_HW.ipynb",
      "version": "0.3.2",
      "provenance": [],
      "include_colab_link": true
    },
    "language_info": {
      "codemirror_mode": {
        "name": "ipython",
        "version": 3
      },
      "file_extension": ".py",
      "mimetype": "text/x-python",
      "name": "python",
      "nbconvert_exporter": "python",
      "pygments_lexer": "ipython3",
      "version": "3.7.3"
    },
    "kernelspec": {
      "display_name": "Python 3",
      "language": "python",
      "name": "python3"
    }
  },
  "cells": [
    {
      "cell_type": "markdown",
      "metadata": {
        "id": "view-in-github",
        "colab_type": "text"
      },
      "source": [
        "<a href=\"https://colab.research.google.com/github/meganhsu/ML100-Days/blob/master/Day_039_HW.ipynb\" target=\"_parent\"><img src=\"https://colab.research.google.com/assets/colab-badge.svg\" alt=\"Open In Colab\"/></a>"
      ]
    },
    {
      "metadata": {
        "id": "QGofr7Os9clO",
        "colab_type": "text"
      },
      "cell_type": "markdown",
      "source": [
        "## 作業"
      ]
    },
    {
      "metadata": {
        "id": "EuumV7NT9clP",
        "colab_type": "text"
      },
      "cell_type": "markdown",
      "source": [
        "請閱讀相關文獻，並回答下列問題\n",
        "\n",
        "[脊回歸 (Ridge Regression)](https://blog.csdn.net/daunxx/article/details/51578787)\n",
        "[Linear, Ridge, Lasso Regression 本質區別](https://www.zhihu.com/question/38121173)\n",
        "\n",
        "1. LASSO 回歸可以被用來作為 Feature selection 的工具，請了解 LASSO 模型為什麼可用來作 Feature selection\n",
        "\n",
        "\n",
        "ans:Lasso 由於其限制式為L1的關係，其可將係數直接估計為0，而ridge 期限制是為L2的關係，僅能將係數估計為很小。因此Lasso可用來作為特徵選擇\n",
        "2. 當自變數 (X) 存在高度共線性時，Ridge Regression 可以處理這樣的問題嗎?\n",
        "ans:可以。Ridge Regression 存在L2限制式，限制係數的增長，亦可以將共線性X對應係數估計變小，使其共線性影響變小。\n"
      ]
    },
    {
      "metadata": {
        "id": "urdf4mPA9clQ",
        "colab_type": "code",
        "colab": {}
      },
      "cell_type": "code",
      "source": [
        ""
      ],
      "execution_count": 0,
      "outputs": []
    }
  ]
}